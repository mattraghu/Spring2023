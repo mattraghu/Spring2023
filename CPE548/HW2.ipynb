{
 "cells": [
  {
   "cell_type": "code",
   "execution_count": 4,
   "metadata": {},
   "outputs": [],
   "source": [
    "from sympy import *\n",
    "import numpy as np"
   ]
  },
  {
   "cell_type": "code",
   "execution_count": 5,
   "metadata": {},
   "outputs": [],
   "source": [
    "pi = np.pi"
   ]
  },
  {
   "cell_type": "code",
   "execution_count": 11,
   "metadata": {},
   "outputs": [
    {
     "name": "stdout",
     "output_type": "stream",
     "text": [
      "6897.429502809463\n"
     ]
    }
   ],
   "source": [
    "#Given this 1.2 2.9 −4.2 2.4 −3.2 −0.9 4.4 4.2 −0.8 3.9\n",
    "#Computer the square sum of all\n",
    "x = [1.2, 2.9, -4.2, 2.4, -3.2, -0.9, 4.4, 4.2, -0.8, 3.9]\n",
    "\n",
    "#Also each element in x multiply by n^2. n is between -3 and 6\n",
    "n = np.arange(-3, 7, 1)\n",
    "\n",
    "solution = 0 \n",
    "for i in range(len(x)):\n",
    "    solution += x[i]**2*(n[i]**2)\n",
    "print(solution*2*pi)\n"
   ]
  },
  {
   "cell_type": "code",
   "execution_count": 22,
   "metadata": {},
   "outputs": [
    {
     "name": "stdout",
     "output_type": "stream",
     "text": [
      "-0.1 - 0.7*I\n",
      "(1.3 + I)*exp(2.35619449019234*I)\n",
      "(2 + 0.7*I)*exp(4.71238898038469*I)\n",
      "(1.1 + 2.2*I)*exp(7.06858347057703*I)\n",
      "(-0.8 + 0.2*I)*exp(9.42477796076938*I)\n",
      "(3.4 - 0.1*I)*exp(11.7809724509617*I)\n",
      "(-1.2 + 3.1*I)*exp(14.1371669411541*I)\n",
      "1.5*I*exp(16.4933614313464*I)\n"
     ]
    }
   ],
   "source": [
    "#G[k] = {2.6+j4.1, 3−j2.7, −4.2+j1.4, 3.5−j2.6, 0.5, 1.3+j4.4, 2.4 − j1.6, −3 + j1.6}\n",
    "#For all k, create a sympy equation\n",
    "\n",
    "j = I\n",
    "G = [2.6+j*4.1, 3-j*2.7, -4.2+j*1.4, 3.5-j*2.6, 0.5, 1.3+j*4.4, 2.4-j*1.6, -3+j*1.6]\n",
    "\n",
    "#Now G[k] = {−0.1 − j0.7, 1.3 + j, 2 + j0.7, 1.1 + j2.2 , −0.8 + j0.2, 3.4 − j0.1, −1.2 + j3.1, j1.5}\n",
    "G = [-0.1-j*0.7, 1.3+j, 2+j*0.7, 1.1+j*2.2, -0.8+j*0.2, 3.4-j*0.1, -1.2+j*3.1, j*1.5]\n",
    "\n",
    "k = symbols('k')\n",
    "multiplier = exp(-j*2*pi*k*-3/8)\n",
    "\n",
    "for i in range(len(G)):\n",
    "    mult = multiplier.subs(k, i)\n",
    "    print(simplify(G[i]*mult))"
   ]
  }
 ],
 "metadata": {
  "kernelspec": {
   "display_name": "Python 3",
   "language": "python",
   "name": "python3"
  },
  "language_info": {
   "codemirror_mode": {
    "name": "ipython",
    "version": 3
   },
   "file_extension": ".py",
   "mimetype": "text/x-python",
   "name": "python",
   "nbconvert_exporter": "python",
   "pygments_lexer": "ipython3",
   "version": "3.8.3"
  },
  "orig_nbformat": 4,
  "vscode": {
   "interpreter": {
    "hash": "1f59d50658d4cd97c33559e64c64cdabcc2031b5c15f33137a9aa45101c8cb06"
   }
  }
 },
 "nbformat": 4,
 "nbformat_minor": 2
}
