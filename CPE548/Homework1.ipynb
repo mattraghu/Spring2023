{
 "cells": [
  {
   "cell_type": "code",
   "execution_count": 2,
   "metadata": {},
   "outputs": [],
   "source": [
    "import numpy as np\n",
    "from sympy import *"
   ]
  },
  {
   "cell_type": "code",
   "execution_count": 3,
   "metadata": {},
   "outputs": [
    {
     "name": "stdout",
     "output_type": "stream",
     "text": [
      "-----------------\n",
      "c[n] =  [ 0.  0.  2.  0. -3. -2.  1.]\n",
      "n>=-3 and n<=3\n",
      "-----------------\n",
      "d[n] =  [0. 0. 0. 0. 0. 0. 0.]\n",
      "n>=-1 and n<=5\n",
      "-----------------\n",
      "e[n] =  [0. 0. 0. 0. 0. 0. 0.]\n",
      "n>=2 and n<=8\n",
      "-----------------\n",
      "u[n] =  [ 0.  0.  0.  0.  3. -3.  1.  0.  0.]\n",
      "n>=-3 and n<=5\n",
      "-----------------\n",
      "v[n] =  [ 0. 15.  2. -4.  3.  0. -4.  0.  0.]\n",
      "n>=-3 and n<=5\n",
      "-----------------\n",
      "s[n] =  [ 4. -5.  0.  0. 10.  2.  0.  0.  0.  0.]\n",
      "n>=-1 and n<=8\n",
      "-----------------\n",
      "r[n] =  [ 21.  -10.5  -3.5   0.   28.   24.5  -7. ]\n",
      "n>=-1 and n<=5\n"
     ]
    }
   ],
   "source": [
    "# 1. Consider the following sequences\n",
    "# x[n] = \n",
    "# −4 5 1 −2 −3 0 2\t\n",
    "# , −3 ≤ n ≤ 3\n",
    "# y[n] = \n",
    "# 6 −3 −1 0 8 7 −2\n",
    "\t\n",
    "# , −1 ≤ n ≤ 5\n",
    "# w[n] = \n",
    "# 3 2 2 −1 0 −2 5\t\n",
    "# , 2 ≤ n ≤ 8\n",
    "# The sample values of each of the above sequences outside the ranges specified are all zeros. Generate\n",
    "# the following sequences:\n",
    "# (a) c[n] = x[−n + 2]\n",
    "# (b) d[n] = y[−n − 3]\n",
    "# (c) e[n] = w[−n]\n",
    "# (d) u[n] = x[n] + y[n − 2]\n",
    "# (e) v[n] = x[n] · w[n + 4]\n",
    "# (f) s[n] = y[n] − w[n + 4]\n",
    "# (g) r[n] = 3.5y[n]\n",
    "\n",
    "x = np.array([-4, 5, 1, -2, -3, 0, 2])\n",
    "y = np.array([6, -3, -1, 0, 8, 7, -2])\n",
    "w = np.array([3, 2, 2, -1, 0, -2, 5])\n",
    "\n",
    "# (a) c[n] = x[−n + 2]\n",
    "# Try to index, if out of range, 0\n",
    "c = np.zeros(len(x))\n",
    "n = np.arange(-3, 4)\n",
    "for i in range(len(n)):\n",
    "    index = -n[i] + 2 - n[0]\n",
    "    if index >= 0 and index < len(x):\n",
    "        c[i] = x[index]\n",
    "    \n",
    "print(\"-----------------\")\n",
    "print(\"c[n] = \", c)\n",
    "print(\"n>=\"+ str(n[0]) + \" and n<=\" + str(n[-1]))\n",
    "\n",
    "# (b) d[n] = y[−n − 3]\n",
    "d = np.zeros(len(y))\n",
    "n = np.arange(-1, 6)\n",
    "for i in range(len(n)):\n",
    "    yindex = -n[i] - 3 - -1\n",
    "    if yindex >= 0 and yindex < len(y):\n",
    "        d[i] = y[yindex]\n",
    "\n",
    "print(\"-----------------\")\n",
    "print(\"d[n] = \", d)\n",
    "print(\"n>=\"+ str(n[0]) + \" and n<=\" + str(n[-1]))\n",
    "\n",
    "\n",
    "# (c) e[n] = w[−n]\n",
    "n = np.arange(2, 9)\n",
    "e = np.zeros(len(n))\n",
    "for i in range(len(n)):\n",
    "    windex = -n[i] - 2\n",
    "    if windex >= 0 and windex < len(w):\n",
    "        e[i] = w[windex]\n",
    "\n",
    "print(\"-----------------\")\n",
    "print(\"e[n] = \", e)\n",
    "print(\"n>=\"+ str(n[0]) + \" and n<=\" + str(n[-1]))\n",
    "\n",
    "# (d) u[n] = x[n] + y[n − 2]\n",
    "n = np.arange(-3, 6)\n",
    "u = np.zeros(len(n))\n",
    "for i in range(len(n)):\n",
    "    xindex = n[i] - -3\n",
    "    yindex = n[i] - 2 - -1\n",
    "    if xindex >= 0 and xindex < len(x) and yindex >= 0 and yindex < len(y):\n",
    "        u[i] = x[xindex] + y[yindex]\n",
    "\n",
    "print(\"-----------------\")\n",
    "print(\"u[n] = \", u)\n",
    "print(\"n>=\"+ str(n[0]) + \" and n<=\" + str(n[-1]))\n",
    "\n",
    "# (e) v[n] = x[n] · w[n + 4]\n",
    "n = np.arange(-3, 6)\n",
    "v = np.zeros(len(n))\n",
    "for i in range(len(n)):\n",
    "    xindex = n[i] - -3\n",
    "    windex = n[i] + 4 - 2\n",
    "    if xindex >= 0 and xindex < len(x) and windex >= 0 and windex < len(w):\n",
    "        v[i] = x[xindex] * w[windex]\n",
    "\n",
    "print(\"-----------------\")\n",
    "print(\"v[n] = \", v)\n",
    "print(\"n>=\"+ str(n[0]) + \" and n<=\" + str(n[-1]))\n",
    "\n",
    "# (f) s[n] = y[n] − w[n + 4]\n",
    "n = np.arange(-1, 9)\n",
    "s = np.zeros(len(n))\n",
    "for i in range(len(n)):\n",
    "    yindex = n[i] - -1\n",
    "    windex = n[i] + 4 - 2\n",
    "    yValue = 0\n",
    "    if yindex >= 0 and yindex < len(y): \n",
    "        yValue = y[yindex]\n",
    "    if windex >= 0 and windex < len(w):\n",
    "        wValue = w[windex]\n",
    "        s[i] = yValue - wValue\n",
    "\n",
    "print(\"-----------------\")\n",
    "print(\"s[n] = \", s)\n",
    "print(\"n>=\"+ str(n[0]) + \" and n<=\" + str(n[-1]))\n",
    "\n",
    "# (g) r[n] = 3.5y[n]\n",
    "n = np.arange(-1, 6)\n",
    "r = np.zeros(len(n))\n",
    "for i in range(len(n)):\n",
    "    yindex = n[i] - -1\n",
    "    if yindex >= 0 and yindex < len(y):\n",
    "        r[i] = 3.5 * y[yindex]\n",
    "\n",
    "print(\"-----------------\")\n",
    "print(\"r[n] = \", r)\n",
    "print(\"n>=\"+ str(n[0]) + \" and n<=\" + str(n[-1]))\n",
    "\n",
    "\n",
    "\n",
    "\n",
    "\n",
    "\n",
    "\n"
   ]
  },
  {
   "cell_type": "code",
   "execution_count": 50,
   "metadata": {},
   "outputs": [],
   "source": [
    "def im(exp):\n",
    "    #Given a sympy expression, the real and imaginary parts are seperated by a + sign\n",
    "    #Find the part that consists of a Mul object with an I in it and return itwith the I removed\n",
    "    for i in exp.args:\n",
    "        if isinstance(i, Mul) and I in i.args:\n",
    "            for j in i.args:\n",
    "                if j != I:\n",
    "                    return j\n",
    "    return 0\n",
    "\n",
    "def re(exp):\n",
    "    for i in exp.args:\n",
    "        if not ( I in i.args ):\n",
    "            return i\n",
    "    return 0\n"
   ]
  },
  {
   "cell_type": "code",
   "execution_count": 76,
   "metadata": {},
   "outputs": [
    {
     "data": {
      "text/latex": [
       "$\\displaystyle i \\sin{\\left(\\frac{\\pi n}{5} \\right)} + \\cos{\\left(\\frac{\\pi n}{5} \\right)}$"
      ],
      "text/plain": [
       "I*sin(pi*n/5) + cos(pi*n/5)"
      ]
     },
     "metadata": {},
     "output_type": "display_data"
    },
    {
     "data": {
      "text/latex": [
       "$\\displaystyle \\sin{\\left(\\frac{\\pi n}{10} \\right)} + \\cos{\\left(\\frac{\\pi n}{5} \\right)}$"
      ],
      "text/plain": [
       "sin(pi*n/10) + cos(pi*n/5)"
      ]
     },
     "metadata": {},
     "output_type": "display_data"
    },
    {
     "name": "stdout",
     "output_type": "stream",
     "text": [
      "Period of x_a[n] is:  10  and  20\n",
      "Fundamental Period is:  20\n"
     ]
    }
   ],
   "source": [
    "#4a\n",
    "n = symbols('n')\n",
    "\n",
    "#Equations and Convert to trigonometric form\n",
    "x_a  = exp(I*pi*n/5)\n",
    "x_a = x_a.rewrite(cos).expand()\n",
    "\n",
    "x_b = exp(I*pi*n/10)\n",
    "x_b = x_b.rewrite(cos).expand()\n",
    "\n",
    "display(x_a)\n",
    "#Get Periods\n",
    "display(re(x_a)+im(x_b))\n",
    "t_1 = re(x_a).period()\n",
    "t_2 = im(x_b).period()\n",
    "\n",
    "print(\"Period of x_a[n] is: \", t_1, \" and \", t_2)\n",
    "\n",
    "#Fundamental Period\n",
    "t = lcm(t_1, t_2)\n",
    "print(\"Fundamental Period is: \", t)"
   ]
  },
  {
   "cell_type": "code",
   "execution_count": 75,
   "metadata": {},
   "outputs": [
    {
     "data": {
      "text/latex": [
       "$\\displaystyle \\cos{\\left(1.3 \\pi n \\right)}$"
      ],
      "text/plain": [
       "cos(1.3*pi*n)"
      ]
     },
     "metadata": {},
     "output_type": "display_data"
    },
    {
     "data": {
      "text/latex": [
       "$\\displaystyle \\frac{1.53846153846154}{n}$"
      ],
      "text/plain": [
       "1.53846153846154/n"
      ]
     },
     "metadata": {},
     "output_type": "display_data"
    },
    {
     "data": {
      "text/latex": [
       "$\\displaystyle \\sin{\\left(0.5 \\pi n + 0.5 \\pi \\right)}$"
      ],
      "text/plain": [
       "sin(0.5*pi*n + 0.5*pi)"
      ]
     },
     "metadata": {},
     "output_type": "display_data"
    },
    {
     "data": {
      "text/latex": [
       "$\\displaystyle \\frac{2 \\pi}{0.5 \\pi n + 0.5 \\pi}$"
      ],
      "text/plain": [
       "2*pi/(0.5*pi*n + 0.5*pi)"
      ]
     },
     "metadata": {},
     "output_type": "display_data"
    }
   ],
   "source": [
    "#4b \n",
    "n = symbols('n')\n",
    "x = [\n",
    "    cos(1.3*pi*n),\n",
    "    sin(0.5*pi*n+0.5*pi)\n",
    "]\n",
    "\n",
    "#Get Periods\n",
    "t = []\n",
    "for i in x:\n",
    "    t.append(i.period().as_numer_denom()[0])\n",
    "    \n",
    "\n",
    "\n",
    "#Fundamental Period\n",
    "#For Fractionl periods, take the numerator of the period\n",
    "# t = [i.numerator for i in t]\n",
    "\n",
    "\n",
    "\n"
   ]
  },
  {
   "cell_type": "code",
   "execution_count": null,
   "metadata": {},
   "outputs": [],
   "source": []
  }
 ],
 "metadata": {
  "kernelspec": {
   "display_name": "Python 3",
   "language": "python",
   "name": "python3"
  },
  "language_info": {
   "codemirror_mode": {
    "name": "ipython",
    "version": 3
   },
   "file_extension": ".py",
   "mimetype": "text/x-python",
   "name": "python",
   "nbconvert_exporter": "python",
   "pygments_lexer": "ipython3",
   "version": "3.8.3"
  },
  "orig_nbformat": 4,
  "vscode": {
   "interpreter": {
    "hash": "1f59d50658d4cd97c33559e64c64cdabcc2031b5c15f33137a9aa45101c8cb06"
   }
  }
 },
 "nbformat": 4,
 "nbformat_minor": 2
}
