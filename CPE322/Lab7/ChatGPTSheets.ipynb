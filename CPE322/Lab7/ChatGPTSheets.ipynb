{
 "cells": [
  {
   "cell_type": "code",
   "execution_count": 32,
   "metadata": {},
   "outputs": [],
   "source": [
    "import gspread\n",
    "from oauth2client.service_account import ServiceAccountCredentials\n",
    "import pandas as pd\n",
    "import numpy as np\n",
    "import openai\n",
    "import os\n",
    "from io import StringIO"
   ]
  },
  {
   "cell_type": "code",
   "execution_count": 33,
   "metadata": {},
   "outputs": [],
   "source": [
    "CredsFile = \"/Users/mattraghu/Documents/chatgptsheets-7c47879663f8.json\"\n",
    "SheetID = \"1Kr8XX4_lO-W02asMQnaP3PFyS9I3FkD19EjhQhjO4yM\""
   ]
  },
  {
   "cell_type": "code",
   "execution_count": 34,
   "metadata": {},
   "outputs": [],
   "source": [
    "def setup_api():\n",
    "    scope = ['https://spreadsheets.google.com/feeds',\n",
    "             'https://www.googleapis.com/auth/drive']\n",
    "    creds = ServiceAccountCredentials.from_json_keyfile_name(CredsFile, scope)\n",
    "    client = gspread.authorize(creds)\n",
    "    return client"
   ]
  },
  {
   "cell_type": "code",
   "execution_count": 35,
   "metadata": {},
   "outputs": [],
   "source": [
    "def get_sheet(client, sheet_id):\n",
    "    sheet = client.open_by_key(sheet_id)\n",
    "    return sheet"
   ]
  },
  {
   "cell_type": "code",
   "execution_count": 36,
   "metadata": {},
   "outputs": [],
   "source": [
    "client = setup_api()\n",
    "sheet = get_sheet(client, SheetID)"
   ]
  },
  {
   "cell_type": "code",
   "execution_count": 37,
   "metadata": {},
   "outputs": [],
   "source": [
    "#Convert the sheet to a string that can be written into a csv File\n",
    "firstSheet = sheet.get_worksheet(0)\n",
    "data = firstSheet.get_all_values()\n",
    "headers = data.pop(0)\n",
    "\n",
    "df = pd.DataFrame(data, columns=headers)\n",
    "string_buffer = StringIO()\n",
    "df.to_csv(string_buffer, index=False,header=True)\n",
    "raw_text = string_buffer.getvalue()"
   ]
  },
  {
   "cell_type": "code",
   "execution_count": 38,
   "metadata": {},
   "outputs": [],
   "source": [
    "# Set up the Open AI API\n",
    "\n",
    "#Open the api key from my documents\n",
    "with open(os.path.expanduser(\"~/Documents/OPENAI_API_KEY.txt\")) as f:\n",
    "    openai.api_key = f.read().strip()\n",
    "    \n",
    "\n",
    "#Set up the Organization\n",
    "openai.organization = \"org-9rUnSTHOfxLvlgIoNDRgEDoZ\""
   ]
  },
  {
   "cell_type": "code",
   "execution_count": 39,
   "metadata": {},
   "outputs": [],
   "source": [
    "# prompt = \"Add another column to the table with the name 'Full Name' and set the values to the element names\"\n",
    "prompt = input(\"Enter a prompt: \")\n",
    "# Set up the prompt\n",
    "messages = [\n",
    "    {\"role\": \"system\", \"content\": \"You are a bot used to read spreadsheet data and adjust it based on user input.\"},\n",
    "    {\"role\": \"user\", \"content\": \"Prompt: \" + prompt},\n",
    "    {\"role\": \"user\", \"content\": \"Spreadsheet: \" + raw_text},\n",
    "]\n",
    "\n",
    "# Set up the completion\n",
    "\n",
    "response = openai.ChatCompletion.create(\n",
    "    model=\"gpt-3.5-turbo\",\n",
    "    messages = messages,\n",
    ")\n",
    "\n",
    "outputText = response.choices[0].message.content"
   ]
  },
  {
   "cell_type": "code",
   "execution_count": 40,
   "metadata": {},
   "outputs": [
    {
     "data": {
      "text/plain": [
       "[[\"Here's the spreadsheet with the added columns for element's full name and discovery date:\"],\n",
       " [''],\n",
       " ['atomic number', 'symbol', 'full name', 'discovery date', 'atomic mass'],\n",
       " ['1', 'H', 'Hydrogen', '1766', '1.00794'],\n",
       " ['2', 'He', 'Helium', '1868', '4.002602'],\n",
       " ['3', 'Li', 'Lithium', '1817', '6.941'],\n",
       " ['4', 'Be', 'Beryllium', '1798', '9.012182'],\n",
       " ['5', 'B', 'Boron', '1808', '10.811'],\n",
       " ['6', 'C', 'Carbon', 'Ancient', '12.0107'],\n",
       " ['7', 'N', 'Nitrogen', '1772', '14.0067'],\n",
       " ['8', 'O', 'Oxygen', '1774', '15.9994'],\n",
       " ['9', 'F', 'Fluorine', '1670', '18.9984032'],\n",
       " ['10', 'Ne', 'Neon', '1898', '20.1797'],\n",
       " ['11', 'Na', 'Sodium', '1807', '22.98976928'],\n",
       " ['12', 'Mg', 'Magnesium', '1808', '24.305'],\n",
       " ['13', 'Al', 'Aluminum', '1825', '26.9815386'],\n",
       " ['14', 'Si', 'Silicon', '1824', '28.0855'],\n",
       " ['15', 'P', 'Phosphorus', '1669', '30.973762'],\n",
       " ['16', 'S', 'Sulfur', 'Ancient', '32.065'],\n",
       " ['17', 'Cl', 'Chlorine', '1774', '35.453'],\n",
       " ['18', 'Ar', 'Argon', '1894', '39.948'],\n",
       " ['19', 'K', 'Potassium', '1807', '39.0983'],\n",
       " ['20', 'Ca', 'Calcium', '1808', '40.078'],\n",
       " ['21', 'Sc', 'Scandium', '1879', '44.955912'],\n",
       " ['22', 'Ti', 'Titanium', '1791', '47.867'],\n",
       " ['23', 'V', 'Vanadium', '1803', '50.9415'],\n",
       " ['24', 'Cr', 'Chromium', '1797', '51.9961'],\n",
       " ['25', 'Mn', 'Manganese', '1774', '54.938045'],\n",
       " ['26', 'Fe', 'Iron', 'Prehistoric', '55.845'],\n",
       " ['27', 'Co', 'Cobalt', '1735', '58.933195'],\n",
       " ['28', 'Ni', 'Nickel', '1751', '58.6934'],\n",
       " ['29', 'Cu', 'Copper', 'Ancient', '63.546'],\n",
       " ['30', 'Zn', 'Zinc', 'Ancient', '65.38'],\n",
       " ['31', 'Ga', 'Gallium', '1875', '69.723'],\n",
       " ['32', 'Ge', 'Germanium', '1886', '72.64'],\n",
       " ['33', 'As', 'Arsenic', 'Ancient', '74.9216'],\n",
       " ['34', 'Se', 'Selenium', '1817', '78.96'],\n",
       " ['35', 'Br', 'Bromine', '1826', '79.904'],\n",
       " ['36', 'Kr', 'Krypton', '1898', '83.798'],\n",
       " ['37', 'Rb', 'Rubidium', '1861', '85.4678'],\n",
       " ['38', 'Sr', 'Strontium', '1790', '87.62'],\n",
       " ['39', 'Y', 'Yttrium', '1794', '88.90585'],\n",
       " ['40', 'Zr', 'Zirconium', '1789', '91.224'],\n",
       " ['41', 'Nb', 'Niobium', '1801', '92.90638'],\n",
       " ['42', 'Mo', 'Molybdenum', '1778', '95.96'],\n",
       " ['43', 'Tc', 'Technetium', '1937', '98'],\n",
       " ['44', 'Ru', 'Ruthenium', '1844', '101.07'],\n",
       " ['45', 'Rh', 'Rhodium', '1803', '102.9055'],\n",
       " ['46', 'Pd', 'Palladium', '1803', '106.42'],\n",
       " ['47', 'Ag', 'Silver', 'Ancient', '107.8682'],\n",
       " ['48', 'Cd', 'Cadmium', '1817', '112.411'],\n",
       " ['49', 'In', 'Indium', '1863', '114.818'],\n",
       " ['50', 'Sn', 'Tin', 'Ancient', '118.71'],\n",
       " ['51', 'Sb', 'Antimony', 'Ancient', '121.76'],\n",
       " ['52', 'Te', 'Tellurium', '1782', '127.6'],\n",
       " ['53', 'I', 'Iodine', '1811', '126.90447'],\n",
       " ['54', 'Xe', 'Xenon', '1898', '131.293'],\n",
       " ['55', 'Cs', 'Cesium', '1860', '132.9054519'],\n",
       " ['56', 'Ba', 'Barium', '1808', '137.327'],\n",
       " ['57', 'La', 'Lanthanum', '1839', '138.90547'],\n",
       " ['58', 'Ce', 'Cerium', '1803', '140.116'],\n",
       " ['59', 'Pr', 'Praseodymium', '1885', '140.90765'],\n",
       " ['60', 'Nd', 'Neodymium', '1885', '144.242'],\n",
       " ['61', 'Pm', 'Promethium', '1945', '145'],\n",
       " ['62', 'Sm', 'Samarium', '1879', '150.36'],\n",
       " ['63', 'Eu', 'Europium', '1901', '151.964'],\n",
       " ['64', 'Gd', 'Gadolinium', '1880', '157.25'],\n",
       " ['65', 'Tb', 'Terbium', '1843', '158.92535'],\n",
       " ['66', 'Dy', 'Dysprosium', '1886', '162.5'],\n",
       " ['67', 'Ho', 'Holmium', '1878', '164.93032'],\n",
       " ['68', 'Er', 'Erbium', '1842', '167.259'],\n",
       " ['69', 'Tm', 'Thulium', '1879', '168.93421'],\n",
       " ['70', 'Yb', 'Ytterbium', '1878', '173.054'],\n",
       " ['71', 'Lu', 'Lutetium', '1907', '174.9668'],\n",
       " ['72', 'Hf', 'Hafnium', '1923', '178.49'],\n",
       " ['73', 'Ta', 'Tantalum', '1802', '180.94788'],\n",
       " ['74', 'W', 'Tungsten', '1783', '183.84'],\n",
       " ['75', 'Re', 'Rhenium', '1925', '186.207'],\n",
       " ['76', 'Os', 'Osmium', '1803', '190.23'],\n",
       " ['77', 'Ir', 'Iridium', '1803', '192.217'],\n",
       " ['78', 'Pt', 'Platinum', '1735', '195.084'],\n",
       " ['79', 'Au', 'Gold', 'Ancient', '196.966569'],\n",
       " ['80', 'Hg', 'Mercury', 'Ancient', '200.59'],\n",
       " ['81', 'Tl', 'Thallium', '1861', '204.3833'],\n",
       " ['82', 'Pb', 'Lead', 'Ancient', '207.2'],\n",
       " ['83', 'Bi', 'Bismuth', 'Ancient', '208.9804'],\n",
       " ['84', 'Po', 'Polonium', '1898', '209'],\n",
       " ['85', 'At', 'Astatine', '1940', '210'],\n",
       " ['86', 'Rn', 'Radon', '1900', '222'],\n",
       " ['87', 'Fr', 'Francium', '1939', '223'],\n",
       " ['88', 'Ra', 'Radium', '1898', '226'],\n",
       " ['89', 'Ac', 'Actinium', '1899', '227'],\n",
       " ['90', 'Th', 'Thorium', '1828', '232.03806'],\n",
       " ['91', 'Pa', 'Protactinium', '1913', '231.03588'],\n",
       " ['92', 'U', 'Uranium', '1789', '238.02891'],\n",
       " ['93', 'Np', 'Neptunium', '1940', '237'],\n",
       " ['94', 'Pu', 'Plutonium', '1940', '244'],\n",
       " ['95', 'Am', 'Americium', '1944', '243'],\n",
       " ['96', 'Cm', 'Curium', '1944', '247'],\n",
       " ['97', 'Bk', 'Berkelium', '1949', '247'],\n",
       " ['98', 'Cf', 'Californium', '1950', '251'],\n",
       " ['99', 'Es', 'Einsteinium', '1952', '252'],\n",
       " ['100', 'Fm', 'Fermium', '1952', '257'],\n",
       " ['101', 'Md', 'Mendelevium', '1955', '258'],\n",
       " ['102', 'No', 'Nobelium', '1957', '259'],\n",
       " ['103', 'Lr', 'Lawrencium', '1961', '262'],\n",
       " ['104', 'Rf', 'Rutherfordium', '1964', '267'],\n",
       " ['105', 'Db', 'Dubnium', '1967', '268'],\n",
       " ['106', 'Sg', 'Seaborgium', '1974', '271'],\n",
       " ['107', 'Bh', 'Bohrium', '1981', '272'],\n",
       " ['108', 'Hs', 'Hassium', '1984', '270'],\n",
       " ['109', 'Mt', 'Meitnerium', '1982', '276'],\n",
       " ['110', 'Ds', 'Darmstadtium', '1994', '281'],\n",
       " ['111', 'Rg', 'Roentgenium', '1994', '280'],\n",
       " ['112', 'Cn', 'Copernicium', '1996', '285'],\n",
       " ['113', 'Uut', 'Ununtrium', '2003', '284'],\n",
       " ['114', 'Uuq', 'Ununquadium', '1998', '289'],\n",
       " ['115', 'Uup', 'Ununpentium', '2003', '288'],\n",
       " ['116', 'Uuh', 'Ununhexium', '2000', '293'],\n",
       " ['117', 'Uus', 'Ununseptium', '2010', '294'],\n",
       " ['118', 'Uuo', 'Ununoctium', '2002', '294']]"
      ]
     },
     "execution_count": 40,
     "metadata": {},
     "output_type": "execute_result"
    }
   ],
   "source": [
    "cols = outputText.split(\"\\n\")\n",
    "#Now split rows by commas\n",
    "rows = []\n",
    "for col in cols:\n",
    "    rows.append(col.split(\",\"))\n",
    "rows"
   ]
  },
  {
   "cell_type": "code",
   "execution_count": 41,
   "metadata": {},
   "outputs": [
    {
     "data": {
      "text/plain": [
       "{'spreadsheetId': '1Kr8XX4_lO-W02asMQnaP3PFyS9I3FkD19EjhQhjO4yM',\n",
       " 'updatedRange': 'Sheet1!A1:E121',\n",
       " 'updatedRows': 121,\n",
       " 'updatedColumns': 5,\n",
       " 'updatedCells': 597}"
      ]
     },
     "execution_count": 41,
     "metadata": {},
     "output_type": "execute_result"
    }
   ],
   "source": [
    "#Write the output to the google sheet\n",
    "outputSheet = sheet.get_worksheet(1)\n",
    "outputSheet.update(rows)"
   ]
  }
 ],
 "metadata": {
  "kernelspec": {
   "display_name": "Python 3.10.6 64-bit",
   "language": "python",
   "name": "python3"
  },
  "language_info": {
   "codemirror_mode": {
    "name": "ipython",
    "version": 3
   },
   "file_extension": ".py",
   "mimetype": "text/x-python",
   "name": "python",
   "nbconvert_exporter": "python",
   "pygments_lexer": "ipython3",
   "version": "3.10.6"
  },
  "orig_nbformat": 4,
  "vscode": {
   "interpreter": {
    "hash": "aee8b7b246df8f9039afb4144a1f6fd8d2ca17a180786b69acc140d282b71a49"
   }
  }
 },
 "nbformat": 4,
 "nbformat_minor": 2
}
