{
 "cells": [
  {
   "cell_type": "code",
   "execution_count": 60,
   "metadata": {},
   "outputs": [],
   "source": [
    "import openai\n",
    "import os\n",
    "import subprocess"
   ]
  },
  {
   "cell_type": "code",
   "execution_count": 61,
   "metadata": {},
   "outputs": [],
   "source": [
    "# Set up the Open AI API\n",
    "\n",
    "#Open the api key from my documents\n",
    "with open(os.path.expanduser(\"~/Documents/OPENAI_API_KEY.txt\")) as f:\n",
    "    openai.api_key = f.read().strip()\n",
    "    \n",
    "\n",
    "#Set up the Organization\n",
    "openai.organization = \"org-9rUnSTHOfxLvlgIoNDRgEDoZ\""
   ]
  },
  {
   "cell_type": "code",
   "execution_count": 62,
   "metadata": {},
   "outputs": [
    {
     "name": "stdout",
     "output_type": "stream",
     "text": [
      "Trying to execute: lesson3/julian.py\n",
      "Trying to execute: lesson3/date_example.py\n",
      "Trying to execute: lesson3/time_example.py\n",
      "Trying to execute: lesson3/sun.py 'New York'\n",
      "Trying to execute: lesson3/moon.py\n",
      "Trying to execute: lesson3/coordinates.py 'SC Williams Library'\n",
      "Trying to execute: lesson3/address.py '40.74480675, -74.02532862031404'\n",
      "Trying to execute: lesson3/cpu.py\n",
      "Trying to execute: lesson3/battery.py\n",
      "Trying to execute: lesson3/documentstats.py lesson3/document.txt\n"
     ]
    }
   ],
   "source": [
    "messages = [\n",
    "    {\"role\": \"system\", \"content\": \"I'm using you to complete a lab where I need to go through and explain code for multiple python files. You are to generate a markdown file that explains every step.\"},\n",
    "    \n",
    "]\n",
    "\n",
    "directoryName = \"lesson3/\"\n",
    "pythonScripts = [ \"julian.py\", \"date_example.py\", \"time_example.py\", \"sun.py 'New York'\", \"moon.py\", \"coordinates.py 'SC Williams Library'\", \"address.py '40.74480675, -74.02532862031404'\", \"cpu.py\", \"battery.py\", \"documentstats.py \" + directoryName + \"document.txt\" ]\n",
    "\n",
    "outputText = \"\"\n",
    "for scriptExecution in pythonScripts:\n",
    "    scriptExecution = directoryName+scriptExecution\n",
    "    scriptInfo = scriptExecution.split(\" \")\n",
    "\n",
    "    with open(scriptInfo[0]) as f:\n",
    "        scriptContents = f.read()\n",
    "\n",
    "\n",
    "    outputText += str(\"### Script Information for `\" + scriptInfo[0] + \"`\") + \"\\n\"\n",
    "\n",
    "    outputText += \"#### Script: \\n\\n\"\n",
    "    outputText += \"```python\\n\"\n",
    "    outputText += scriptContents\n",
    "    outputText += \"\\n```\\n\\n\"\n",
    "\n",
    "    output = openai.ChatCompletion.create(\n",
    "        model=\"gpt-3.5-turbo\",\n",
    "        messages = messages+\n",
    "        [\n",
    "            {\"role\": \"user\", \"content\": scriptContents}\n",
    "        ],\n",
    "    )\n",
    "\n",
    "    outputText += \"#### Explanation: \\n\\n\"\n",
    "    \n",
    "    outputText += output.choices[0].message.content\n",
    "    outputText += \"\\n\\n\"\n",
    "\n",
    "    outputText += \"#### Execution: \\n\\n\"\n",
    "\n",
    "    outputText += \"\\n\" + \"```bash\"\n",
    "    print(\"Trying to execute: \" + scriptExecution)\n",
    "    try:\n",
    "        outputText += \"\\n\" + str(subprocess.check_output(\"python3 \"+scriptExecution, timeout=10, shell=True).decode(\"utf-8\"))\n",
    "    except:\n",
    "        outputText += \"\\n\" + \"Error: Command did not execute successfully.\"\n",
    "    outputText += \"\\n\" + \"```\\n\\n\"\n",
    "\n",
    "\n",
    "with open(\"output.md\", \"w\") as f:\n",
    "    f.write(outputText)\n",
    "\n",
    "\n",
    "\n",
    "        \n"
   ]
  },
  {
   "cell_type": "code",
   "execution_count": null,
   "metadata": {},
   "outputs": [],
   "source": []
  }
 ],
 "metadata": {
  "kernelspec": {
   "display_name": "Python 3.10.6 64-bit",
   "language": "python",
   "name": "python3"
  },
  "language_info": {
   "codemirror_mode": {
    "name": "ipython",
    "version": 3
   },
   "file_extension": ".py",
   "mimetype": "text/x-python",
   "name": "python",
   "nbconvert_exporter": "python",
   "pygments_lexer": "ipython3",
   "version": "3.10.6"
  },
  "orig_nbformat": 4,
  "vscode": {
   "interpreter": {
    "hash": "aee8b7b246df8f9039afb4144a1f6fd8d2ca17a180786b69acc140d282b71a49"
   }
  }
 },
 "nbformat": 4,
 "nbformat_minor": 2
}
