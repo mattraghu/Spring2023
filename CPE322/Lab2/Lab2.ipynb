{
 "cells": [
  {
   "cell_type": "code",
   "execution_count": 55,
   "metadata": {},
   "outputs": [],
   "source": [
    "import openai\n",
    "import os\n",
    "import subprocess"
   ]
  },
  {
   "cell_type": "code",
   "execution_count": 14,
   "metadata": {},
   "outputs": [],
   "source": [
    "# Set up the Open AI API\n",
    "\n",
    "#Open the api key from my documents\n",
    "with open(os.path.expanduser(\"~/Documents/OPENAI_API_KEY.txt\")) as f:\n",
    "    openai.api_key = f.read().strip()\n",
    "    \n",
    "\n",
    "#Set up the Organization\n",
    "openai.organization = \"Raghunandan\""
   ]
  },
  {
   "cell_type": "code",
   "execution_count": 29,
   "metadata": {},
   "outputs": [],
   "source": [
    "output = openai.ChatCompletion.create(\n",
    "  model=\"gpt-3.5-turbo\",\n",
    "  messages=[\n",
    "        {\"role\": \"system\", \"content\": \"You are a helpful assistant.\"}, #Set up the role of the assistant\n",
    "        {\"role\": \"user\", \"content\": \"Where was the Olympics in 2020 played?\"} #User Input\n",
    "    ]\n",
    ")"
   ]
  },
  {
   "cell_type": "code",
   "execution_count": 30,
   "metadata": {},
   "outputs": [
    {
     "name": "stdout",
     "output_type": "stream",
     "text": [
      "The Olympics that were supposed to take place in 2020 were scheduled to be held in Tokyo, Japan. However, due to the COVID-19 pandemic, they were postponed to July 23-August 8, 2021.\n"
     ]
    }
   ],
   "source": [
    "print(output.choices[0].message.content)"
   ]
  },
  {
   "cell_type": "code",
   "execution_count": 34,
   "metadata": {},
   "outputs": [],
   "source": [
    "messages = [\n",
    "    {\"role\": \"system\", \"content\": \"You are a helpful assistant that will be used to explain several terminal commands.\"},\n",
    "]"
   ]
  },
  {
   "cell_type": "code",
   "execution_count": 35,
   "metadata": {},
   "outputs": [],
   "source": [
    "def getCommandInfo(command):\n",
    "    output = openai.ChatCompletion.create(\n",
    "        model=\"gpt-3.5-turbo\",\n",
    "        messages= messages+[{\"role\": \"user\", \"content\": command}]\n",
    "    )\n",
    "    return output.choices[0].message.content"
   ]
  },
  {
   "cell_type": "code",
   "execution_count": 68,
   "metadata": {},
   "outputs": [
    {
     "name": "stderr",
     "output_type": "stream",
     "text": [
      "Cloning into 'iot'...\n",
      "mkdir: demo: File exists\n",
      "cat: file: No such file or directory\n",
      "cp: file: No such file or directory\n",
      "mv: rename file to file2: No such file or directory\n",
      "rm: file2: No such file or directory\n"
     ]
    },
    {
     "data": {
      "text/plain": [
       "15475"
      ]
     },
     "execution_count": 68,
     "metadata": {},
     "output_type": "execute_result"
    }
   ],
   "source": [
    "#hostname $ env $ ps $ pwd $ git clone https://github.com/kevinwlu/iot.git $ cd iot $ ls $ cd df $ mkdir demo $ cd demo $ nano file $ cat file $ cp file file1 $ mv file file2 $ rm file2 $ clear $ man uname $ uname -a $ ifconfig $ ping localhost $ netstat\n",
    "commands = [\n",
    "    \"hostname\",\n",
    "    \"env\",\n",
    "    \"ps\",\n",
    "    \"pwd\",\n",
    "    \"git clone https://github.com/kevinwlu/iot.git\",\n",
    "    \"cd iot\",\n",
    "    \"ls\",\n",
    "    \"cd\",\n",
    "    \"df\",\n",
    "    \"mkdir demo\",\n",
    "    \"cd demo\",\n",
    "    \"nano file\",\n",
    "    \"cat file\",\n",
    "    \"cp file file1\",\n",
    "    \"mv file file2\",\n",
    "    \"rm file2\",\n",
    "\n",
    "    \"clear\",\n",
    "\n",
    "]\n",
    "\n",
    "outputFile = open(\"output.md\", \"w\")\n",
    "outputText = \"\"\n",
    "for command in commands:\n",
    "    outputText += str(\"### Command Information for `\" + command + \"`\")\n",
    "    outputText += \"\\n\" + str(getCommandInfo(command)) \n",
    "    outputText += \"\\n\\n\" + str(\"Executing command: \" + command)\n",
    "    outputText += \"\\n\\n\" + str(\"Output: \")\n",
    "    outputText += \"\\n\" + \"```bash\"\n",
    "    try:\n",
    "        outputText += \"\\n\" + str(subprocess.check_output(command, shell=True).decode(\"utf-8\"))\n",
    "    except:\n",
    "        outputText += \"\\n\" + \"Error: Command did not execute successfully.\"\n",
    "    outputText += \"\\n\" + \"```\" + \"\\n\\n\"\n",
    "\n",
    "\n",
    "outputFile.write(outputText)\n",
    "\n",
    "\n",
    "\n"
   ]
  }
 ],
 "metadata": {
  "kernelspec": {
   "display_name": "Python 3.10.6 64-bit",
   "language": "python",
   "name": "python3"
  },
  "language_info": {
   "codemirror_mode": {
    "name": "ipython",
    "version": 3
   },
   "file_extension": ".py",
   "mimetype": "text/x-python",
   "name": "python",
   "nbconvert_exporter": "python",
   "pygments_lexer": "ipython3",
   "version": "3.10.6"
  },
  "orig_nbformat": 4,
  "vscode": {
   "interpreter": {
    "hash": "aee8b7b246df8f9039afb4144a1f6fd8d2ca17a180786b69acc140d282b71a49"
   }
  }
 },
 "nbformat": 4,
 "nbformat_minor": 2
}
