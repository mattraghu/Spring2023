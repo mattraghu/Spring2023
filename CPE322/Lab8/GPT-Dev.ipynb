{
 "cells": [
  {
   "cell_type": "code",
   "execution_count": 3,
   "metadata": {},
   "outputs": [
    {
     "name": "stdout",
     "output_type": "stream",
     "text": [
      "zsh:1: command not found: wget\n"
     ]
    }
   ],
   "source": [
    "#Get the dataset\n",
    "# !wget https://raw.githubusercontent.com/karpathy/char-rnn/master/data/tinyshakespeare/input.txt"
   ]
  },
  {
   "cell_type": "code",
   "execution_count": 4,
   "metadata": {},
   "outputs": [],
   "source": [
    "#Get Input Text\n",
    "with open('input.txt', 'r') as f:\n",
    "    text = f.read()"
   ]
  },
  {
   "cell_type": "code",
   "execution_count": 5,
   "metadata": {},
   "outputs": [
    {
     "name": "stdout",
     "output_type": "stream",
     "text": [
      "['\\n', ' ', '!', '$', '&', \"'\", ',', '-', '.', '3', ':', ';', '?', 'A', 'B', 'C', 'D', 'E', 'F', 'G', 'H', 'I', 'J', 'K', 'L', 'M', 'N', 'O', 'P', 'Q', 'R', 'S', 'T', 'U', 'V', 'W', 'X', 'Y', 'Z', 'a', 'b', 'c', 'd', 'e', 'f', 'g', 'h', 'i', 'j', 'k', 'l', 'm', 'n', 'o', 'p', 'q', 'r', 's', 't', 'u', 'v', 'w', 'x', 'y', 'z']\n"
     ]
    }
   ],
   "source": [
    "#Get All Unique Characters\n",
    "chars = sorted(list(set(text)))\n",
    "print(chars)"
   ]
  },
  {
   "cell_type": "code",
   "execution_count": 13,
   "metadata": {},
   "outputs": [
    {
     "name": "stdout",
     "output_type": "stream",
     "text": [
      "[20, 43, 50, 50, 53, 2]\n",
      "Hello!\n"
     ]
    }
   ],
   "source": [
    "#Tokenize the text- This will be used to convert the text to numbers\n",
    "char_to_idx = {ch:i for i,ch in enumerate(chars)}\n",
    "idx_to_char = {i:ch for i,ch in enumerate(chars)}\n",
    "\n",
    "#Encode and Decode Functions for Strings\n",
    "def encode(s):\n",
    "    return [char_to_idx[ch] for ch in s]\n",
    "def decode(l):\n",
    "    return ''.join([idx_to_char[i] for i in l])\n",
    "\n",
    "#Test\n",
    "encodedText = encode(\"Hello!\")\n",
    "print(encodedText)\n",
    "print(decode(encodedText))\n",
    "\n",
    "#Note: This is a very simple tokenization method. There are better ways to do this. Example: Using tiktoken from OpenAI. (Sub-word tokenization = Don't need a new token for every letter)\n"
   ]
  },
  {
   "cell_type": "code",
   "execution_count": 14,
   "metadata": {},
   "outputs": [
    {
     "name": "stderr",
     "output_type": "stream",
     "text": [
      "/Library/Frameworks/Python.framework/Versions/3.10/lib/python3.10/site-packages/tqdm/auto.py:21: TqdmWarning: IProgress not found. Please update jupyter and ipywidgets. See https://ipywidgets.readthedocs.io/en/stable/user_install.html\n",
      "  from .autonotebook import tqdm as notebook_tqdm\n"
     ]
    }
   ],
   "source": [
    "#Some Imports\n",
    "import numpy as np\n",
    "import torch"
   ]
  },
  {
   "cell_type": "code",
   "execution_count": 24,
   "metadata": {},
   "outputs": [
    {
     "name": "stdout",
     "output_type": "stream",
     "text": [
      "Length of encoded text:  1115394\n",
      "torch.Size([1115394])\n",
      "tensor([18, 47, 56, 57, 58,  1, 15, 47, 58, 47])\n"
     ]
    }
   ],
   "source": [
    "#Encode the input text and store it into a Torch Tensor\n",
    "#A tensor is a multi-dimensional matrix containing elements of a single data type\n",
    "\n",
    "#Convert the text to numbers\n",
    "encodedText = encode(text)\n",
    "print(\"Length of encoded text: \", len(encodedText))\n",
    "\n",
    "#Convert the list to a tensor\n",
    "data = torch.tensor(encodedText, dtype=torch.long)\n",
    "print(data.shape)\n",
    "print(data[:10]) #First 10 elements (First 10 characters in the text)"
   ]
  },
  {
   "cell_type": "code",
   "execution_count": 25,
   "metadata": {},
   "outputs": [
    {
     "name": "stdout",
     "output_type": "stream",
     "text": [
      "Length of data:  1115394\n",
      "Length of training data:  1003854\n",
      "Length of validation data:  111540\n"
     ]
    }
   ],
   "source": [
    "#Get Training and Validation Data\n",
    "#We will use the first 90% of the data for training and the last 10% for validation\n",
    "\n",
    "#Get the length of the data\n",
    "dataLen = len(data)\n",
    "print(\"Length of data: \", dataLen)\n",
    "\n",
    "#Get the length of the training data  \n",
    "trainLen = int(dataLen * 0.9)\n",
    "\n",
    "#Get the training data\n",
    "train_data = data[:trainLen]\n",
    "print(\"Length of training data: \", len(train_data))\n",
    "\n",
    "#Get the validation data\n",
    "val_data = data[trainLen:]  \n",
    "print(\"Length of validation data: \", len(val_data))"
   ]
  },
  {
   "cell_type": "code",
   "execution_count": 31,
   "metadata": {},
   "outputs": [
    {
     "name": "stdout",
     "output_type": "stream",
     "text": [
      "Context:  tensor([18])  Target:  tensor(47)\n",
      "Context:  tensor([18, 47])  Target:  tensor(56)\n",
      "Context:  tensor([18, 47, 56])  Target:  tensor(57)\n",
      "Context:  tensor([18, 47, 56, 57])  Target:  tensor(58)\n",
      "Context:  tensor([18, 47, 56, 57, 58])  Target:  tensor(1)\n",
      "Context:  tensor([18, 47, 56, 57, 58,  1])  Target:  tensor(15)\n",
      "Context:  tensor([18, 47, 56, 57, 58,  1, 15])  Target:  tensor(47)\n",
      "Context:  tensor([18, 47, 56, 57, 58,  1, 15, 47])  Target:  tensor(58)\n"
     ]
    }
   ],
   "source": [
    "block_size = 8 #The length of the sequence we want to predict\n",
    "#Example: If block_size = 8, then we want to predict the 9th character in the sequence\n",
    "#This is why we will need to train the model on sequences of length block_size + 1\n",
    "\n",
    "x = train_data[:block_size]\n",
    "y = train_data[1:block_size+1]\n",
    "for t in range(block_size): \n",
    "    context = x[:t+1]\n",
    "    target = y[t]\n",
    "    print('Context: ', str(context), ' Target: ', str(target)) \n",
    "    #Ex. If data is {1,2,3} and we are given 1, then the target (predicted output) should be 2"
   ]
  },
  {
   "cell_type": "code",
   "execution_count": 35,
   "metadata": {},
   "outputs": [
    {
     "name": "stdout",
     "output_type": "stream",
     "text": [
      "0.576809918873156\n"
     ]
    }
   ],
   "source": [
    "from sympy import *\n",
    "# exp(-1/100*300)*((1/100)*300)**x*(factorial(x))**-1\n",
    "#Add the above from x = 0 to x = 2\n",
    "sum = 0\n",
    "for x in range(3):\n",
    "    sum += exp(-1/100*300)*((1/100)*300)**x*(factorial(x))**-1\n",
    "print(1-sum)"
   ]
  },
  {
   "cell_type": "code",
   "execution_count": null,
   "metadata": {},
   "outputs": [],
   "source": [
    "#"
   ]
  }
 ],
 "metadata": {
  "kernelspec": {
   "display_name": "Python 3.10.6 64-bit",
   "language": "python",
   "name": "python3"
  },
  "language_info": {
   "codemirror_mode": {
    "name": "ipython",
    "version": 3
   },
   "file_extension": ".py",
   "mimetype": "text/x-python",
   "name": "python",
   "nbconvert_exporter": "python",
   "pygments_lexer": "ipython3",
   "version": "3.10.6"
  },
  "orig_nbformat": 4,
  "vscode": {
   "interpreter": {
    "hash": "aee8b7b246df8f9039afb4144a1f6fd8d2ca17a180786b69acc140d282b71a49"
   }
  }
 },
 "nbformat": 4,
 "nbformat_minor": 2
}
