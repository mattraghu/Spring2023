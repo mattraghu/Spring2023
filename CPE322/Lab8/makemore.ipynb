{
 "cells": [
  {
   "cell_type": "code",
   "execution_count": 337,
   "metadata": {},
   "outputs": [
    {
     "name": "stdout",
     "output_type": "stream",
     "text": [
      "['emma', 'olivia', 'ava', 'isabella', 'sophia', 'charlotte', 'mia', 'amelia', 'harper', 'evelyn']\n"
     ]
    }
   ],
   "source": [
    "#Load up names.txt\n",
    "words = open('names.txt', 'r').read().split('\\n')\n",
    "\n",
    "print(words[:10])"
   ]
  },
  {
   "cell_type": "code",
   "execution_count": 338,
   "metadata": {},
   "outputs": [],
   "source": [
    "#Basic Bigram Model\n",
    "\n",
    "#We want to count the frequency that each two char sequence occurs\n",
    "freq = {}\n",
    "\n",
    "for w in words[:]:\n",
    "    chs = ['<S>'] + list(w) + ['<E>']\n",
    "    #We want to get chars 1,2 then 2,3 then 3,4 ...\n",
    "    for ch1, ch2 in zip(chs, chs[1:]): \n",
    "        # print(ch1, ch2)\n",
    "        b = (ch1, ch2)\n",
    "\n",
    "        freq[b] = freq.get(b, 0) + 1"
   ]
  },
  {
   "cell_type": "code",
   "execution_count": 339,
   "metadata": {},
   "outputs": [
    {
     "name": "stdout",
     "output_type": "stream",
     "text": [
      "('n', '<E>') 6763\n",
      "('a', '<E>') 6640\n",
      "('a', 'n') 5438\n"
     ]
    }
   ],
   "source": [
    "#Print the most common bigrams\n",
    "amount = 3\n",
    "for b, f in sorted(freq.items(), key=lambda x: x[1], reverse=True)[:amount]:\n",
    "    print(b, f)"
   ]
  },
  {
   "cell_type": "code",
   "execution_count": 340,
   "metadata": {},
   "outputs": [],
   "source": [
    "import torch"
   ]
  },
  {
   "cell_type": "code",
   "execution_count": 341,
   "metadata": {},
   "outputs": [
    {
     "name": "stdout",
     "output_type": "stream",
     "text": [
      "[7, 4, 11, 11, 14]\n",
      "hello\n"
     ]
    }
   ],
   "source": [
    "#Get a list of all the chars\n",
    "chars = sorted(list(set(''.join(words))))\n",
    "chars += ['<S>', '<E>']\n",
    "\n",
    "#Tokenize the text- This will be used to convert the text to numbers\n",
    "char_to_idx = {ch:i for i,ch in enumerate(chars)}\n",
    "idx_to_char = {i:ch for i,ch in enumerate(chars)}\n",
    "\n",
    "#Encode and Decode Functions for Strings\n",
    "def encode(s):\n",
    "    return [char_to_idx[ch] for ch in s]\n",
    "def decode(l):\n",
    "    return ''.join([idx_to_char[i] for i in l])\n",
    "\n",
    "#Test\n",
    "encodedText = encode(\"hello\")\n",
    "print(encodedText)\n",
    "print(decode(encodedText))\n",
    "\n",
    "#Note: This is a very simple tokenization method. There are better ways to do this. Example: Using tiktoken from OpenAI. (Sub-word tokenization = Don't need a new token for every letter)\n"
   ]
  },
  {
   "cell_type": "code",
   "execution_count": null,
   "metadata": {},
   "outputs": [
    {
     "name": "stdout",
     "output_type": "stream",
     "text": [
      "[7, 4, 11, 11, 14]\n",
      "hello\n"
     ]
    }
   ],
   "source": [
    "#Get a list of all the chars\n",
    "chars = sorted(list(set(''.join(words))))\n",
    "chars += ['<S>', '<E>']\n",
    "\n",
    "#Tokenize the text- This will be used to convert the text to numbers\n",
    "char_to_idx = {ch:i for i,ch in enumerate(chars)}\n",
    "idx_to_char = {i:ch for i,ch in enumerate(chars)}\n",
    "\n",
    "#Encode and Decode Functions for Strings\n",
    "def encode(s):\n",
    "    return [char_to_idx[ch] for ch in s]\n",
    "def decode(l):\n",
    "    return ''.join([idx_to_char[i] for i in l])\n",
    "\n",
    "#Test\n",
    "encodedText = encode(\"hello\")\n",
    "print(encodedText)\n",
    "print(decode(encodedText))\n",
    "\n",
    "#Note: This is a very simple tokenization method. There are better ways to do this. Example: Using tiktoken from OpenAI. (Sub-word tokenization = Don't need a new token for every letter)\n"
   ]
  },
  {
   "cell_type": "code",
   "execution_count": 342,
   "metadata": {},
   "outputs": [],
   "source": [
    "#Basic Bigram Model\n",
    "\n",
    "#We want to count the frequency that each two char sequence occurs\n",
    "freq = {}\n",
    "\n",
    "for w in words[:]:\n",
    "    chs = ['<S>'] + list(w) + ['<E>']\n",
    "    #We want to get chars 1,2 then 2,3 then 3,4 ...\n",
    "    for ch1, ch2 in zip(chs, chs[1:]): \n",
    "        # print(ch1, ch2)\n",
    "        # b = (ch1, ch2)\n",
    "        #Convert to numbers\n",
    "        b = (char_to_idx[ch1], char_to_idx[ch2])\n",
    "\n",
    "        freq[b] = freq.get(b, 0) + 1"
   ]
  },
  {
   "cell_type": "code",
   "execution_count": 343,
   "metadata": {},
   "outputs": [
    {
     "name": "stdout",
     "output_type": "stream",
     "text": [
      "(13, 27) 6763\n",
      "(0, 27) 6640\n",
      "(0, 13) 5438\n"
     ]
    }
   ],
   "source": [
    "#Print the most common bigrams\n",
    "amount = 3\n",
    "for b, f in sorted(freq.items(), key=lambda x: x[1], reverse=True)[:amount]:\n",
    "    print(b, f)\n",
    "    "
   ]
  },
  {
   "cell_type": "code",
   "execution_count": 344,
   "metadata": {},
   "outputs": [
    {
     "data": {
      "application/vnd.plotly.v1+json": {
       "config": {
        "plotlyServerURL": "https://plot.ly"
       },
       "data": [
        {
         "colorscale": [
          [
           0,
           "rgb(247,252,245)"
          ],
          [
           0.125,
           "rgb(229,245,224)"
          ],
          [
           0.25,
           "rgb(199,233,192)"
          ],
          [
           0.375,
           "rgb(161,217,155)"
          ],
          [
           0.5,
           "rgb(116,196,118)"
          ],
          [
           0.625,
           "rgb(65,171,93)"
          ],
          [
           0.75,
           "rgb(35,139,69)"
          ],
          [
           0.875,
           "rgb(0,109,44)"
          ],
          [
           1,
           "rgb(0,68,27)"
          ]
         ],
         "hovertemplate": "Frequency: %{z}<extra></extra>",
         "type": "heatmap",
         "x": [
          "<E>",
          "<S>",
          "a",
          "b",
          "c",
          "d",
          "e",
          "f",
          "g",
          "h",
          "i",
          "j",
          "k",
          "l",
          "m",
          "n",
          "o",
          "p",
          "q",
          "r",
          "s",
          "t",
          "u",
          "v",
          "w",
          "x",
          "y",
          "z"
         ],
         "y": [
          "<E>",
          "<S>",
          "a",
          "b",
          "c",
          "d",
          "e",
          "f",
          "g",
          "h",
          "i",
          "j",
          "k",
          "l",
          "m",
          "n",
          "o",
          "p",
          "q",
          "r",
          "s",
          "t",
          "u",
          "v",
          "w",
          "x",
          "y",
          "z"
         ],
         "z": [
          [
           0,
           0,
           0,
           0,
           0,
           0,
           0,
           0,
           0,
           0,
           0,
           0,
           0,
           0,
           0,
           0,
           0,
           0,
           0,
           0,
           0,
           0,
           0,
           0,
           0,
           0,
           0,
           0
          ],
          [
           0,
           0,
           4410,
           1306,
           1542,
           1690,
           1531,
           417,
           669,
           874,
           591,
           2422,
           2963,
           1572,
           2538,
           1146,
           394,
           515,
           92,
           1639,
           2055,
           1308,
           78,
           376,
           307,
           134,
           535,
           929
          ],
          [
           6640,
           0,
           556,
           541,
           470,
           1042,
           692,
           134,
           168,
           2332,
           1650,
           175,
           568,
           2528,
           1634,
           5438,
           63,
           82,
           60,
           3264,
           1118,
           687,
           381,
           834,
           161,
           182,
           2050,
           435
          ],
          [
           114,
           0,
           321,
           38,
           1,
           65,
           655,
           0,
           0,
           41,
           217,
           1,
           0,
           103,
           0,
           4,
           105,
           0,
           0,
           842,
           8,
           2,
           45,
           0,
           0,
           0,
           83,
           0
          ],
          [
           97,
           0,
           815,
           0,
           42,
           1,
           551,
           0,
           2,
           664,
           271,
           3,
           316,
           116,
           0,
           0,
           380,
           1,
           11,
           76,
           5,
           35,
           35,
           0,
           0,
           3,
           104,
           4
          ],
          [
           516,
           0,
           1303,
           1,
           3,
           149,
           1283,
           5,
           25,
           118,
           674,
           9,
           3,
           60,
           30,
           31,
           378,
           0,
           1,
           424,
           29,
           4,
           92,
           17,
           23,
           0,
           317,
           1
          ],
          [
           3983,
           0,
           679,
           121,
           153,
           384,
           1271,
           82,
           125,
           152,
           818,
           55,
           178,
           3248,
           769,
           2675,
           269,
           83,
           14,
           1958,
           861,
           580,
           69,
           463,
           50,
           132,
           1070,
           181
          ],
          [
           80,
           0,
           242,
           0,
           0,
           0,
           123,
           44,
           1,
           1,
           160,
           0,
           2,
           20,
           0,
           4,
           60,
           0,
           0,
           114,
           6,
           18,
           10,
           0,
           4,
           0,
           14,
           2
          ],
          [
           108,
           0,
           330,
           3,
           0,
           19,
           334,
           1,
           25,
           360,
           190,
           3,
           0,
           32,
           6,
           27,
           83,
           0,
           0,
           201,
           30,
           31,
           85,
           1,
           26,
           0,
           31,
           1
          ],
          [
           2409,
           0,
           2244,
           8,
           2,
           24,
           674,
           2,
           2,
           1,
           729,
           9,
           29,
           185,
           117,
           138,
           287,
           1,
           1,
           204,
           31,
           71,
           166,
           39,
           10,
           0,
           213,
           20
          ],
          [
           2489,
           0,
           2445,
           110,
           509,
           440,
           1653,
           101,
           428,
           95,
           82,
           76,
           445,
           1345,
           427,
           2126,
           588,
           53,
           52,
           849,
           1316,
           541,
           109,
           269,
           8,
           89,
           779,
           277
          ],
          [
           71,
           0,
           1473,
           1,
           4,
           4,
           440,
           0,
           0,
           45,
           119,
           2,
           2,
           9,
           5,
           2,
           479,
           1,
           0,
           11,
           7,
           2,
           202,
           5,
           6,
           0,
           10,
           0
          ],
          [
           363,
           0,
           1731,
           2,
           2,
           2,
           895,
           1,
           0,
           307,
           509,
           2,
           20,
           139,
           9,
           26,
           344,
           0,
           0,
           109,
           95,
           17,
           50,
           2,
           34,
           0,
           379,
           2
          ],
          [
           1314,
           0,
           2623,
           52,
           25,
           138,
           2921,
           22,
           6,
           19,
           2480,
           6,
           24,
           1345,
           60,
           14,
           692,
           15,
           3,
           18,
           94,
           77,
           324,
           72,
           16,
           0,
           1588,
           10
          ],
          [
           516,
           0,
           2590,
           112,
           51,
           24,
           818,
           1,
           0,
           5,
           1256,
           7,
           1,
           5,
           168,
           20,
           452,
           38,
           0,
           97,
           35,
           4,
           139,
           3,
           2,
           0,
           287,
           11
          ],
          [
           6763,
           0,
           2977,
           8,
           213,
           704,
           1359,
           11,
           273,
           26,
           1725,
           44,
           58,
           195,
           19,
           1906,
           496,
           5,
           2,
           44,
           278,
           443,
           96,
           55,
           11,
           6,
           465,
           145
          ],
          [
           855,
           0,
           149,
           140,
           114,
           190,
           132,
           34,
           44,
           171,
           69,
           16,
           68,
           619,
           261,
           2411,
           115,
           95,
           3,
           1059,
           504,
           118,
           275,
           176,
           114,
           45,
           103,
           54
          ],
          [
           33,
           0,
           209,
           2,
           1,
           0,
           197,
           1,
           0,
           204,
           61,
           1,
           1,
           16,
           1,
           1,
           59,
           39,
           0,
           151,
           16,
           17,
           4,
           0,
           0,
           0,
           12,
           0
          ],
          [
           28,
           0,
           13,
           0,
           0,
           0,
           1,
           0,
           0,
           0,
           13,
           0,
           0,
           1,
           2,
           0,
           2,
           0,
           0,
           1,
           2,
           0,
           206,
           0,
           3,
           0,
           0,
           0
          ],
          [
           1377,
           0,
           2356,
           41,
           99,
           187,
           1697,
           9,
           76,
           121,
           3033,
           25,
           90,
           413,
           162,
           140,
           869,
           14,
           16,
           425,
           190,
           208,
           252,
           80,
           21,
           3,
           773,
           23
          ],
          [
           1169,
           0,
           1201,
           21,
           60,
           9,
           884,
           2,
           2,
           1285,
           684,
           2,
           82,
           279,
           90,
           24,
           531,
           51,
           1,
           55,
           461,
           765,
           185,
           14,
           24,
           0,
           215,
           10
          ],
          [
           483,
           0,
           1027,
           1,
           17,
           0,
           716,
           2,
           2,
           647,
           532,
           3,
           0,
           134,
           4,
           22,
           667,
           0,
           0,
           352,
           35,
           374,
           78,
           15,
           11,
           2,
           341,
           105
          ],
          [
           155,
           0,
           163,
           103,
           103,
           136,
           169,
           19,
           47,
           58,
           121,
           14,
           93,
           301,
           154,
           275,
           10,
           16,
           10,
           414,
           474,
           82,
           3,
           37,
           86,
           34,
           13,
           45
          ],
          [
           88,
           0,
           642,
           1,
           0,
           1,
           568,
           0,
           0,
           1,
           911,
           0,
           3,
           14,
           0,
           8,
           153,
           0,
           0,
           48,
           0,
           0,
           7,
           7,
           0,
           0,
           121,
           0
          ],
          [
           51,
           0,
           280,
           1,
           0,
           8,
           149,
           2,
           1,
           23,
           148,
           0,
           6,
           13,
           2,
           58,
           36,
           0,
           0,
           22,
           20,
           8,
           25,
           0,
           2,
           0,
           73,
           1
          ],
          [
           164,
           0,
           103,
           1,
           4,
           5,
           36,
           3,
           0,
           1,
           102,
           0,
           0,
           39,
           1,
           1,
           41,
           0,
           0,
           0,
           31,
           70,
           5,
           0,
           3,
           38,
           30,
           19
          ],
          [
           2007,
           0,
           2143,
           27,
           115,
           272,
           301,
           12,
           30,
           22,
           192,
           23,
           86,
           1104,
           148,
           1826,
           271,
           15,
           6,
           291,
           401,
           104,
           141,
           106,
           4,
           28,
           23,
           78
          ],
          [
           160,
           0,
           860,
           4,
           2,
           2,
           373,
           0,
           1,
           43,
           364,
           2,
           2,
           123,
           35,
           4,
           110,
           2,
           0,
           32,
           4,
           4,
           73,
           2,
           3,
           1,
           147,
           45
          ]
         ],
         "zmax": 6763,
         "zmin": 0
        }
       ],
       "layout": {
        "height": 600,
        "template": {
         "data": {
          "bar": [
           {
            "error_x": {
             "color": "#2a3f5f"
            },
            "error_y": {
             "color": "#2a3f5f"
            },
            "marker": {
             "line": {
              "color": "#E5ECF6",
              "width": 0.5
             },
             "pattern": {
              "fillmode": "overlay",
              "size": 10,
              "solidity": 0.2
             }
            },
            "type": "bar"
           }
          ],
          "barpolar": [
           {
            "marker": {
             "line": {
              "color": "#E5ECF6",
              "width": 0.5
             },
             "pattern": {
              "fillmode": "overlay",
              "size": 10,
              "solidity": 0.2
             }
            },
            "type": "barpolar"
           }
          ],
          "carpet": [
           {
            "aaxis": {
             "endlinecolor": "#2a3f5f",
             "gridcolor": "white",
             "linecolor": "white",
             "minorgridcolor": "white",
             "startlinecolor": "#2a3f5f"
            },
            "baxis": {
             "endlinecolor": "#2a3f5f",
             "gridcolor": "white",
             "linecolor": "white",
             "minorgridcolor": "white",
             "startlinecolor": "#2a3f5f"
            },
            "type": "carpet"
           }
          ],
          "choropleth": [
           {
            "colorbar": {
             "outlinewidth": 0,
             "ticks": ""
            },
            "type": "choropleth"
           }
          ],
          "contour": [
           {
            "colorbar": {
             "outlinewidth": 0,
             "ticks": ""
            },
            "colorscale": [
             [
              0,
              "#0d0887"
             ],
             [
              0.1111111111111111,
              "#46039f"
             ],
             [
              0.2222222222222222,
              "#7201a8"
             ],
             [
              0.3333333333333333,
              "#9c179e"
             ],
             [
              0.4444444444444444,
              "#bd3786"
             ],
             [
              0.5555555555555556,
              "#d8576b"
             ],
             [
              0.6666666666666666,
              "#ed7953"
             ],
             [
              0.7777777777777778,
              "#fb9f3a"
             ],
             [
              0.8888888888888888,
              "#fdca26"
             ],
             [
              1,
              "#f0f921"
             ]
            ],
            "type": "contour"
           }
          ],
          "contourcarpet": [
           {
            "colorbar": {
             "outlinewidth": 0,
             "ticks": ""
            },
            "type": "contourcarpet"
           }
          ],
          "heatmap": [
           {
            "colorbar": {
             "outlinewidth": 0,
             "ticks": ""
            },
            "colorscale": [
             [
              0,
              "#0d0887"
             ],
             [
              0.1111111111111111,
              "#46039f"
             ],
             [
              0.2222222222222222,
              "#7201a8"
             ],
             [
              0.3333333333333333,
              "#9c179e"
             ],
             [
              0.4444444444444444,
              "#bd3786"
             ],
             [
              0.5555555555555556,
              "#d8576b"
             ],
             [
              0.6666666666666666,
              "#ed7953"
             ],
             [
              0.7777777777777778,
              "#fb9f3a"
             ],
             [
              0.8888888888888888,
              "#fdca26"
             ],
             [
              1,
              "#f0f921"
             ]
            ],
            "type": "heatmap"
           }
          ],
          "heatmapgl": [
           {
            "colorbar": {
             "outlinewidth": 0,
             "ticks": ""
            },
            "colorscale": [
             [
              0,
              "#0d0887"
             ],
             [
              0.1111111111111111,
              "#46039f"
             ],
             [
              0.2222222222222222,
              "#7201a8"
             ],
             [
              0.3333333333333333,
              "#9c179e"
             ],
             [
              0.4444444444444444,
              "#bd3786"
             ],
             [
              0.5555555555555556,
              "#d8576b"
             ],
             [
              0.6666666666666666,
              "#ed7953"
             ],
             [
              0.7777777777777778,
              "#fb9f3a"
             ],
             [
              0.8888888888888888,
              "#fdca26"
             ],
             [
              1,
              "#f0f921"
             ]
            ],
            "type": "heatmapgl"
           }
          ],
          "histogram": [
           {
            "marker": {
             "pattern": {
              "fillmode": "overlay",
              "size": 10,
              "solidity": 0.2
             }
            },
            "type": "histogram"
           }
          ],
          "histogram2d": [
           {
            "colorbar": {
             "outlinewidth": 0,
             "ticks": ""
            },
            "colorscale": [
             [
              0,
              "#0d0887"
             ],
             [
              0.1111111111111111,
              "#46039f"
             ],
             [
              0.2222222222222222,
              "#7201a8"
             ],
             [
              0.3333333333333333,
              "#9c179e"
             ],
             [
              0.4444444444444444,
              "#bd3786"
             ],
             [
              0.5555555555555556,
              "#d8576b"
             ],
             [
              0.6666666666666666,
              "#ed7953"
             ],
             [
              0.7777777777777778,
              "#fb9f3a"
             ],
             [
              0.8888888888888888,
              "#fdca26"
             ],
             [
              1,
              "#f0f921"
             ]
            ],
            "type": "histogram2d"
           }
          ],
          "histogram2dcontour": [
           {
            "colorbar": {
             "outlinewidth": 0,
             "ticks": ""
            },
            "colorscale": [
             [
              0,
              "#0d0887"
             ],
             [
              0.1111111111111111,
              "#46039f"
             ],
             [
              0.2222222222222222,
              "#7201a8"
             ],
             [
              0.3333333333333333,
              "#9c179e"
             ],
             [
              0.4444444444444444,
              "#bd3786"
             ],
             [
              0.5555555555555556,
              "#d8576b"
             ],
             [
              0.6666666666666666,
              "#ed7953"
             ],
             [
              0.7777777777777778,
              "#fb9f3a"
             ],
             [
              0.8888888888888888,
              "#fdca26"
             ],
             [
              1,
              "#f0f921"
             ]
            ],
            "type": "histogram2dcontour"
           }
          ],
          "mesh3d": [
           {
            "colorbar": {
             "outlinewidth": 0,
             "ticks": ""
            },
            "type": "mesh3d"
           }
          ],
          "parcoords": [
           {
            "line": {
             "colorbar": {
              "outlinewidth": 0,
              "ticks": ""
             }
            },
            "type": "parcoords"
           }
          ],
          "pie": [
           {
            "automargin": true,
            "type": "pie"
           }
          ],
          "scatter": [
           {
            "fillpattern": {
             "fillmode": "overlay",
             "size": 10,
             "solidity": 0.2
            },
            "type": "scatter"
           }
          ],
          "scatter3d": [
           {
            "line": {
             "colorbar": {
              "outlinewidth": 0,
              "ticks": ""
             }
            },
            "marker": {
             "colorbar": {
              "outlinewidth": 0,
              "ticks": ""
             }
            },
            "type": "scatter3d"
           }
          ],
          "scattercarpet": [
           {
            "marker": {
             "colorbar": {
              "outlinewidth": 0,
              "ticks": ""
             }
            },
            "type": "scattercarpet"
           }
          ],
          "scattergeo": [
           {
            "marker": {
             "colorbar": {
              "outlinewidth": 0,
              "ticks": ""
             }
            },
            "type": "scattergeo"
           }
          ],
          "scattergl": [
           {
            "marker": {
             "colorbar": {
              "outlinewidth": 0,
              "ticks": ""
             }
            },
            "type": "scattergl"
           }
          ],
          "scattermapbox": [
           {
            "marker": {
             "colorbar": {
              "outlinewidth": 0,
              "ticks": ""
             }
            },
            "type": "scattermapbox"
           }
          ],
          "scatterpolar": [
           {
            "marker": {
             "colorbar": {
              "outlinewidth": 0,
              "ticks": ""
             }
            },
            "type": "scatterpolar"
           }
          ],
          "scatterpolargl": [
           {
            "marker": {
             "colorbar": {
              "outlinewidth": 0,
              "ticks": ""
             }
            },
            "type": "scatterpolargl"
           }
          ],
          "scatterternary": [
           {
            "marker": {
             "colorbar": {
              "outlinewidth": 0,
              "ticks": ""
             }
            },
            "type": "scatterternary"
           }
          ],
          "surface": [
           {
            "colorbar": {
             "outlinewidth": 0,
             "ticks": ""
            },
            "colorscale": [
             [
              0,
              "#0d0887"
             ],
             [
              0.1111111111111111,
              "#46039f"
             ],
             [
              0.2222222222222222,
              "#7201a8"
             ],
             [
              0.3333333333333333,
              "#9c179e"
             ],
             [
              0.4444444444444444,
              "#bd3786"
             ],
             [
              0.5555555555555556,
              "#d8576b"
             ],
             [
              0.6666666666666666,
              "#ed7953"
             ],
             [
              0.7777777777777778,
              "#fb9f3a"
             ],
             [
              0.8888888888888888,
              "#fdca26"
             ],
             [
              1,
              "#f0f921"
             ]
            ],
            "type": "surface"
           }
          ],
          "table": [
           {
            "cells": {
             "fill": {
              "color": "#EBF0F8"
             },
             "line": {
              "color": "white"
             }
            },
            "header": {
             "fill": {
              "color": "#C8D4E3"
             },
             "line": {
              "color": "white"
             }
            },
            "type": "table"
           }
          ]
         },
         "layout": {
          "annotationdefaults": {
           "arrowcolor": "#2a3f5f",
           "arrowhead": 0,
           "arrowwidth": 1
          },
          "autotypenumbers": "strict",
          "coloraxis": {
           "colorbar": {
            "outlinewidth": 0,
            "ticks": ""
           }
          },
          "colorscale": {
           "diverging": [
            [
             0,
             "#8e0152"
            ],
            [
             0.1,
             "#c51b7d"
            ],
            [
             0.2,
             "#de77ae"
            ],
            [
             0.3,
             "#f1b6da"
            ],
            [
             0.4,
             "#fde0ef"
            ],
            [
             0.5,
             "#f7f7f7"
            ],
            [
             0.6,
             "#e6f5d0"
            ],
            [
             0.7,
             "#b8e186"
            ],
            [
             0.8,
             "#7fbc41"
            ],
            [
             0.9,
             "#4d9221"
            ],
            [
             1,
             "#276419"
            ]
           ],
           "sequential": [
            [
             0,
             "#0d0887"
            ],
            [
             0.1111111111111111,
             "#46039f"
            ],
            [
             0.2222222222222222,
             "#7201a8"
            ],
            [
             0.3333333333333333,
             "#9c179e"
            ],
            [
             0.4444444444444444,
             "#bd3786"
            ],
            [
             0.5555555555555556,
             "#d8576b"
            ],
            [
             0.6666666666666666,
             "#ed7953"
            ],
            [
             0.7777777777777778,
             "#fb9f3a"
            ],
            [
             0.8888888888888888,
             "#fdca26"
            ],
            [
             1,
             "#f0f921"
            ]
           ],
           "sequentialminus": [
            [
             0,
             "#0d0887"
            ],
            [
             0.1111111111111111,
             "#46039f"
            ],
            [
             0.2222222222222222,
             "#7201a8"
            ],
            [
             0.3333333333333333,
             "#9c179e"
            ],
            [
             0.4444444444444444,
             "#bd3786"
            ],
            [
             0.5555555555555556,
             "#d8576b"
            ],
            [
             0.6666666666666666,
             "#ed7953"
            ],
            [
             0.7777777777777778,
             "#fb9f3a"
            ],
            [
             0.8888888888888888,
             "#fdca26"
            ],
            [
             1,
             "#f0f921"
            ]
           ]
          },
          "colorway": [
           "#636efa",
           "#EF553B",
           "#00cc96",
           "#ab63fa",
           "#FFA15A",
           "#19d3f3",
           "#FF6692",
           "#B6E880",
           "#FF97FF",
           "#FECB52"
          ],
          "font": {
           "color": "#2a3f5f"
          },
          "geo": {
           "bgcolor": "white",
           "lakecolor": "white",
           "landcolor": "#E5ECF6",
           "showlakes": true,
           "showland": true,
           "subunitcolor": "white"
          },
          "hoverlabel": {
           "align": "left"
          },
          "hovermode": "closest",
          "mapbox": {
           "style": "light"
          },
          "paper_bgcolor": "white",
          "plot_bgcolor": "#E5ECF6",
          "polar": {
           "angularaxis": {
            "gridcolor": "white",
            "linecolor": "white",
            "ticks": ""
           },
           "bgcolor": "#E5ECF6",
           "radialaxis": {
            "gridcolor": "white",
            "linecolor": "white",
            "ticks": ""
           }
          },
          "scene": {
           "xaxis": {
            "backgroundcolor": "#E5ECF6",
            "gridcolor": "white",
            "gridwidth": 2,
            "linecolor": "white",
            "showbackground": true,
            "ticks": "",
            "zerolinecolor": "white"
           },
           "yaxis": {
            "backgroundcolor": "#E5ECF6",
            "gridcolor": "white",
            "gridwidth": 2,
            "linecolor": "white",
            "showbackground": true,
            "ticks": "",
            "zerolinecolor": "white"
           },
           "zaxis": {
            "backgroundcolor": "#E5ECF6",
            "gridcolor": "white",
            "gridwidth": 2,
            "linecolor": "white",
            "showbackground": true,
            "ticks": "",
            "zerolinecolor": "white"
           }
          },
          "shapedefaults": {
           "line": {
            "color": "#2a3f5f"
           }
          },
          "ternary": {
           "aaxis": {
            "gridcolor": "white",
            "linecolor": "white",
            "ticks": ""
           },
           "baxis": {
            "gridcolor": "white",
            "linecolor": "white",
            "ticks": ""
           },
           "bgcolor": "#E5ECF6",
           "caxis": {
            "gridcolor": "white",
            "linecolor": "white",
            "ticks": ""
           }
          },
          "title": {
           "x": 0.05
          },
          "xaxis": {
           "automargin": true,
           "gridcolor": "white",
           "linecolor": "white",
           "ticks": "",
           "title": {
            "standoff": 15
           },
           "zerolinecolor": "white",
           "zerolinewidth": 2
          },
          "yaxis": {
           "automargin": true,
           "gridcolor": "white",
           "linecolor": "white",
           "ticks": "",
           "title": {
            "standoff": 15
           },
           "zerolinecolor": "white",
           "zerolinewidth": 2
          }
         }
        },
        "title": {
         "text": "Bigram Frequency"
        },
        "width": 600,
        "xaxis": {
         "title": {
          "text": "Second Letter"
         }
        },
        "yaxis": {
         "title": {
          "text": "First Letter"
         }
        }
       }
      }
     },
     "metadata": {},
     "output_type": "display_data"
    }
   ],
   "source": [
    "import plotly.graph_objs as go\n",
    "import numpy as np\n",
    "\n",
    "# Convert bigram frequencies to letter frequencies\n",
    "freq_letters = {(idx_to_char[k[0]], idx_to_char[k[1]]): v for k,v in freq.items()}\n",
    "# Get list of letters and their frequencies\n",
    "letters = sorted(list(set([c for bigram in freq_letters.keys() for c in bigram])))\n",
    "freqs = np.zeros((len(letters), len(letters)))\n",
    "for i, c1 in enumerate(letters):\n",
    "    for j, c2 in enumerate(letters):\n",
    "        freqs[i,j] = freq_letters.get((c1,c2), 0)\n",
    "\n",
    "# Create heatmap\n",
    "fig = go.Figure(data=go.Heatmap(\n",
    "                   z=freqs,\n",
    "                   x=letters,\n",
    "                   y=letters,\n",
    "                   colorscale='Greens',\n",
    "                   zmin=0,\n",
    "                   zmax=np.max(freqs),\n",
    "                   hovertemplate='Frequency: %{z}<extra></extra>'))\n",
    "fig.update_layout(\n",
    "    title='Bigram Frequency',\n",
    "    xaxis_title='Second Letter',\n",
    "    yaxis_title='First Letter',\n",
    "    width=600,\n",
    "    height=600,\n",
    ")\n",
    "fig.show()\n"
   ]
  },
  {
   "cell_type": "code",
   "execution_count": 345,
   "metadata": {},
   "outputs": [
    {
     "data": {
      "text/plain": [
       "{('<S>', 'e'): 1531,\n",
       " ('e', 'm'): 769,\n",
       " ('m', 'm'): 168,\n",
       " ('m', 'a'): 2590,\n",
       " ('a', '<E>'): 6640,\n",
       " ('<S>', 'o'): 394,\n",
       " ('o', 'l'): 619,\n",
       " ('l', 'i'): 2480,\n",
       " ('i', 'v'): 269,\n",
       " ('v', 'i'): 911,\n",
       " ('i', 'a'): 2445,\n",
       " ('<S>', 'a'): 4410,\n",
       " ('a', 'v'): 834,\n",
       " ('v', 'a'): 642,\n",
       " ('<S>', 'i'): 591,\n",
       " ('i', 's'): 1316,\n",
       " ('s', 'a'): 1201,\n",
       " ('a', 'b'): 541,\n",
       " ('b', 'e'): 655,\n",
       " ('e', 'l'): 3248,\n",
       " ('l', 'l'): 1345,\n",
       " ('l', 'a'): 2623,\n",
       " ('<S>', 's'): 2055,\n",
       " ('s', 'o'): 531,\n",
       " ('o', 'p'): 95,\n",
       " ('p', 'h'): 204,\n",
       " ('h', 'i'): 729,\n",
       " ('<S>', 'c'): 1542,\n",
       " ('c', 'h'): 664,\n",
       " ('h', 'a'): 2244,\n",
       " ('a', 'r'): 3264,\n",
       " ('r', 'l'): 413,\n",
       " ('l', 'o'): 692,\n",
       " ('o', 't'): 118,\n",
       " ('t', 't'): 374,\n",
       " ('t', 'e'): 716,\n",
       " ('e', '<E>'): 3983,\n",
       " ('<S>', 'm'): 2538,\n",
       " ('m', 'i'): 1256,\n",
       " ('a', 'm'): 1634,\n",
       " ('m', 'e'): 818,\n",
       " ('<S>', 'h'): 874,\n",
       " ('r', 'p'): 14,\n",
       " ('p', 'e'): 197,\n",
       " ('e', 'r'): 1958,\n",
       " ('r', '<E>'): 1377,\n",
       " ('e', 'v'): 463,\n",
       " ('v', 'e'): 568,\n",
       " ('l', 'y'): 1588,\n",
       " ('y', 'n'): 1826,\n",
       " ('n', '<E>'): 6763,\n",
       " ('b', 'i'): 217,\n",
       " ('i', 'g'): 428,\n",
       " ('g', 'a'): 330,\n",
       " ('a', 'i'): 1650,\n",
       " ('i', 'l'): 1345,\n",
       " ('l', '<E>'): 1314,\n",
       " ('y', '<E>'): 2007,\n",
       " ('i', 'z'): 277,\n",
       " ('z', 'a'): 860,\n",
       " ('e', 't'): 580,\n",
       " ('t', 'h'): 647,\n",
       " ('h', '<E>'): 2409,\n",
       " ('r', 'y'): 773,\n",
       " ('o', 'f'): 34,\n",
       " ('f', 'i'): 160,\n",
       " ('c', 'a'): 815,\n",
       " ('r', 'i'): 3033,\n",
       " ('s', 'c'): 60,\n",
       " ('l', 'e'): 2921,\n",
       " ('t', '<E>'): 483,\n",
       " ('<S>', 'v'): 376,\n",
       " ('i', 'c'): 509,\n",
       " ('c', 't'): 35,\n",
       " ('t', 'o'): 667,\n",
       " ('o', 'r'): 1059,\n",
       " ('a', 'd'): 1042,\n",
       " ('d', 'i'): 674,\n",
       " ('o', 'n'): 2411,\n",
       " ('<S>', 'l'): 1572,\n",
       " ('l', 'u'): 324,\n",
       " ('u', 'n'): 275,\n",
       " ('n', 'a'): 2977,\n",
       " ('<S>', 'g'): 669,\n",
       " ('g', 'r'): 201,\n",
       " ('r', 'a'): 2356,\n",
       " ('a', 'c'): 470,\n",
       " ('c', 'e'): 551,\n",
       " ('h', 'l'): 185,\n",
       " ('o', 'e'): 132,\n",
       " ('<S>', 'p'): 515,\n",
       " ('e', 'n'): 2675,\n",
       " ('n', 'e'): 1359,\n",
       " ('a', 'y'): 2050,\n",
       " ('y', 'l'): 1104,\n",
       " ('<S>', 'r'): 1639,\n",
       " ('e', 'y'): 1070,\n",
       " ('<S>', 'z'): 929,\n",
       " ('z', 'o'): 110,\n",
       " ('<S>', 'n'): 1146,\n",
       " ('n', 'o'): 496,\n",
       " ('e', 'a'): 679,\n",
       " ('a', 'n'): 5438,\n",
       " ('n', 'n'): 1906,\n",
       " ('a', 'h'): 2332,\n",
       " ('d', 'd'): 149,\n",
       " ('a', 'u'): 381,\n",
       " ('u', 'b'): 103,\n",
       " ('b', 'r'): 842,\n",
       " ('r', 'e'): 1697,\n",
       " ('i', 'e'): 1653,\n",
       " ('s', 't'): 765,\n",
       " ('a', 't'): 687,\n",
       " ('t', 'a'): 1027,\n",
       " ('a', 'l'): 2528,\n",
       " ('a', 'z'): 435,\n",
       " ('z', 'e'): 373,\n",
       " ('i', 'o'): 588,\n",
       " ('u', 'r'): 414,\n",
       " ('r', 'o'): 869,\n",
       " ('u', 'd'): 136,\n",
       " ('d', 'r'): 424,\n",
       " ('<S>', 'b'): 1306,\n",
       " ('o', 'o'): 115,\n",
       " ('o', 'k'): 68,\n",
       " ('k', 'l'): 139,\n",
       " ('c', 'l'): 116,\n",
       " ('i', 'r'): 849,\n",
       " ('s', 'k'): 82,\n",
       " ('k', 'y'): 379,\n",
       " ('u', 'c'): 103,\n",
       " ('c', 'y'): 104,\n",
       " ('p', 'a'): 209,\n",
       " ('s', 'l'): 279,\n",
       " ('i', 'n'): 2126,\n",
       " ('o', 'v'): 176,\n",
       " ('g', 'e'): 334,\n",
       " ('e', 's'): 861,\n",
       " ('s', 'i'): 684,\n",
       " ('s', '<E>'): 1169,\n",
       " ('<S>', 'k'): 2963,\n",
       " ('k', 'e'): 895,\n",
       " ('e', 'd'): 384,\n",
       " ('d', 'y'): 317,\n",
       " ('n', 't'): 443,\n",
       " ('y', 'a'): 2143,\n",
       " ('<S>', 'w'): 307,\n",
       " ('w', 'i'): 148,\n",
       " ('o', 'w'): 114,\n",
       " ('w', '<E>'): 51,\n",
       " ('k', 'i'): 509,\n",
       " ('n', 's'): 278,\n",
       " ('a', 'o'): 63,\n",
       " ('o', 'm'): 261,\n",
       " ('i', '<E>'): 2489,\n",
       " ('a', 'a'): 556,\n",
       " ('i', 'y'): 779,\n",
       " ('d', 'e'): 1283,\n",
       " ('c', 'o'): 380,\n",
       " ('r', 'u'): 252,\n",
       " ('b', 'y'): 83,\n",
       " ('s', 'e'): 884,\n",
       " ('n', 'i'): 1725,\n",
       " ('i', 't'): 541,\n",
       " ('t', 'y'): 341,\n",
       " ('u', 't'): 82,\n",
       " ('t', 'u'): 78,\n",
       " ('u', 'm'): 154,\n",
       " ('m', 'n'): 20,\n",
       " ('g', 'i'): 190,\n",
       " ('t', 'i'): 532,\n",
       " ('<S>', 'q'): 92,\n",
       " ('q', 'u'): 206,\n",
       " ('u', 'i'): 121,\n",
       " ('a', 'e'): 692,\n",
       " ('e', 'h'): 152,\n",
       " ('v', 'y'): 121,\n",
       " ('p', 'i'): 61,\n",
       " ('i', 'p'): 53,\n",
       " ('y', 'd'): 272,\n",
       " ('e', 'x'): 132,\n",
       " ('x', 'a'): 103,\n",
       " ('<S>', 'j'): 2422,\n",
       " ('j', 'o'): 479,\n",
       " ('o', 's'): 504,\n",
       " ('e', 'p'): 83,\n",
       " ('j', 'u'): 202,\n",
       " ('u', 'l'): 301,\n",
       " ('<S>', 'd'): 1690,\n",
       " ('k', 'a'): 1731,\n",
       " ('e', 'e'): 1271,\n",
       " ('y', 't'): 104,\n",
       " ('d', 'l'): 60,\n",
       " ('c', 'k'): 316,\n",
       " ('n', 'z'): 145,\n",
       " ('z', 'i'): 364,\n",
       " ('a', 'g'): 168,\n",
       " ('d', 'a'): 1303,\n",
       " ('j', 'a'): 1473,\n",
       " ('h', 'e'): 674,\n",
       " ('<S>', 'x'): 134,\n",
       " ('x', 'i'): 102,\n",
       " ('i', 'm'): 427,\n",
       " ('e', 'i'): 818,\n",
       " ('<S>', 't'): 1308,\n",
       " ('<S>', 'f'): 417,\n",
       " ('f', 'a'): 242,\n",
       " ('n', 'd'): 704,\n",
       " ('r', 'g'): 76,\n",
       " ('a', 's'): 1118,\n",
       " ('s', 'h'): 1285,\n",
       " ('b', 'a'): 321,\n",
       " ('k', 'h'): 307,\n",
       " ('s', 'm'): 90,\n",
       " ('o', 'd'): 190,\n",
       " ('r', 's'): 190,\n",
       " ('g', 'h'): 360,\n",
       " ('s', 'y'): 215,\n",
       " ('y', 's'): 401,\n",
       " ('s', 's'): 461,\n",
       " ('e', 'c'): 153,\n",
       " ('c', 'i'): 271,\n",
       " ('m', 'o'): 452,\n",
       " ('r', 'k'): 90,\n",
       " ('n', 'l'): 195,\n",
       " ('d', 'n'): 31,\n",
       " ('r', 'd'): 187,\n",
       " ('o', 'i'): 69,\n",
       " ('t', 'r'): 352,\n",
       " ('m', 'b'): 112,\n",
       " ('r', 'm'): 162,\n",
       " ('n', 'y'): 465,\n",
       " ('d', 'o'): 378,\n",
       " ('o', 'a'): 149,\n",
       " ('o', 'c'): 114,\n",
       " ('m', 'y'): 287,\n",
       " ('s', 'u'): 185,\n",
       " ('m', 'c'): 51,\n",
       " ('p', 'r'): 151,\n",
       " ('o', 'u'): 275,\n",
       " ('r', 'n'): 140,\n",
       " ('w', 'a'): 280,\n",
       " ('e', 'b'): 121,\n",
       " ('c', 'c'): 42,\n",
       " ('a', 'w'): 161,\n",
       " ('w', 'y'): 73,\n",
       " ('y', 'e'): 301,\n",
       " ('e', 'o'): 269,\n",
       " ('a', 'k'): 568,\n",
       " ('n', 'g'): 273,\n",
       " ('k', 'o'): 344,\n",
       " ('b', 'l'): 103,\n",
       " ('h', 'o'): 287,\n",
       " ('e', 'g'): 125,\n",
       " ('f', 'r'): 114,\n",
       " ('s', 'p'): 51,\n",
       " ('l', 's'): 94,\n",
       " ('y', 'z'): 78,\n",
       " ('g', 'g'): 25,\n",
       " ('z', 'u'): 73,\n",
       " ('i', 'd'): 440,\n",
       " ('m', '<E>'): 516,\n",
       " ('o', 'g'): 44,\n",
       " ('j', 'e'): 440,\n",
       " ('g', 'n'): 27,\n",
       " ('y', 'r'): 291,\n",
       " ('c', '<E>'): 97,\n",
       " ('c', 'q'): 11,\n",
       " ('u', 'e'): 169,\n",
       " ('i', 'f'): 101,\n",
       " ('f', 'e'): 123,\n",
       " ('i', 'x'): 89,\n",
       " ('x', '<E>'): 164,\n",
       " ('o', 'y'): 103,\n",
       " ('g', 'o'): 83,\n",
       " ('g', 't'): 31,\n",
       " ('l', 't'): 77,\n",
       " ('g', 'w'): 26,\n",
       " ('w', 'e'): 149,\n",
       " ('l', 'd'): 138,\n",
       " ('a', 'p'): 82,\n",
       " ('h', 'n'): 138,\n",
       " ('t', 'l'): 134,\n",
       " ('m', 'r'): 97,\n",
       " ('n', 'c'): 213,\n",
       " ('l', 'b'): 52,\n",
       " ('i', 'k'): 445,\n",
       " ('<S>', 'y'): 535,\n",
       " ('t', 'z'): 105,\n",
       " ('h', 'r'): 204,\n",
       " ('j', 'i'): 119,\n",
       " ('h', 't'): 71,\n",
       " ('r', 'r'): 425,\n",
       " ('z', 'l'): 123,\n",
       " ('w', 'r'): 22,\n",
       " ('b', 'b'): 38,\n",
       " ('r', 't'): 208,\n",
       " ('l', 'v'): 72,\n",
       " ('e', 'j'): 55,\n",
       " ('o', 'h'): 171,\n",
       " ('u', 's'): 474,\n",
       " ('i', 'b'): 110,\n",
       " ('g', 'l'): 32,\n",
       " ('h', 'y'): 213,\n",
       " ('p', 'o'): 59,\n",
       " ('p', 'p'): 39,\n",
       " ('p', 'y'): 12,\n",
       " ('n', 'r'): 44,\n",
       " ('z', 'm'): 35,\n",
       " ('v', 'o'): 153,\n",
       " ('l', 'm'): 60,\n",
       " ('o', 'x'): 45,\n",
       " ('d', '<E>'): 516,\n",
       " ('i', 'u'): 109,\n",
       " ('v', '<E>'): 88,\n",
       " ('f', 'f'): 44,\n",
       " ('b', 'o'): 105,\n",
       " ('e', 'k'): 178,\n",
       " ('c', 'r'): 76,\n",
       " ('d', 'g'): 25,\n",
       " ('r', 'c'): 99,\n",
       " ('r', 'h'): 121,\n",
       " ('n', 'k'): 58,\n",
       " ('h', 'u'): 166,\n",
       " ('d', 's'): 29,\n",
       " ('a', 'x'): 182,\n",
       " ('y', 'c'): 115,\n",
       " ('e', 'w'): 50,\n",
       " ('v', 'k'): 3,\n",
       " ('z', 'h'): 43,\n",
       " ('w', 'h'): 23,\n",
       " ('t', 'n'): 22,\n",
       " ('x', 'l'): 39,\n",
       " ('g', 'u'): 85,\n",
       " ('u', 'a'): 163,\n",
       " ('u', 'p'): 16,\n",
       " ('u', 'g'): 47,\n",
       " ('d', 'u'): 92,\n",
       " ('l', 'c'): 25,\n",
       " ('r', 'b'): 41,\n",
       " ('a', 'q'): 60,\n",
       " ('b', '<E>'): 114,\n",
       " ('g', 'y'): 31,\n",
       " ('y', 'p'): 15,\n",
       " ('p', 't'): 17,\n",
       " ('e', 'z'): 181,\n",
       " ('z', 'r'): 32,\n",
       " ('f', 'l'): 20,\n",
       " ('o', '<E>'): 855,\n",
       " ('o', 'b'): 140,\n",
       " ('u', 'z'): 45,\n",
       " ('z', '<E>'): 160,\n",
       " ('i', 'q'): 52,\n",
       " ('y', 'v'): 106,\n",
       " ('n', 'v'): 55,\n",
       " ('d', 'h'): 118,\n",
       " ('g', 'd'): 19,\n",
       " ('t', 's'): 35,\n",
       " ('n', 'h'): 26,\n",
       " ('y', 'j'): 23,\n",
       " ('k', 'r'): 109,\n",
       " ('z', 'b'): 4,\n",
       " ('g', '<E>'): 108,\n",
       " ('a', 'j'): 175,\n",
       " ('r', 'j'): 25,\n",
       " ('m', 'p'): 38,\n",
       " ('p', 'b'): 2,\n",
       " ('y', 'o'): 271,\n",
       " ('z', 'y'): 147,\n",
       " ('p', 'l'): 16,\n",
       " ('l', 'k'): 24,\n",
       " ('i', 'j'): 76,\n",
       " ('x', 'e'): 36,\n",
       " ('y', 'u'): 141,\n",
       " ('l', 'n'): 14,\n",
       " ('u', 'x'): 34,\n",
       " ('i', 'h'): 95,\n",
       " ('w', 's'): 20,\n",
       " ('k', 's'): 95,\n",
       " ('m', 'u'): 139,\n",
       " ('y', 'k'): 86,\n",
       " ('e', 'f'): 82,\n",
       " ('k', '<E>'): 363,\n",
       " ('y', 'm'): 148,\n",
       " ('z', 'z'): 45,\n",
       " ('m', 'd'): 24,\n",
       " ('s', 'r'): 55,\n",
       " ('e', 'u'): 69,\n",
       " ('l', 'h'): 19,\n",
       " ('a', 'f'): 134,\n",
       " ('r', 'w'): 21,\n",
       " ('n', 'u'): 96,\n",
       " ('v', 'r'): 48,\n",
       " ('m', 's'): 35,\n",
       " ('<S>', 'u'): 78,\n",
       " ('f', 's'): 6,\n",
       " ('y', 'b'): 27,\n",
       " ('x', 'o'): 41,\n",
       " ('g', 's'): 30,\n",
       " ('x', 'y'): 30,\n",
       " ('w', 'n'): 58,\n",
       " ('j', 'h'): 45,\n",
       " ('f', 'n'): 4,\n",
       " ('n', 'j'): 44,\n",
       " ('r', 'v'): 80,\n",
       " ('n', 'm'): 19,\n",
       " ('t', 'c'): 17,\n",
       " ('s', 'w'): 24,\n",
       " ('k', 't'): 17,\n",
       " ('f', 't'): 18,\n",
       " ('x', 't'): 70,\n",
       " ('u', 'v'): 37,\n",
       " ('k', 'k'): 20,\n",
       " ('s', 'n'): 24,\n",
       " ('u', '<E>'): 155,\n",
       " ('j', 'r'): 11,\n",
       " ('y', 'x'): 28,\n",
       " ('h', 'm'): 117,\n",
       " ('e', 'q'): 14,\n",
       " ('u', 'o'): 10,\n",
       " ('f', '<E>'): 80,\n",
       " ('h', 'z'): 20,\n",
       " ('h', 'k'): 29,\n",
       " ('y', 'g'): 30,\n",
       " ('q', 'r'): 1,\n",
       " ('v', 'n'): 8,\n",
       " ('s', 'd'): 9,\n",
       " ('y', 'i'): 192,\n",
       " ('n', 'w'): 11,\n",
       " ('d', 'v'): 17,\n",
       " ('h', 'v'): 39,\n",
       " ('x', 'w'): 3,\n",
       " ('o', 'z'): 54,\n",
       " ('k', 'u'): 50,\n",
       " ('u', 'h'): 58,\n",
       " ('k', 'n'): 26,\n",
       " ('s', 'b'): 21,\n",
       " ('i', 'i'): 82,\n",
       " ('y', 'y'): 23,\n",
       " ('r', 'z'): 23,\n",
       " ('l', 'g'): 6,\n",
       " ('l', 'p'): 15,\n",
       " ('p', '<E>'): 33,\n",
       " ('b', 'u'): 45,\n",
       " ('f', 'u'): 10,\n",
       " ('b', 'h'): 41,\n",
       " ('f', 'y'): 14,\n",
       " ('u', 'w'): 86,\n",
       " ('x', 'u'): 5,\n",
       " ('q', '<E>'): 28,\n",
       " ('l', 'r'): 18,\n",
       " ('m', 'h'): 5,\n",
       " ('l', 'w'): 16,\n",
       " ('j', '<E>'): 71,\n",
       " ('s', 'v'): 14,\n",
       " ('m', 'l'): 5,\n",
       " ('n', 'f'): 11,\n",
       " ('u', 'j'): 14,\n",
       " ('f', 'o'): 60,\n",
       " ('j', 'l'): 9,\n",
       " ('t', 'g'): 2,\n",
       " ('j', 'm'): 5,\n",
       " ('v', 'v'): 7,\n",
       " ('p', 's'): 16,\n",
       " ('t', 'w'): 11,\n",
       " ('x', 'c'): 4,\n",
       " ('u', 'k'): 93,\n",
       " ('v', 'l'): 14,\n",
       " ('h', 'd'): 24,\n",
       " ('l', 'z'): 10,\n",
       " ('k', 'w'): 34,\n",
       " ('n', 'b'): 8,\n",
       " ('q', 's'): 2,\n",
       " ('i', 'w'): 8,\n",
       " ('c', 's'): 5,\n",
       " ('h', 's'): 31,\n",
       " ('m', 't'): 4,\n",
       " ('h', 'w'): 10,\n",
       " ('x', 'x'): 38,\n",
       " ('t', 'x'): 2,\n",
       " ('d', 'z'): 1,\n",
       " ('x', 'z'): 19,\n",
       " ('t', 'm'): 4,\n",
       " ('t', 'j'): 3,\n",
       " ('u', 'q'): 10,\n",
       " ('q', 'a'): 13,\n",
       " ('f', 'k'): 2,\n",
       " ('z', 'n'): 4,\n",
       " ('l', 'j'): 6,\n",
       " ('j', 'w'): 6,\n",
       " ('v', 'u'): 7,\n",
       " ('c', 'j'): 3,\n",
       " ('h', 'b'): 8,\n",
       " ('z', 't'): 4,\n",
       " ('p', 'u'): 4,\n",
       " ('m', 'z'): 11,\n",
       " ('x', 's'): 31,\n",
       " ('b', 't'): 2,\n",
       " ('u', 'y'): 13,\n",
       " ('d', 'j'): 9,\n",
       " ('j', 's'): 7,\n",
       " ('w', 'u'): 25,\n",
       " ('o', 'j'): 16,\n",
       " ('b', 's'): 8,\n",
       " ('d', 'w'): 23,\n",
       " ('w', 'o'): 36,\n",
       " ('j', 'n'): 2,\n",
       " ('w', 't'): 8,\n",
       " ('l', 'f'): 22,\n",
       " ('d', 'm'): 30,\n",
       " ('p', 'j'): 1,\n",
       " ('j', 'y'): 10,\n",
       " ('y', 'f'): 12,\n",
       " ('q', 'i'): 13,\n",
       " ('j', 'v'): 5,\n",
       " ('q', 'l'): 1,\n",
       " ('s', 'z'): 10,\n",
       " ('k', 'm'): 9,\n",
       " ('w', 'l'): 13,\n",
       " ('p', 'f'): 1,\n",
       " ('q', 'w'): 3,\n",
       " ('n', 'x'): 6,\n",
       " ('k', 'c'): 2,\n",
       " ('t', 'v'): 15,\n",
       " ('c', 'u'): 35,\n",
       " ('z', 'k'): 2,\n",
       " ('c', 'z'): 4,\n",
       " ('y', 'q'): 6,\n",
       " ('y', 'h'): 22,\n",
       " ('r', 'f'): 9,\n",
       " ('s', 'j'): 2,\n",
       " ('h', 'j'): 9,\n",
       " ('g', 'b'): 3,\n",
       " ('u', 'f'): 19,\n",
       " ('s', 'f'): 2,\n",
       " ('q', 'e'): 1,\n",
       " ('b', 'c'): 1,\n",
       " ('c', 'd'): 1,\n",
       " ('z', 'j'): 2,\n",
       " ('n', 'q'): 2,\n",
       " ('m', 'f'): 1,\n",
       " ('p', 'n'): 1,\n",
       " ('f', 'z'): 2,\n",
       " ('b', 'n'): 4,\n",
       " ('w', 'd'): 8,\n",
       " ('w', 'b'): 1,\n",
       " ('b', 'd'): 65,\n",
       " ('z', 's'): 4,\n",
       " ('p', 'c'): 1,\n",
       " ('h', 'g'): 2,\n",
       " ('m', 'j'): 7,\n",
       " ('w', 'w'): 2,\n",
       " ('k', 'j'): 2,\n",
       " ('h', 'p'): 1,\n",
       " ('j', 'k'): 2,\n",
       " ('o', 'q'): 3,\n",
       " ('f', 'w'): 4,\n",
       " ('f', 'h'): 1,\n",
       " ('w', 'm'): 2,\n",
       " ('b', 'j'): 1,\n",
       " ('r', 'q'): 16,\n",
       " ('z', 'c'): 2,\n",
       " ('z', 'v'): 2,\n",
       " ('f', 'g'): 1,\n",
       " ('n', 'p'): 5,\n",
       " ('z', 'g'): 1,\n",
       " ('d', 't'): 4,\n",
       " ('w', 'f'): 2,\n",
       " ('d', 'f'): 5,\n",
       " ('w', 'k'): 6,\n",
       " ('q', 'm'): 2,\n",
       " ('k', 'z'): 2,\n",
       " ('j', 'j'): 2,\n",
       " ('c', 'p'): 1,\n",
       " ('p', 'k'): 1,\n",
       " ('p', 'm'): 1,\n",
       " ('j', 'd'): 4,\n",
       " ('r', 'x'): 3,\n",
       " ('x', 'n'): 1,\n",
       " ('d', 'c'): 3,\n",
       " ('g', 'j'): 3,\n",
       " ('x', 'f'): 3,\n",
       " ('j', 'c'): 4,\n",
       " ('s', 'q'): 1,\n",
       " ('k', 'f'): 1,\n",
       " ('z', 'p'): 2,\n",
       " ('j', 't'): 2,\n",
       " ('k', 'b'): 2,\n",
       " ('m', 'k'): 1,\n",
       " ('m', 'w'): 2,\n",
       " ('x', 'h'): 1,\n",
       " ('h', 'f'): 2,\n",
       " ('x', 'd'): 5,\n",
       " ('y', 'w'): 4,\n",
       " ('z', 'w'): 3,\n",
       " ('d', 'k'): 3,\n",
       " ('c', 'g'): 2,\n",
       " ('u', 'u'): 3,\n",
       " ('t', 'f'): 2,\n",
       " ('g', 'm'): 6,\n",
       " ('m', 'v'): 3,\n",
       " ('c', 'x'): 3,\n",
       " ('h', 'c'): 2,\n",
       " ('g', 'f'): 1,\n",
       " ('q', 'o'): 2,\n",
       " ('l', 'q'): 3,\n",
       " ('v', 'b'): 1,\n",
       " ('j', 'p'): 1,\n",
       " ('k', 'd'): 2,\n",
       " ('g', 'z'): 1,\n",
       " ('v', 'd'): 1,\n",
       " ('d', 'b'): 1,\n",
       " ('v', 'h'): 1,\n",
       " ('k', 'v'): 2,\n",
       " ('h', 'h'): 1,\n",
       " ('s', 'g'): 2,\n",
       " ('g', 'v'): 1,\n",
       " ('d', 'q'): 1,\n",
       " ('x', 'b'): 1,\n",
       " ('w', 'z'): 1,\n",
       " ('h', 'q'): 1,\n",
       " ('j', 'b'): 1,\n",
       " ('z', 'd'): 2,\n",
       " ('x', 'm'): 1,\n",
       " ('w', 'g'): 1,\n",
       " ('t', 'b'): 1,\n",
       " ('z', 'x'): 1}"
      ]
     },
     "execution_count": 345,
     "metadata": {},
     "output_type": "execute_result"
    }
   ],
   "source": [
    "freq_letters"
   ]
  },
  {
   "cell_type": "code",
   "execution_count": 346,
   "metadata": {},
   "outputs": [],
   "source": [
    "#We want to do the same thing, but use tensors and have only one special character for the start and end of the word (.)\n",
    "\n",
    "#Create new char to index and index to char dictionaries\n",
    "\n",
    "chars = sorted(list(set(''.join(words))))\n",
    "\n",
    "#Add \".\" to the beggining of the list\n",
    "chars = ['.'] + chars\n",
    "\n",
    "#Tokenize the text- This will be used to convert the text to numbers\n",
    "char_to_idx = {ch:i for i,ch in enumerate(chars)}\n",
    "idx_to_char = {i:ch for i,ch in enumerate(chars)}"
   ]
  },
  {
   "cell_type": "code",
   "execution_count": 347,
   "metadata": {},
   "outputs": [],
   "source": [
    "#Create a tensor of the bigram frequencies\n",
    "freq_tensor = torch.zeros(len(chars), len(chars))\n",
    "\n",
    "for w in words[:]:\n",
    "    chs = ['.'] + list(w) + ['.']\n",
    "    #We want to get chars 1,2 then 2,3 then 3,4 ...\n",
    "    for ch1, ch2 in zip(chs, chs[1:]): \n",
    "        # print(ch1, ch2)\n",
    "        # b = (ch1, ch2)\n",
    "        #Convert to numbers\n",
    "        b = (char_to_idx[ch1], char_to_idx[ch2])\n",
    "\n",
    "        freq_tensor[b[0], b[1]] += 1"
   ]
  },
  {
   "cell_type": "code",
   "execution_count": 348,
   "metadata": {},
   "outputs": [
    {
     "data": {
      "application/vnd.plotly.v1+json": {
       "config": {
        "plotlyServerURL": "https://plot.ly"
       },
       "data": [
        {
         "colorscale": [
          [
           0,
           "rgb(247,252,245)"
          ],
          [
           0.125,
           "rgb(229,245,224)"
          ],
          [
           0.25,
           "rgb(199,233,192)"
          ],
          [
           0.375,
           "rgb(161,217,155)"
          ],
          [
           0.5,
           "rgb(116,196,118)"
          ],
          [
           0.625,
           "rgb(65,171,93)"
          ],
          [
           0.75,
           "rgb(35,139,69)"
          ],
          [
           0.875,
           "rgb(0,109,44)"
          ],
          [
           1,
           "rgb(0,68,27)"
          ]
         ],
         "hovertemplate": "Frequency: %{z}<extra></extra>",
         "type": "heatmap",
         "x": [
          ".",
          "a",
          "b",
          "c",
          "d",
          "e",
          "f",
          "g",
          "h",
          "i",
          "j",
          "k",
          "l",
          "m",
          "n",
          "o",
          "p",
          "q",
          "r",
          "s",
          "t",
          "u",
          "v",
          "w",
          "x",
          "y",
          "z"
         ],
         "y": [
          ".",
          "a",
          "b",
          "c",
          "d",
          "e",
          "f",
          "g",
          "h",
          "i",
          "j",
          "k",
          "l",
          "m",
          "n",
          "o",
          "p",
          "q",
          "r",
          "s",
          "t",
          "u",
          "v",
          "w",
          "x",
          "y",
          "z"
         ],
         "z": [
          [
           0,
           4410,
           1306,
           1542,
           1690,
           1531,
           417,
           669,
           874,
           591,
           2422,
           2963,
           1572,
           2538,
           1146,
           394,
           515,
           92,
           1639,
           2055,
           1308,
           78,
           376,
           307,
           134,
           535,
           929
          ],
          [
           6640,
           556,
           541,
           470,
           1042,
           692,
           134,
           168,
           2332,
           1650,
           175,
           568,
           2528,
           1634,
           5438,
           63,
           82,
           60,
           3264,
           1118,
           687,
           381,
           834,
           161,
           182,
           2050,
           435
          ],
          [
           114,
           321,
           38,
           1,
           65,
           655,
           0,
           0,
           41,
           217,
           1,
           0,
           103,
           0,
           4,
           105,
           0,
           0,
           842,
           8,
           2,
           45,
           0,
           0,
           0,
           83,
           0
          ],
          [
           97,
           815,
           0,
           42,
           1,
           551,
           0,
           2,
           664,
           271,
           3,
           316,
           116,
           0,
           0,
           380,
           1,
           11,
           76,
           5,
           35,
           35,
           0,
           0,
           3,
           104,
           4
          ],
          [
           516,
           1303,
           1,
           3,
           149,
           1283,
           5,
           25,
           118,
           674,
           9,
           3,
           60,
           30,
           31,
           378,
           0,
           1,
           424,
           29,
           4,
           92,
           17,
           23,
           0,
           317,
           1
          ],
          [
           3983,
           679,
           121,
           153,
           384,
           1271,
           82,
           125,
           152,
           818,
           55,
           178,
           3248,
           769,
           2675,
           269,
           83,
           14,
           1958,
           861,
           580,
           69,
           463,
           50,
           132,
           1070,
           181
          ],
          [
           80,
           242,
           0,
           0,
           0,
           123,
           44,
           1,
           1,
           160,
           0,
           2,
           20,
           0,
           4,
           60,
           0,
           0,
           114,
           6,
           18,
           10,
           0,
           4,
           0,
           14,
           2
          ],
          [
           108,
           330,
           3,
           0,
           19,
           334,
           1,
           25,
           360,
           190,
           3,
           0,
           32,
           6,
           27,
           83,
           0,
           0,
           201,
           30,
           31,
           85,
           1,
           26,
           0,
           31,
           1
          ],
          [
           2409,
           2244,
           8,
           2,
           24,
           674,
           2,
           2,
           1,
           729,
           9,
           29,
           185,
           117,
           138,
           287,
           1,
           1,
           204,
           31,
           71,
           166,
           39,
           10,
           0,
           213,
           20
          ],
          [
           2489,
           2445,
           110,
           509,
           440,
           1653,
           101,
           428,
           95,
           82,
           76,
           445,
           1345,
           427,
           2126,
           588,
           53,
           52,
           849,
           1316,
           541,
           109,
           269,
           8,
           89,
           779,
           277
          ],
          [
           71,
           1473,
           1,
           4,
           4,
           440,
           0,
           0,
           45,
           119,
           2,
           2,
           9,
           5,
           2,
           479,
           1,
           0,
           11,
           7,
           2,
           202,
           5,
           6,
           0,
           10,
           0
          ],
          [
           363,
           1731,
           2,
           2,
           2,
           895,
           1,
           0,
           307,
           509,
           2,
           20,
           139,
           9,
           26,
           344,
           0,
           0,
           109,
           95,
           17,
           50,
           2,
           34,
           0,
           379,
           2
          ],
          [
           1314,
           2623,
           52,
           25,
           138,
           2921,
           22,
           6,
           19,
           2480,
           6,
           24,
           1345,
           60,
           14,
           692,
           15,
           3,
           18,
           94,
           77,
           324,
           72,
           16,
           0,
           1588,
           10
          ],
          [
           516,
           2590,
           112,
           51,
           24,
           818,
           1,
           0,
           5,
           1256,
           7,
           1,
           5,
           168,
           20,
           452,
           38,
           0,
           97,
           35,
           4,
           139,
           3,
           2,
           0,
           287,
           11
          ],
          [
           6763,
           2977,
           8,
           213,
           704,
           1359,
           11,
           273,
           26,
           1725,
           44,
           58,
           195,
           19,
           1906,
           496,
           5,
           2,
           44,
           278,
           443,
           96,
           55,
           11,
           6,
           465,
           145
          ],
          [
           855,
           149,
           140,
           114,
           190,
           132,
           34,
           44,
           171,
           69,
           16,
           68,
           619,
           261,
           2411,
           115,
           95,
           3,
           1059,
           504,
           118,
           275,
           176,
           114,
           45,
           103,
           54
          ],
          [
           33,
           209,
           2,
           1,
           0,
           197,
           1,
           0,
           204,
           61,
           1,
           1,
           16,
           1,
           1,
           59,
           39,
           0,
           151,
           16,
           17,
           4,
           0,
           0,
           0,
           12,
           0
          ],
          [
           28,
           13,
           0,
           0,
           0,
           1,
           0,
           0,
           0,
           13,
           0,
           0,
           1,
           2,
           0,
           2,
           0,
           0,
           1,
           2,
           0,
           206,
           0,
           3,
           0,
           0,
           0
          ],
          [
           1377,
           2356,
           41,
           99,
           187,
           1697,
           9,
           76,
           121,
           3033,
           25,
           90,
           413,
           162,
           140,
           869,
           14,
           16,
           425,
           190,
           208,
           252,
           80,
           21,
           3,
           773,
           23
          ],
          [
           1169,
           1201,
           21,
           60,
           9,
           884,
           2,
           2,
           1285,
           684,
           2,
           82,
           279,
           90,
           24,
           531,
           51,
           1,
           55,
           461,
           765,
           185,
           14,
           24,
           0,
           215,
           10
          ],
          [
           483,
           1027,
           1,
           17,
           0,
           716,
           2,
           2,
           647,
           532,
           3,
           0,
           134,
           4,
           22,
           667,
           0,
           0,
           352,
           35,
           374,
           78,
           15,
           11,
           2,
           341,
           105
          ],
          [
           155,
           163,
           103,
           103,
           136,
           169,
           19,
           47,
           58,
           121,
           14,
           93,
           301,
           154,
           275,
           10,
           16,
           10,
           414,
           474,
           82,
           3,
           37,
           86,
           34,
           13,
           45
          ],
          [
           88,
           642,
           1,
           0,
           1,
           568,
           0,
           0,
           1,
           911,
           0,
           3,
           14,
           0,
           8,
           153,
           0,
           0,
           48,
           0,
           0,
           7,
           7,
           0,
           0,
           121,
           0
          ],
          [
           51,
           280,
           1,
           0,
           8,
           149,
           2,
           1,
           23,
           148,
           0,
           6,
           13,
           2,
           58,
           36,
           0,
           0,
           22,
           20,
           8,
           25,
           0,
           2,
           0,
           73,
           1
          ],
          [
           164,
           103,
           1,
           4,
           5,
           36,
           3,
           0,
           1,
           102,
           0,
           0,
           39,
           1,
           1,
           41,
           0,
           0,
           0,
           31,
           70,
           5,
           0,
           3,
           38,
           30,
           19
          ],
          [
           2007,
           2143,
           27,
           115,
           272,
           301,
           12,
           30,
           22,
           192,
           23,
           86,
           1104,
           148,
           1826,
           271,
           15,
           6,
           291,
           401,
           104,
           141,
           106,
           4,
           28,
           23,
           78
          ],
          [
           160,
           860,
           4,
           2,
           2,
           373,
           0,
           1,
           43,
           364,
           2,
           2,
           123,
           35,
           4,
           110,
           2,
           0,
           32,
           4,
           4,
           73,
           2,
           3,
           1,
           147,
           45
          ]
         ],
         "zmax": 6763,
         "zmin": 0
        }
       ],
       "layout": {
        "height": 600,
        "template": {
         "data": {
          "bar": [
           {
            "error_x": {
             "color": "#2a3f5f"
            },
            "error_y": {
             "color": "#2a3f5f"
            },
            "marker": {
             "line": {
              "color": "#E5ECF6",
              "width": 0.5
             },
             "pattern": {
              "fillmode": "overlay",
              "size": 10,
              "solidity": 0.2
             }
            },
            "type": "bar"
           }
          ],
          "barpolar": [
           {
            "marker": {
             "line": {
              "color": "#E5ECF6",
              "width": 0.5
             },
             "pattern": {
              "fillmode": "overlay",
              "size": 10,
              "solidity": 0.2
             }
            },
            "type": "barpolar"
           }
          ],
          "carpet": [
           {
            "aaxis": {
             "endlinecolor": "#2a3f5f",
             "gridcolor": "white",
             "linecolor": "white",
             "minorgridcolor": "white",
             "startlinecolor": "#2a3f5f"
            },
            "baxis": {
             "endlinecolor": "#2a3f5f",
             "gridcolor": "white",
             "linecolor": "white",
             "minorgridcolor": "white",
             "startlinecolor": "#2a3f5f"
            },
            "type": "carpet"
           }
          ],
          "choropleth": [
           {
            "colorbar": {
             "outlinewidth": 0,
             "ticks": ""
            },
            "type": "choropleth"
           }
          ],
          "contour": [
           {
            "colorbar": {
             "outlinewidth": 0,
             "ticks": ""
            },
            "colorscale": [
             [
              0,
              "#0d0887"
             ],
             [
              0.1111111111111111,
              "#46039f"
             ],
             [
              0.2222222222222222,
              "#7201a8"
             ],
             [
              0.3333333333333333,
              "#9c179e"
             ],
             [
              0.4444444444444444,
              "#bd3786"
             ],
             [
              0.5555555555555556,
              "#d8576b"
             ],
             [
              0.6666666666666666,
              "#ed7953"
             ],
             [
              0.7777777777777778,
              "#fb9f3a"
             ],
             [
              0.8888888888888888,
              "#fdca26"
             ],
             [
              1,
              "#f0f921"
             ]
            ],
            "type": "contour"
           }
          ],
          "contourcarpet": [
           {
            "colorbar": {
             "outlinewidth": 0,
             "ticks": ""
            },
            "type": "contourcarpet"
           }
          ],
          "heatmap": [
           {
            "colorbar": {
             "outlinewidth": 0,
             "ticks": ""
            },
            "colorscale": [
             [
              0,
              "#0d0887"
             ],
             [
              0.1111111111111111,
              "#46039f"
             ],
             [
              0.2222222222222222,
              "#7201a8"
             ],
             [
              0.3333333333333333,
              "#9c179e"
             ],
             [
              0.4444444444444444,
              "#bd3786"
             ],
             [
              0.5555555555555556,
              "#d8576b"
             ],
             [
              0.6666666666666666,
              "#ed7953"
             ],
             [
              0.7777777777777778,
              "#fb9f3a"
             ],
             [
              0.8888888888888888,
              "#fdca26"
             ],
             [
              1,
              "#f0f921"
             ]
            ],
            "type": "heatmap"
           }
          ],
          "heatmapgl": [
           {
            "colorbar": {
             "outlinewidth": 0,
             "ticks": ""
            },
            "colorscale": [
             [
              0,
              "#0d0887"
             ],
             [
              0.1111111111111111,
              "#46039f"
             ],
             [
              0.2222222222222222,
              "#7201a8"
             ],
             [
              0.3333333333333333,
              "#9c179e"
             ],
             [
              0.4444444444444444,
              "#bd3786"
             ],
             [
              0.5555555555555556,
              "#d8576b"
             ],
             [
              0.6666666666666666,
              "#ed7953"
             ],
             [
              0.7777777777777778,
              "#fb9f3a"
             ],
             [
              0.8888888888888888,
              "#fdca26"
             ],
             [
              1,
              "#f0f921"
             ]
            ],
            "type": "heatmapgl"
           }
          ],
          "histogram": [
           {
            "marker": {
             "pattern": {
              "fillmode": "overlay",
              "size": 10,
              "solidity": 0.2
             }
            },
            "type": "histogram"
           }
          ],
          "histogram2d": [
           {
            "colorbar": {
             "outlinewidth": 0,
             "ticks": ""
            },
            "colorscale": [
             [
              0,
              "#0d0887"
             ],
             [
              0.1111111111111111,
              "#46039f"
             ],
             [
              0.2222222222222222,
              "#7201a8"
             ],
             [
              0.3333333333333333,
              "#9c179e"
             ],
             [
              0.4444444444444444,
              "#bd3786"
             ],
             [
              0.5555555555555556,
              "#d8576b"
             ],
             [
              0.6666666666666666,
              "#ed7953"
             ],
             [
              0.7777777777777778,
              "#fb9f3a"
             ],
             [
              0.8888888888888888,
              "#fdca26"
             ],
             [
              1,
              "#f0f921"
             ]
            ],
            "type": "histogram2d"
           }
          ],
          "histogram2dcontour": [
           {
            "colorbar": {
             "outlinewidth": 0,
             "ticks": ""
            },
            "colorscale": [
             [
              0,
              "#0d0887"
             ],
             [
              0.1111111111111111,
              "#46039f"
             ],
             [
              0.2222222222222222,
              "#7201a8"
             ],
             [
              0.3333333333333333,
              "#9c179e"
             ],
             [
              0.4444444444444444,
              "#bd3786"
             ],
             [
              0.5555555555555556,
              "#d8576b"
             ],
             [
              0.6666666666666666,
              "#ed7953"
             ],
             [
              0.7777777777777778,
              "#fb9f3a"
             ],
             [
              0.8888888888888888,
              "#fdca26"
             ],
             [
              1,
              "#f0f921"
             ]
            ],
            "type": "histogram2dcontour"
           }
          ],
          "mesh3d": [
           {
            "colorbar": {
             "outlinewidth": 0,
             "ticks": ""
            },
            "type": "mesh3d"
           }
          ],
          "parcoords": [
           {
            "line": {
             "colorbar": {
              "outlinewidth": 0,
              "ticks": ""
             }
            },
            "type": "parcoords"
           }
          ],
          "pie": [
           {
            "automargin": true,
            "type": "pie"
           }
          ],
          "scatter": [
           {
            "fillpattern": {
             "fillmode": "overlay",
             "size": 10,
             "solidity": 0.2
            },
            "type": "scatter"
           }
          ],
          "scatter3d": [
           {
            "line": {
             "colorbar": {
              "outlinewidth": 0,
              "ticks": ""
             }
            },
            "marker": {
             "colorbar": {
              "outlinewidth": 0,
              "ticks": ""
             }
            },
            "type": "scatter3d"
           }
          ],
          "scattercarpet": [
           {
            "marker": {
             "colorbar": {
              "outlinewidth": 0,
              "ticks": ""
             }
            },
            "type": "scattercarpet"
           }
          ],
          "scattergeo": [
           {
            "marker": {
             "colorbar": {
              "outlinewidth": 0,
              "ticks": ""
             }
            },
            "type": "scattergeo"
           }
          ],
          "scattergl": [
           {
            "marker": {
             "colorbar": {
              "outlinewidth": 0,
              "ticks": ""
             }
            },
            "type": "scattergl"
           }
          ],
          "scattermapbox": [
           {
            "marker": {
             "colorbar": {
              "outlinewidth": 0,
              "ticks": ""
             }
            },
            "type": "scattermapbox"
           }
          ],
          "scatterpolar": [
           {
            "marker": {
             "colorbar": {
              "outlinewidth": 0,
              "ticks": ""
             }
            },
            "type": "scatterpolar"
           }
          ],
          "scatterpolargl": [
           {
            "marker": {
             "colorbar": {
              "outlinewidth": 0,
              "ticks": ""
             }
            },
            "type": "scatterpolargl"
           }
          ],
          "scatterternary": [
           {
            "marker": {
             "colorbar": {
              "outlinewidth": 0,
              "ticks": ""
             }
            },
            "type": "scatterternary"
           }
          ],
          "surface": [
           {
            "colorbar": {
             "outlinewidth": 0,
             "ticks": ""
            },
            "colorscale": [
             [
              0,
              "#0d0887"
             ],
             [
              0.1111111111111111,
              "#46039f"
             ],
             [
              0.2222222222222222,
              "#7201a8"
             ],
             [
              0.3333333333333333,
              "#9c179e"
             ],
             [
              0.4444444444444444,
              "#bd3786"
             ],
             [
              0.5555555555555556,
              "#d8576b"
             ],
             [
              0.6666666666666666,
              "#ed7953"
             ],
             [
              0.7777777777777778,
              "#fb9f3a"
             ],
             [
              0.8888888888888888,
              "#fdca26"
             ],
             [
              1,
              "#f0f921"
             ]
            ],
            "type": "surface"
           }
          ],
          "table": [
           {
            "cells": {
             "fill": {
              "color": "#EBF0F8"
             },
             "line": {
              "color": "white"
             }
            },
            "header": {
             "fill": {
              "color": "#C8D4E3"
             },
             "line": {
              "color": "white"
             }
            },
            "type": "table"
           }
          ]
         },
         "layout": {
          "annotationdefaults": {
           "arrowcolor": "#2a3f5f",
           "arrowhead": 0,
           "arrowwidth": 1
          },
          "autotypenumbers": "strict",
          "coloraxis": {
           "colorbar": {
            "outlinewidth": 0,
            "ticks": ""
           }
          },
          "colorscale": {
           "diverging": [
            [
             0,
             "#8e0152"
            ],
            [
             0.1,
             "#c51b7d"
            ],
            [
             0.2,
             "#de77ae"
            ],
            [
             0.3,
             "#f1b6da"
            ],
            [
             0.4,
             "#fde0ef"
            ],
            [
             0.5,
             "#f7f7f7"
            ],
            [
             0.6,
             "#e6f5d0"
            ],
            [
             0.7,
             "#b8e186"
            ],
            [
             0.8,
             "#7fbc41"
            ],
            [
             0.9,
             "#4d9221"
            ],
            [
             1,
             "#276419"
            ]
           ],
           "sequential": [
            [
             0,
             "#0d0887"
            ],
            [
             0.1111111111111111,
             "#46039f"
            ],
            [
             0.2222222222222222,
             "#7201a8"
            ],
            [
             0.3333333333333333,
             "#9c179e"
            ],
            [
             0.4444444444444444,
             "#bd3786"
            ],
            [
             0.5555555555555556,
             "#d8576b"
            ],
            [
             0.6666666666666666,
             "#ed7953"
            ],
            [
             0.7777777777777778,
             "#fb9f3a"
            ],
            [
             0.8888888888888888,
             "#fdca26"
            ],
            [
             1,
             "#f0f921"
            ]
           ],
           "sequentialminus": [
            [
             0,
             "#0d0887"
            ],
            [
             0.1111111111111111,
             "#46039f"
            ],
            [
             0.2222222222222222,
             "#7201a8"
            ],
            [
             0.3333333333333333,
             "#9c179e"
            ],
            [
             0.4444444444444444,
             "#bd3786"
            ],
            [
             0.5555555555555556,
             "#d8576b"
            ],
            [
             0.6666666666666666,
             "#ed7953"
            ],
            [
             0.7777777777777778,
             "#fb9f3a"
            ],
            [
             0.8888888888888888,
             "#fdca26"
            ],
            [
             1,
             "#f0f921"
            ]
           ]
          },
          "colorway": [
           "#636efa",
           "#EF553B",
           "#00cc96",
           "#ab63fa",
           "#FFA15A",
           "#19d3f3",
           "#FF6692",
           "#B6E880",
           "#FF97FF",
           "#FECB52"
          ],
          "font": {
           "color": "#2a3f5f"
          },
          "geo": {
           "bgcolor": "white",
           "lakecolor": "white",
           "landcolor": "#E5ECF6",
           "showlakes": true,
           "showland": true,
           "subunitcolor": "white"
          },
          "hoverlabel": {
           "align": "left"
          },
          "hovermode": "closest",
          "mapbox": {
           "style": "light"
          },
          "paper_bgcolor": "white",
          "plot_bgcolor": "#E5ECF6",
          "polar": {
           "angularaxis": {
            "gridcolor": "white",
            "linecolor": "white",
            "ticks": ""
           },
           "bgcolor": "#E5ECF6",
           "radialaxis": {
            "gridcolor": "white",
            "linecolor": "white",
            "ticks": ""
           }
          },
          "scene": {
           "xaxis": {
            "backgroundcolor": "#E5ECF6",
            "gridcolor": "white",
            "gridwidth": 2,
            "linecolor": "white",
            "showbackground": true,
            "ticks": "",
            "zerolinecolor": "white"
           },
           "yaxis": {
            "backgroundcolor": "#E5ECF6",
            "gridcolor": "white",
            "gridwidth": 2,
            "linecolor": "white",
            "showbackground": true,
            "ticks": "",
            "zerolinecolor": "white"
           },
           "zaxis": {
            "backgroundcolor": "#E5ECF6",
            "gridcolor": "white",
            "gridwidth": 2,
            "linecolor": "white",
            "showbackground": true,
            "ticks": "",
            "zerolinecolor": "white"
           }
          },
          "shapedefaults": {
           "line": {
            "color": "#2a3f5f"
           }
          },
          "ternary": {
           "aaxis": {
            "gridcolor": "white",
            "linecolor": "white",
            "ticks": ""
           },
           "baxis": {
            "gridcolor": "white",
            "linecolor": "white",
            "ticks": ""
           },
           "bgcolor": "#E5ECF6",
           "caxis": {
            "gridcolor": "white",
            "linecolor": "white",
            "ticks": ""
           }
          },
          "title": {
           "x": 0.05
          },
          "xaxis": {
           "automargin": true,
           "gridcolor": "white",
           "linecolor": "white",
           "ticks": "",
           "title": {
            "standoff": 15
           },
           "zerolinecolor": "white",
           "zerolinewidth": 2
          },
          "yaxis": {
           "automargin": true,
           "gridcolor": "white",
           "linecolor": "white",
           "ticks": "",
           "title": {
            "standoff": 15
           },
           "zerolinecolor": "white",
           "zerolinewidth": 2
          }
         }
        },
        "title": {
         "text": "Bigram Frequency"
        },
        "width": 600,
        "xaxis": {
         "title": {
          "text": "Second Letter"
         }
        },
        "yaxis": {
         "title": {
          "text": "First Letter"
         }
        }
       }
      }
     },
     "metadata": {},
     "output_type": "display_data"
    }
   ],
   "source": [
    "\n",
    "# Get list of letters and their frequencies\n",
    "letters = sorted(list(set(chars)))\n",
    "freqs = freq_tensor.numpy()\n",
    "\n",
    "# Create heatmap\n",
    "fig = go.Figure(data=go.Heatmap(\n",
    "                   z=freqs,\n",
    "                   x=letters,\n",
    "                   y=letters,\n",
    "                   colorscale='Greens',\n",
    "                   zmin=0,\n",
    "                   zmax=np.max(freqs),\n",
    "                   hovertemplate='Frequency: %{z}<extra></extra>'))\n",
    "fig.update_layout(\n",
    "    title='Bigram Frequency',\n",
    "    xaxis_title='Second Letter',\n",
    "    yaxis_title='First Letter',\n",
    "    width=600,\n",
    "    height=600,\n",
    ")\n",
    "fig.show()"
   ]
  },
  {
   "cell_type": "code",
   "execution_count": 349,
   "metadata": {},
   "outputs": [
    {
     "data": {
      "text/plain": [
       "tensor([1, 1, 2, 0, 0, 2, 1, 1, 0, 0, 0, 1, 1, 0, 0, 1, 1, 0, 0, 1])"
      ]
     },
     "execution_count": 349,
     "metadata": {},
     "output_type": "execute_result"
    }
   ],
   "source": [
    "#Create generator object \n",
    "g = torch.Generator().manual_seed(2147483647)\n",
    "\n",
    "#Generate three random numbers and normalize them\n",
    "p = torch.rand(3, generator=g)\n",
    "p = p / p.sum()\n",
    "\n",
    "#We want to create a list of 20 elements where each element is an index of p and their frequencies are based on the probabilities in p\n",
    "torch.multinomial(p, 20, replacement=True, generator=g) #Ex. if p was [.7,.3] then the first index (0) would occur 70% of the time and the second index (1) would occur 30% of the time in the list of 20 elements"
   ]
  },
  {
   "cell_type": "code",
   "execution_count": 350,
   "metadata": {},
   "outputs": [
    {
     "data": {
      "text/plain": [
       "'c'"
      ]
     },
     "execution_count": 350,
     "metadata": {},
     "output_type": "execute_result"
    }
   ],
   "source": [
    "g = torch.Generator().manual_seed(2147483647)\n",
    "#Convert to probabilities based on the first letter\n",
    "p = freq_tensor[0] / freq_tensor[0].sum() \n",
    "#Generate a random letter based on the probabilities in p and a first letter\n",
    "ix = torch.multinomial(p, 1, replacement=True, generator=g)\n",
    "\n",
    "#Get the letter\n",
    "idx_to_char[ix.item()]"
   ]
  },
  {
   "cell_type": "code",
   "execution_count": 351,
   "metadata": {},
   "outputs": [
    {
     "name": "stdout",
     "output_type": "stream",
     "text": [
      "cexze\n",
      "momasurailezitynn\n",
      "konimittain\n",
      "llayn\n",
      "ka\n",
      "da\n",
      "staiyaubrtthrigotai\n",
      "moliellavo\n",
      "ke\n",
      "teda\n",
      "ka\n",
      "emimmsade\n",
      "enkaviyny\n",
      "ftlspihinivenvorhlasu\n",
      "dsor\n",
      "br\n",
      "jol\n",
      "pen\n",
      "aisan\n",
      "ja\n"
     ]
    }
   ],
   "source": [
    "g = torch.Generator().manual_seed(2147483647)\n",
    "\n",
    "for i in range(20):\n",
    "    ix = 0\n",
    "    out = []\n",
    "    while True:\n",
    "        #Get the probabilities of the next letter based on the previous letter\n",
    "        p = freq_tensor[ix]\n",
    "        #Normalize the probabilities\n",
    "        p = p / p.sum()\n",
    "\n",
    "        # #Test- Create a uniform distribution\n",
    "        # p = torch.ones(len(chars)) / len(chars)\n",
    "\n",
    "        #Generate a random letter based on the probabilities in p and a first letter\n",
    "        ix = torch.multinomial(p, 1, replacement=True, generator=g).item()\n",
    "        #Get the letter\n",
    "        out.append(idx_to_char[ix])\n",
    "        if idx_to_char[ix] == '.':\n",
    "            break\n",
    "\n",
    "    print(''.join(out[:-1]))\n"
   ]
  },
  {
   "cell_type": "code",
   "execution_count": 352,
   "metadata": {},
   "outputs": [
    {
     "name": "stdout",
     "output_type": "stream",
     "text": [
      "tensor(1.)\n"
     ]
    }
   ],
   "source": [
    "#Create a prob_tensor with the probabilities so we dont have to keep calculating them\n",
    "prob_tensor = (freq_tensor+1) / (freq_tensor+1).sum(dim=1, keepdim=True)\n",
    "print(prob_tensor[0].sum())"
   ]
  },
  {
   "cell_type": "code",
   "execution_count": 353,
   "metadata": {},
   "outputs": [
    {
     "name": "stdout",
     "output_type": "stream",
     "text": [
      "Log Likelihood: 2.4544\n"
     ]
    }
   ],
   "source": [
    "log_likelihood = 0\n",
    "n = 0\n",
    "for w in words[:]:\n",
    "    chs = ['.'] + list(w) + ['.']\n",
    "    #We want to get chars 1,2 then 2,3 then 3,4 ...\n",
    "    for ch1, ch2 in zip(chs, chs[1:]):\n",
    "        # print(ch1, ch2)\n",
    "        # b = (ch1, ch2)\n",
    "        #Convert to numbers\n",
    "        b = (char_to_idx[ch1], char_to_idx[ch2])\n",
    "\n",
    "        prob = prob_tensor[b[0], b[1]]\n",
    "        log_prob = torch.log(prob)\n",
    "\n",
    "        log_likelihood += log_prob\n",
    "        n += 1\n",
    "\n",
    "        # print(f'{ch1} -> {ch2}: {prob:.4f} {log_prob:.4f}')\n",
    "\n",
    "        freq_tensor[b[0], b[1]] += 1\n",
    "\n",
    "log_likelihood /= -n\n",
    "print(f'Log Likelihood: {log_likelihood:.4f}')"
   ]
  },
  {
   "cell_type": "code",
   "execution_count": 446,
   "metadata": {},
   "outputs": [
    {
     "name": "stdout",
     "output_type": "stream",
     "text": [
      "tensor([ 0,  5, 13,  ..., 25, 26, 24])\n",
      "tensor([ 5, 13, 13,  ..., 26, 24,  0])\n"
     ]
    }
   ],
   "source": [
    "xs, ys = [], [] #xs are the inputs and ys are the targets\n",
    "\n",
    "for w in words[:]:\n",
    "# for w in [\"bob\"]:\n",
    "    chs = ['.'] + list(w) + ['.']\n",
    "    #We want to get chars 1,2 then 2,3 then 3,4 ...\n",
    "    for ch1, ch2 in zip(chs, chs[1:]):\n",
    "        # print(ch1, ch2)\n",
    "        # b = (ch1, ch2)\n",
    "        #Convert to numbers\n",
    "        b = (char_to_idx[ch1], char_to_idx[ch2])\n",
    "\n",
    "        xs.append(b[0])\n",
    "        ys.append(b[1])\n",
    "\n",
    "xs = torch.tensor(xs)\n",
    "ys = torch.tensor(ys)\n",
    "\n",
    "print(xs)\n",
    "print(ys)"
   ]
  },
  {
   "cell_type": "code",
   "execution_count": 355,
   "metadata": {},
   "outputs": [],
   "source": [
    "import torch.nn.functional as F\n",
    "import matplotlib.pyplot as plt"
   ]
  },
  {
   "cell_type": "code",
   "execution_count": 356,
   "metadata": {},
   "outputs": [
    {
     "data": {
      "image/png": "[encoded data removed]",
      "text/plain": [
       "<Figure size 640x480 with 1 Axes>"
      ]
     },
     "metadata": {},
     "output_type": "display_data"
    }
   ],
   "source": [
    "x_enc = F.one_hot(xs, num_classes=len(chars)).float() \n",
    "plt.imshow(x_enc)\n",
    "\n",
    "#Convert the x axis to letters\n",
    "plt.xticks(range(len(chars)), labels=chars)\n",
    "plt.show()\n"
   ]
  },
  {
   "cell_type": "code",
   "execution_count": 357,
   "metadata": {},
   "outputs": [
    {
     "name": "stdout",
     "output_type": "stream",
     "text": [
      "tensor([[1., 0., 0., 0., 0., 0., 0., 0., 0., 0., 0., 0., 0., 0., 0., 0., 0., 0.,\n",
      "         0., 0., 0., 0., 0., 0., 0., 0., 0.],\n",
      "        [0., 0., 1., 0., 0., 0., 0., 0., 0., 0., 0., 0., 0., 0., 0., 0., 0., 0.,\n",
      "         0., 0., 0., 0., 0., 0., 0., 0., 0.],\n",
      "        [0., 0., 0., 0., 0., 0., 0., 0., 0., 0., 0., 0., 0., 0., 0., 1., 0., 0.,\n",
      "         0., 0., 0., 0., 0., 0., 0., 0., 0.],\n",
      "        [0., 0., 1., 0., 0., 0., 0., 0., 0., 0., 0., 0., 0., 0., 0., 0., 0., 0.,\n",
      "         0., 0., 0., 0., 0., 0., 0., 0., 0.]])\n"
     ]
    }
   ],
   "source": [
    "print(x_enc) "
   ]
  },
  {
   "cell_type": "code",
   "execution_count": 447,
   "metadata": {},
   "outputs": [
    {
     "data": {
      "text/plain": [
       "torch.Size([4, 27])"
      ]
     },
     "execution_count": 447,
     "metadata": {},
     "output_type": "execute_result"
    }
   ],
   "source": [
    "g = torch.Generator().manual_seed(2147483647)\n",
    "W = torch.randn(len(chars), len(chars), requires_grad=True, generator=g) #Initialize the weights randomly\n",
    "\n",
    "logits = x_enc @ W #Log Counts\n",
    "\n",
    "#Softmax - Convert to probabilities\n",
    "counts = torch.exp(logits) #Counts\n",
    "probs = counts / counts.sum(dim=1, keepdim=True) #Probabilities\n",
    "probs\n",
    "\n",
    "#Print shape of probs\n",
    "probs.shape"
   ]
  },
  {
   "cell_type": "code",
   "execution_count": 384,
   "metadata": {},
   "outputs": [
    {
     "name": "stdout",
     "output_type": "stream",
     "text": [
      "Correct Character:  b\n",
      "Probability of Correct Character:  0.012314035557210445\n",
      "Loss:  4.397015571594238\n"
     ]
    }
   ],
   "source": [
    "#For the first character \".\" what is the probability of the next character being the correct character (\"b\")\n",
    "\n",
    "#Get correct character\n",
    "ch = ys[0].item()\n",
    "print(\"Correct Character: \", idx_to_char[ch])\n",
    "\n",
    "#Get probability of the correct character\n",
    "prob = probs[0, ch]\n",
    "print(\"Probability of Correct Character: \", prob.item()) \n",
    "\n",
    "#Right now it's really low because we haven't trained the model yet. \n",
    "\n",
    "#Let's calculate loss for this example \n",
    "loss = -torch.log(prob)\n",
    "print(\"Loss: \", loss.item())"
   ]
  },
  {
   "cell_type": "code",
   "execution_count": 449,
   "metadata": {},
   "outputs": [
    {
     "name": "stdout",
     "output_type": "stream",
     "text": [
      "tensor(0.0123, grad_fn=<SelectBackward0>) tensor(0.1814, grad_fn=<SelectBackward0>) tensor(0.0309, grad_fn=<SelectBackward0>)\n"
     ]
    },
    {
     "ename": "IndexError",
     "evalue": "index 114076 is out of bounds for dimension 0 with size 4",
     "output_type": "error",
     "traceback": [
      "\u001b[0;31m---------------------------------------------------------------------------\u001b[0m",
      "\u001b[0;31mIndexError\u001b[0m                                Traceback (most recent call last)",
      "Cell \u001b[0;32mIn[449], line 5\u001b[0m\n\u001b[1;32m      2\u001b[0m \u001b[38;5;28mprint\u001b[39m(probs[\u001b[38;5;241m0\u001b[39m, ys[\u001b[38;5;241m0\u001b[39m]], probs[\u001b[38;5;241m1\u001b[39m, ys[\u001b[38;5;241m1\u001b[39m]], probs[\u001b[38;5;241m2\u001b[39m, ys[\u001b[38;5;241m2\u001b[39m]])\n\u001b[1;32m      4\u001b[0m \u001b[38;5;66;03m#How do we automate this process?\u001b[39;00m\n\u001b[0;32m----> 5\u001b[0m \u001b[38;5;28mprint\u001b[39m(\u001b[43mprobs\u001b[49m\u001b[43m[\u001b[49m\u001b[43mtorch\u001b[49m\u001b[38;5;241;43m.\u001b[39;49m\u001b[43marange\u001b[49m\u001b[43m(\u001b[49m\u001b[38;5;28;43mlen\u001b[39;49m\u001b[43m(\u001b[49m\u001b[43mys\u001b[49m\u001b[43m)\u001b[49m\u001b[43m)\u001b[49m\u001b[43m,\u001b[49m\u001b[43m \u001b[49m\u001b[43mys\u001b[49m\u001b[43m]\u001b[49m) \u001b[38;5;66;03m#This is the same as the above\u001b[39;00m\n",
      "\u001b[0;31mIndexError\u001b[0m: index 114076 is out of bounds for dimension 0 with size 4"
     ]
    }
   ],
   "source": [
    "#Forward Pass\n",
    "print(probs[0, ys[0]], probs[1, ys[1]], probs[2, ys[2]])\n",
    "\n",
    "#How do we automate this process?\n",
    "print(probs[torch.arange(len(xs)), ys]) #This is the same as the above"
   ]
  },
  {
   "cell_type": "code",
   "execution_count": null,
   "metadata": {},
   "outputs": [],
   "source": []
  },
  {
   "cell_type": "code",
   "execution_count": 438,
   "metadata": {},
   "outputs": [
    {
     "name": "stdout",
     "output_type": "stream",
     "text": [
      "Loss:  3.459641456604004\n"
     ]
    }
   ],
   "source": [
    "#Redo the calc for probs\n",
    "probs = torch.exp(x_enc @ W) / torch.exp(x_enc @ W).sum(dim=1, keepdim=True)\n",
    "\n",
    "#Let's calculate the loss \n",
    "loss = -torch.log(probs[torch.arange(len(xs)), ys]).mean()\n",
    "print(\"Loss: \", loss.item())"
   ]
  },
  {
   "cell_type": "code",
   "execution_count": 439,
   "metadata": {},
   "outputs": [],
   "source": [
    "#Backward Pass\n",
    "W.grad = None #Sets the gradient to zero\n",
    "loss.backward() #Calculates the gradients"
   ]
  },
  {
   "cell_type": "code",
   "execution_count": 440,
   "metadata": {},
   "outputs": [],
   "source": [
    "#Update the weights based on the gradients\n",
    "W.data -= 0.3 * W.grad.data"
   ]
  },
  {
   "cell_type": "code",
   "execution_count": 454,
   "metadata": {},
   "outputs": [],
   "source": [
    "x_enc = F.one_hot(xs, num_classes=len(chars)).float() \n",
    "g = torch.Generator().manual_seed(2147483647)\n",
    "W = torch.randn(len(chars), len(chars), requires_grad=True, generator=g)"
   ]
  },
  {
   "cell_type": "code",
   "execution_count": 463,
   "metadata": {},
   "outputs": [
    {
     "name": "stdout",
     "output_type": "stream",
     "text": [
      "Loss: 2.4580\n",
      "Loss: 2.4575\n",
      "Loss: 2.4572\n",
      "Loss: 2.4569\n",
      "Loss: 2.4567\n",
      "Loss: 2.4565\n",
      "Loss: 2.4563\n",
      "Loss: 2.4561\n",
      "Loss: 2.4560\n",
      "Loss: 2.4559\n"
     ]
    }
   ],
   "source": [
    "#Putting it all together\n",
    "#Gradient Descent\n",
    "for i in range(1000):\n",
    "    #Forward Pass\n",
    "    logits = x_enc @ W #Log Counts\n",
    "    probs = torch.exp(logits) / torch.exp(logits).sum(dim=1, keepdim=True) #Probabilities\n",
    "    loss = -torch.log(probs[torch.arange(len(xs)), ys]).mean() #Calculate loss\n",
    "\n",
    "    #Backward Pass\n",
    "    W.grad = None #Sets the gradient to zero\n",
    "    loss.backward() #Calculates the gradients\n",
    "\n",
    "    #Update the weights based on the gradients\n",
    "    W.data -= 20 * W.grad.data\n",
    "\n",
    "    if i % 100 == 0:\n",
    "        print(f'Loss: {loss:.4f}')"
   ]
  },
  {
   "cell_type": "code",
   "execution_count": 469,
   "metadata": {},
   "outputs": [
    {
     "name": "stdout",
     "output_type": "stream",
     "text": [
      "Neural Network Prob:  0.13766393065452576\n",
      "Basic Prob:  0.13767053186893463\n"
     ]
    }
   ],
   "source": [
    "#Get the prob of .b\n",
    "NN_Prob = torch.exp(W[0,1]) / torch.exp(W[0]).sum() #Prob of .b from the neural network\n",
    "Basic_Prob = freq_tensor[0,1] / freq_tensor[0].sum() #Prob of .b from the basic model\n",
    "print(\"Neural Network Prob: \", prob.item())\n",
    "print(\"Basic Prob: \", Basic_Prob.item())"
   ]
  },
  {
   "cell_type": "code",
   "execution_count": 475,
   "metadata": {},
   "outputs": [
    {
     "name": "stdout",
     "output_type": "stream",
     "text": [
      "cexze\n",
      "momasurailezitynn\n",
      "konimittain\n",
      "llayn\n",
      "ka\n",
      "da\n",
      "staiyaubrtthrigotai\n",
      "moliellavo\n",
      "ke\n",
      "teda\n",
      "ka\n",
      "emimmsade\n",
      "enkaviyny\n",
      "fobspihinivenvorhlasu\n",
      "dsor\n",
      "br\n",
      "jol\n",
      "pen\n",
      "aisan\n",
      "ja\n"
     ]
    }
   ],
   "source": [
    "g = torch.Generator().manual_seed(2147483647)\n",
    "\n",
    "for i in range(20):\n",
    "    ix = 0\n",
    "    out = []\n",
    "    while True:\n",
    "        #Get the probabilities of the next letter based on the previous letter\n",
    "        p = torch.exp(W[ix]) / torch.exp(W[ix]).sum()\n",
    "\n",
    "        #Generate a random letter based on the probabilities in p and a first letter\n",
    "        ix = torch.multinomial(p, 1, replacement=True, generator=g).item()\n",
    "        #Get the letter\n",
    "        out.append(idx_to_char[ix])\n",
    "        if idx_to_char[ix] == '.':\n",
    "            break\n",
    "\n",
    "    print(''.join(out[:-1]))"
   ]
  }
 ],
 "metadata": {
  "kernelspec": {
   "display_name": "Python 3.11.3 64-bit",
   "language": "python",
   "name": "python3"
  },
  "language_info": {
   "codemirror_mode": {
    "name": "ipython",
    "version": 3
   },
   "file_extension": ".py",
   "mimetype": "text/x-python",
   "name": "python",
   "nbconvert_exporter": "python",
   "pygments_lexer": "ipython3",
   "version": "3.11.3"
  },
  "orig_nbformat": 4,
  "vscode": {
   "interpreter": {
    "hash": "b0fa6594d8f4cbf19f97940f81e996739fb7646882a419484c72d19e05852a7e"
   }
  }
 },
 "nbformat": 4,
 "nbformat_minor": 2
}
