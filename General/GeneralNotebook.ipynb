{
 "cells": [
  {
   "cell_type": "code",
   "execution_count": 1,
   "metadata": {},
   "outputs": [],
   "source": [
    "import openai\n",
    "import os\n",
    "\n",
    "# Set up the Open AI API\n",
    "\n",
    "#Open the api key from my documents\n",
    "with open(os.path.expanduser(\"~/Documents/OPENAI_API_KEY.txt\")) as f:\n",
    "    openai.api_key = f.read().strip()\n",
    "    \n",
    "\n",
    "#Set up the Organization\n",
    "openai.organization = \"org-9rUnSTHOfxLvlgIoNDRgEDoZ\""
   ]
  },
  {
   "cell_type": "code",
   "execution_count": 32,
   "metadata": {},
   "outputs": [],
   "source": [
    "messages = [\n",
    "    {\"role\": \"system\", \"content\": \"You are a helpful assistant\"},\n",
    "]\n",
    "\n",
    "prompt = \"Given the following notes, reword them in bulletpoints but ensure to capture all topics mentioned in the notes, as well as any points that may have been missed:\"\n",
    "\n",
    "textFile = open(\"./NortonTextExtractor/output.txt\", \"r\")\n",
    "text = textFile.read()\n",
    "# prompt += text\n",
    "# messages+=[{\"role\": \"user\", \"content\": prompt}]"
   ]
  },
  {
   "cell_type": "code",
   "execution_count": 34,
   "metadata": {},
   "outputs": [],
   "source": [
    "#The prompt is too long so we need to split it. We can do this by splitting it into n chunks and then sending it to the API. We need to make sure that we don't cut off a note so if we must split at a • character.\n",
    "charSplit = \"•\"\n",
    "chunkSize = 3000\n",
    "chunks = [text[i:i+chunkSize] for i in range(0, len(text), chunkSize)]\n",
    "\n",
    "#We need to make sure that we don't cut off a note so if we must split at the last chunkSplit character and then pass the cut off to the beginning of the next chunk\n",
    "for i in range(len(chunks)):\n",
    "    if i != len(chunks)-1:\n",
    "        lastChunkSplit = chunks[i].rfind(charSplit)\n",
    "        chunks[i+1] = chunks[i][lastChunkSplit+1:] + chunks[i+1]\n",
    "        chunks[i] = chunks[i][:lastChunkSplit+1]\n",
    "\n",
    "#Now we can send the chunks to the API\n",
    "\n",
    "#Open output2.txt\n",
    "outputFile = open(\"./output2.txt\", \"w\")\n",
    "\n",
    "for chunk in chunks:\n",
    "    output = openai.ChatCompletion.create(\n",
    "        model=\"gpt-3.5-turbo\",\n",
    "        messages = [{\"role\": \"user\", \"content\": prompt+chunk}],\n",
    "    )\n",
    "    outputFile.write(output.choices[0].message.content)\n",
    "\n",
    "    "
   ]
  },
  {
   "cell_type": "code",
   "execution_count": 14,
   "metadata": {},
   "outputs": [],
   "source": [
    "output = openai.ChatCompletion.create(\n",
    "    model=\"gpt-3.5-turbo\",\n",
    "    messages = messages,\n",
    ")"
   ]
  },
  {
   "cell_type": "code",
   "execution_count": 15,
   "metadata": {},
   "outputs": [
    {
     "data": {
      "text/plain": [
       "\"- Beethoven was steeped in Enlightenment ideals and was affected by the French Revolution and Napoleonic Wars.\\n- He was a promising piano virtuoso and composer, but deafness forced him to stop performing and focus almost exclusively on composing.\\n- Beethoven's career can be divided into three periods, each marked by different styles and themes.\\n- He received training from his father and local musicians in Bonn before being sent to Vienna\""
      ]
     },
     "execution_count": 15,
     "metadata": {},
     "output_type": "execute_result"
    }
   ],
   "source": [
    "output.choices[0].message.content"
   ]
  },
  {
   "cell_type": "code",
   "execution_count": 17,
   "metadata": {},
   "outputs": [
    {
     "data": {
      "text/plain": [
       "<OpenAIObject chat.completion id=chatcmpl-73um88EFAT8dH1vSjuP6tXwotQoLY at 0x108337560> JSON: {\n",
       "  \"choices\": [\n",
       "    {\n",
       "      \"finish_reason\": \"length\",\n",
       "      \"index\": 0,\n",
       "      \"message\": {\n",
       "        \"content\": \"- Beethoven was steeped in Enlightenment ideals and was affected by the French Revolution and Napoleonic Wars.\\n- He was a promising piano virtuoso and composer, but deafness forced him to stop performing and focus almost exclusively on composing.\\n- Beethoven's career can be divided into three periods, each marked by different styles and themes.\\n- He received training from his father and local musicians in Bonn before being sent to Vienna\",\n",
       "        \"role\": \"assistant\"\n",
       "      }\n",
       "    }\n",
       "  ],\n",
       "  \"created\": 1681167584,\n",
       "  \"id\": \"chatcmpl-73um88EFAT8dH1vSjuP6tXwotQoLY\",\n",
       "  \"model\": \"gpt-3.5-turbo-0301\",\n",
       "  \"object\": \"chat.completion\",\n",
       "  \"usage\": {\n",
       "    \"completion_tokens\": 87,\n",
       "    \"prompt_tokens\": 4010,\n",
       "    \"total_tokens\": 4097\n",
       "  }\n",
       "}"
      ]
     },
     "execution_count": 17,
     "metadata": {},
     "output_type": "execute_result"
    }
   ],
   "source": [
    "output"
   ]
  },
  {
   "cell_type": "code",
   "execution_count": null,
   "metadata": {},
   "outputs": [],
   "source": []
  }
 ],
 "metadata": {
  "kernelspec": {
   "display_name": "Python 3.10.6 64-bit",
   "language": "python",
   "name": "python3"
  },
  "language_info": {
   "codemirror_mode": {
    "name": "ipython",
    "version": 3
   },
   "file_extension": ".py",
   "mimetype": "text/x-python",
   "name": "python",
   "nbconvert_exporter": "python",
   "pygments_lexer": "ipython3",
   "version": "3.10.6"
  },
  "orig_nbformat": 4,
  "vscode": {
   "interpreter": {
    "hash": "aee8b7b246df8f9039afb4144a1f6fd8d2ca17a180786b69acc140d282b71a49"
   }
  }
 },
 "nbformat": 4,
 "nbformat_minor": 2
}
