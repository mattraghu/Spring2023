{
 "cells": [
  {
   "cell_type": "code",
   "execution_count": 1,
   "metadata": {},
   "outputs": [],
   "source": [
    "import openai\n",
    "import os\n",
    "\n",
    "# Set up the Open AI API\n",
    "\n",
    "#Open the api key from my documents\n",
    "with open(os.path.expanduser(\"~/Documents/OPENAI_API_KEY.txt\")) as f:\n",
    "    openai.api_key = f.read().strip()\n",
    "    \n",
    "\n",
    "#Set up the Organization\n",
    "openai.organization = \"org-9rUnSTHOfxLvlgIoNDRgEDoZ\""
   ]
  },
  {
   "cell_type": "code",
   "execution_count": 5,
   "metadata": {},
   "outputs": [],
   "source": [
    "messages = [\n",
    "    {\"role\": \"system\", \"content\": \"You are a helpful assistant\"},\n",
    "]\n",
    "\n",
    "prompt = \"Given the following notes, reword them in bulletpoints but ensure to capture all topics mentioned in the notes, as well as any points that may have been missed:\"\n",
    "\n",
    "textFile = open(\"./NortonTextExtractor/output.txt\", \"r\")\n",
    "text = textFile.read()\n",
    "# prompt += text\n",
    "# messages+=[{\"role\": \"user\", \"content\": prompt}]"
   ]
  },
  {
   "cell_type": "code",
   "execution_count": 6,
   "metadata": {},
   "outputs": [
    {
     "data": {
      "text/plain": [
       "'• He was steeped in Enlightenment ideals; absorbed the music of Haydn and Mozart; was affected by the French Revolution; idealized and then was disillusioned by Napoleon; endured occupation and economic privation during the Napoleonic Wars; and lived his last dozen years under political repression\\n• In his youth a promising piano virtuoso and composer, he was forced to cease performing because of deafness and in his later years became the first musician to make a living almost exclusively as a composer\\n• During the first period, which takes us from his birth in 1770 to about 1802, Beethoven mastered the musical language and genres of his time and gradually found a personal voice\\n• the second period, through about 1814, he developed a style that achieved a new level of drama and expression and brought him enormous popularity.\\n• the third period, from about 1815 to his death in 1827, his music became more introspective and more difficult for performers to play and for listeners to comprehend\\n• In Bonn, after training by his father and other local musicians, he entered the service of Maximilian Franz, elector of Cologne, and attracted notice as a virtuoso pianist and improviser\\n• On a visit to Bonn, Haydn praised Beethoven’s music and urged the elector to send the young man to Vienna for further study\\n• Beethoven took lessons with Haydn, but they were interrupted when Haydn left for London in January 1794\\n• He then studied counterpoint for a year with Johann Georg Albrechtsberger, author of a famous composition treatise, and later studied how to set Italian poetry with Antonio Salieri. \\n• Haydn was the most famous composer of both genres; that Beethoven gave both collections opus numbers and dedicated the sonatas to Haydn shows that he sought to place himself beside the older composer in the minds of the public, as Mozart had done a decade earlier in dedicating a set of quartets to Haydn\\n• indeed sonatas, variations, and shorter works for piano comprise the largest group of works he wrote during his first decade in Vienna\\n• solo keyboard music at the amateur market, although his early sonatas already make increasing demands on the performer\\n• Relatively difficult passages or movements appear next to easier ones, perhaps to challenge the player\\n• Like Mozart, Beethoven often used strong contrasts of style or topic to delineate the form and broaden the expressive range\\n• use of frequent octaves, thick textures, and abrupt changes of dynamics\\n• Sonate pathétique (Sonata with Pathos, 1797–98, published 1799), Op. 13, announced that the work would depict suffering and a tragic mode of expression.\\n• The sonata, in C minor, has outer movements of a stormy, passionate character—which Beethoven, like his predecessors, associated with that key—framing a calm, profound slow movement in A major. The first movement (NAWM 129) begins with a dramatic, fantasia-like slow introduction, a stunning depiction of grief, that is recalled before the development and again just before the end of the movement\\n• The main themes of the movement are energetic and determined, and in the development the main motive of the introduction is transformed and assimilated into the character of the Allegro. Thus over the course of the movement, Beethoven first evokes the depths of suffering and then suggests a struggle to overcome it. The sonata-rondo finale is equally serious and intense\\n• While he drew on their example, Beethoven’s personality shows through in the individuality of every movement, the character of his themes, frequent unexpected turns of phrase, unconventional modulations, and subtleties of form. \\n• The slow movement of No. 1, which Beethoven indicated on the sketches and in conversation was inspired by the burial vault scene of Romeo and Juliet, is especially striking and perhaps the most dramatic—even operatic—movement yet written for string quartet\\n• Beethoven’s Symphony No. 1 in C Major, premiered in 1800, shows his allegiance to the model of Haydn’s and Mozart’s late symphonies. Yet Beethoven sought to distinguish himself in distinctive ways: a slow introduction that avoids any definitive tonic cadence; careful dynamic shadings; unusual prominence for the woodwinds; a scherzo-like third movement; and long codas for the other movements. \\n• Around 1803, Beethoven began to compose in a new, more ambitious style that marks a pivotal point in his career. He was free to take this step because of his reputation, the support of patrons and publishers, and, paradoxically, the predicament created by his growing loss of hearing.\\n• Beethoven was acknowledged in German-speaking lands as the foremost pianist and composer for piano and had begun to establish a reputation as a composer of symphonies and string quartets. He was befriended by the loftiest noble families of Vienna, and he had generous patrons. When Jérôme Bonaparte, king of Westphalia and youngest brother of Napoleon, offered Beethoven a position in Kassel in 1808, Prince Franz Joseph von Lobkowitz, Prince Kinsky, and Archduke Rudolph, brother of Emperor Franz II, joined to provide the composer a lifetime annuity just to stay in Vienna, an unparalleled arrangement that caused astonishment at the time\\n• The strong financial backing Beethoven received from his patrons meant that he could do largely what he wished as a composer. His sponsors were connoisseurs devoted to his music; indeed, Archduke Rudolph was his student in piano and composition. The combination of financial, social, and creative support freed Beethoven\\n• Although he wrote on commission, he often failed to meet deadlines. He could afford, as he said, to “think and think,” to revise and polish a work until it suited him. \\n• Beethoven composed with great deliberation\\n• In 1802, he realized that the hearing loss he had noticed for some time was permanent and would only get worse. A deaf musician was as inconceivable as a blind painter. In despair, Beethoven considered suicide, but resolved to continue for the sake of his art (see Source Reading, p. 564). He played in public less and less but kept on composing and, occasionally, conducting. \\n• Beethoven’s courageous resolve to continue composing in the face of calamity was translated into his music, as he sought with each piece to say something new. His compositions seem to reflect the struggle of his own life, becoming like narratives or dramas\\n• The music gives the impression of conveying the composer’s own experience and feelings rather than representing the emotions of a text or operatic character or invoking generalized affections, as was typical in earlier music.\\n• Often, the thematic material assumes the character of a protagonist who struggles against great odds and emerges triumphant\\n• But the expansiveness, dynamism, and unusual features of many of Beethoven’s works create the sense of experiencing a dramatic conflict, climax, and catharsis more than any previous instrumental music. \\n• The music of this period continues to build on the models of Haydn and Mozart in most respects. The genres, forms, melodic types, phrasing, and textures all draw on tradition. But the forms are often expanded to unprecedented lengths or reworked in novel ways. Typically, Beethoven is economical in his material, adopting Haydn’s focus on a few ideas subjected to intense development rather than Mozart’s abundance of melody, yet he achieves great variety through ingenious transformations of his themes\\n• The first work that fully exemplifies Beethoven’s new approach is his Symphony No. 3 in E-flat Major, composed in 1803–4, which he eventually named Sinfonia Eroica (Heroic Symphony\\n• The title suggests that the symphony expresses in music the ideal of heroic greatness. It has been said that the heroism it depicts is Beethoven’s own: that it represents in music his experience of being almost overpowered by affliction, fighting against despair, and winning back his will to create. But it also reflects Beethoven’s understanding of heroism as portrayed in the ancient Greek and Roman literature he most admired, Homer’s Iliad and Odyssey and Plutarch’s Parallel Lives, marked by nobility of character, acceptance of one’s circumstances, and determination to overcome obstacles\\n• According to one possible interpretation, the first movement (NAWM 130) encapsulates this story of challenge, struggle, and final victory.\\n• movement is in the fast triple meter of the deutsche, the German peasant dance that evolved into the waltz, and the first three measures of the triadic motive are identical to a traditional deutsche melody Beethoven may have known, published in a collection of dance tunes around 1790. Moreover, the motive is first presented in a low register, in the cello, at a soft dynamic, followed by a chromatic descent to a surprising C. None of these characteristics suggests heroism, and the associations with a peasant dance imply that the protagonist is of common rather than noble origin. \\n• The heroic content of this movement lies not in its opening motive, but in what happens to it. Over the course of the movement, the motive undergoes a number of transformations: treated in sequence, with the chromatic tail now rising (Example 24.2b); disguised as a “new theme” in minor, with stepwise motion filling in its skips and leaps (Example 24.2c); and striving upward, only to tumble back down (Example 24.2d). By the end of the movement, it has achieved a new form, no longer falling at the end but sustaining its high note in a sign of final triumph\\n• Victory requires an opponent. Here the principal antagonist is another element from the first theme group: a leaping figure, shown in Example 24.3a, whose strong accents on weak beats create a forceful duple meter against the serene triple meter of the main motive\\n• the development, the leaping figure and offbeat accents build to a terrifying, dissonant climax. Almost overcome, the main motive gradually struggles to reassert itself\\n• economy of material, the great variety of gestures drawn from a few central ideas, the expansion of the form to unprecedented length, and the sense of struggle, achievement, and progressive change over the course of the long movement\\n• References to French Republic\\u2002In addition, the second movement has strong links to France during the Republic, with which Beethoven was in sympathy. Thirty-second-note upbeats in the strings imitate the roll of muffled drums used in the Revolutionary processions that accompanied heroes to their final resting place. The C-major section has the character of a Revolutionary hymn, punctuated by fanfares and drum rolls and ending in unisons. Beethoven originally named the symphony “Bonaparte” in honor of Napoleon, whom he admired as a hero of the French Republic. But according to his student Ferdinand Ries, when Beethoven heard that Napoleon had crowned himself emperor, he angrily tore up the title page, disillusioned when his idol proved to be an ambitious ruler on the way to becoming a tyrant. The title page of a score containing Beethoven’s corrections, shown in Figure 24.4, reveals that Bonaparte’s name was violently scratched out, confirming the gist if not the details of the story. But Beethoven seems to have wavered in his opinion of Napoleon: that August he wrote to his publisher that the symphony’s title was “Bonaparte,” in 1809 he conducted the symphony in Vienna during the French occupation of the city at a concert that Bonaparte was to have attended, and in 1810 he considered dedicating his Mass in C, Op. 86, to the emperor. In any case, Beethoven’s plan to honor Napoleon may explain the strong links to music of the French Republic.\\n• Yet in another sense Beethoven’s music was better suited to attract a broad and devoted public than that of his predecessors. From Baldassare Galuppi and Giovanni Battista Sammartini through Haydn and Mozart, the instrumental music of the middle to late eighteenth century was rooted in the galant style, a style whose effects depended on its audience’s familiarity with a common repertoire of gestures\\n• Beethoven’s music grew out of the same stylistic tradition, but instead of relying on the interplay of familiar schemata, each piece has its individual internal logic, a drama that can be understood on its own terms, even for a listener unfamiliar with the music of galant composers\\n• TheEroicaand Beethoven’s later symphonies became the center of the symphonic tradition because someone who had never heard a symphony before could be riveted by them on first hearing\\n• Beethoven’s opera, Fidelio, makes Leonore into an idealized figure of sublime courage and self-denial, and the last scene of the opera glorifies Leonore’s heroism and the humanitarian ideals of the Revolution\\n• Beethoven increasingly tested the limits of amateur players, most notably in his string quartets\\n• concertos of his middle period are, like the symphonies, composed on a grander scale.\\n• Beethoven greatly expanded the music’s expressive range and dimensions\\n• The soloist is often coequal with the orchestra, as if playing the part of a hero in a drama\\n• Beethoven’s Fifth Symphony (1807–8) can be considered the musical projection of his resolution “I will grapple with Fate; it shall not overcome me.”\\n• symbolizes his struggle for victory by passing from C minor to C major, in a grand expansion of the move from chaos to light that he found in Haydn’s Creation\\n• Beethoven’s symphony embodies an experience of the sublime\\n• first movement is dominated by one of the best-known motives in all of Western music: the four-note figure\\n• same rhythmic idea recurs in various guises in the other three movements\\n• transition from minor to major takes place in an inspired passage that begins with the timpani softly recalling the rhythm of the four-note motive and leading without a break from the scherzo into the triumphant finale\\n• His deafness became increasingly profound, until by 1818 he could hardly hear at all. Because it caused him to lose contact with others, he retreated into himself, becoming moody and morbidly suspicious even toward his friends\\n• currency devaluation in 1811 and the death of Prince Kinsky in 1812 had reduced the value of Beethoven’s annuity, making him feel financially vulnerable.\\n• Family problems, ill health, and unfounded apprehensions of poverty also plagued him, and it was only by a supreme effort of will that he continued composing amid all these troubles\\n• The final defeat of Napoleon in 1815 was followed by a disastrous postwar depression, making it difficult to produce large-scale public works\\n• That same year saw the beginning of tremendous repression instituted by Count Metternich, head of the Austrian government under the emperor. Beethoven’s sympathy with the ideals of republican government as it had developed in France was now seen as a threat to the state, and he was investigated and spied on by government security forces. \\n• During these years, he did not write politically linked works like Fidelio, or even the Eroica Symphony; the heroic style itself became psychologically inappropriate\\n• The urgent sense of communication to a large public was replaced by a more introspective character, aimed at a smaller, more select audience, and the musical language became more concentrated.\\n• Classical forms remained, like the features of a landscape after a geological upheaval—recognizable under new contours, lying at strange angles beneath the new surface\\n• essential element of Beethoven’s late style is the high degree of contrast. Extremes meet in these pieces: the sublime and the grotesque in the Missa solemnis and Ninth Symphony, the profound and the apparently naive in the late quartets and sonatas, high seriousness and high comedy often side by side\\n• Contrasts of topic become exaggerated, involving not only style, figuration, and character but also meter and tempo\\n• two ideas presented at the beginning of the Piano Sonata in E Major, Op. 109 (1820), shown in Example 24.6, sound like they belong in entirely different movements, a light bagatelle or fast finale in duple meter and a pensive triple-meter slow movement\\n• Beethoven balanced the contrasts in his late style with an emphasis on continuity. Within movements, he achieves continuity by intentionally blurring divisions between phrases or placing cadences on weak\\n• An die ferne Geliebte (To the Distant Beloved), Op. 98 (1816), inaugurated the genre of the song cycle\\n• The way Beethoven used variation technique epitomizes his late style\\n• Usually in a variations movement composers preserved the essential structure of the entire theme in each variation while introducing new embellishments, figurations, rhythms, and even meters and tempos. But Beethoven’s late variations often go beyond this to reexamine the very substance of the theme\\n• In the slow movement of his String Quartet in C-sharp Minor, Op. 131 (1825–26), for example, only a few basic elements of the theme—a harmonic plan, a rhythmic quirk of deemphasizing the downbeat, a neighbor-note motion in the melody—are preserved through a very diverse series of variations. \\n• new sonorities, such as the simultaneous use in all four instruments of pizzicatos or of sul ponticello effects\\n• In his late works, Beethoven frequently used familiar styles and genres, either for expressive purposes or to reflect on tradition\\n• the slow movement of the String Quartet in A Minor, Op. 132 (1825; NAWM 131), opens in the style of a sixteenth-century chorale setting,\\n• Characteristic of Beethoven’s late works is his use of imitative counterpoint, especially fugue\\n• Beethoven’s reflections on tradition include reconceiving the number and arrangement of movements\\n• While Beethoven varied the traditional sequence of movements, he sought ways to integrate the movements more closely. In Op. 132, he does this through motivic and key relationships. \\n• relationships between themes are subtle yet audible, and they help to draw all five movements together as a unified whole.\\n• Appeal to connoisseurs\\n• a piece for connoisseurs. It is dramatic and emotionally rich, ranging from prayer to lightheartedness and from puckish humor to passion, so that it appeals to audiences on many levels\\n• only those “in the know” about music are likely to notice and appreciate the complex relationships between the whole and the individual parts, or the crafty combination of tradition and innovation, as the old and the new are inextricably intertwined. Music like this asks us to interpret it. It calls for analysis of its structure and motivic development but also of its meanings and its topical references. It draws us into its world\\n'"
      ]
     },
     "execution_count": 6,
     "metadata": {},
     "output_type": "execute_result"
    }
   ],
   "source": [
    "text"
   ]
  },
  {
   "cell_type": "code",
   "execution_count": 3,
   "metadata": {},
   "outputs": [],
   "source": [
    "#The prompt is too long so we need to split it. We can do this by splitting it into n chunks and then sending it to the API. We need to make sure that we don't cut off a note so if we must split at a • character.\n",
    "charSplit = \"•\"\n",
    "chunkSize = 3000\n",
    "chunks = [text[i:i+chunkSize] for i in range(0, len(text), chunkSize)]\n",
    "\n",
    "#We need to make sure that we don't cut off a note so if we must split at the last chunkSplit character and then pass the cut off to the beginning of the next chunk\n",
    "for i in range(len(chunks)):\n",
    "    if i != len(chunks)-1:\n",
    "        lastChunkSplit = chunks[i].rfind(charSplit)\n",
    "        chunks[i+1] = chunks[i][lastChunkSplit+1:] + chunks[i+1]\n",
    "        chunks[i] = chunks[i][:lastChunkSplit+1]\n",
    "\n",
    "#Now we can send the chunks to the API\n",
    "\n",
    "#Open output2.txt\n",
    "outputFile = open(\"./output2.txt\", \"w\")\n",
    "\n",
    "for chunk in chunks:\n",
    "    output = openai.ChatCompletion.create(\n",
    "        model=\"gpt-3.5-turbo\",\n",
    "        messages = [{\"role\": \"user\", \"content\": prompt+chunk}],\n",
    "    )\n",
    "    outputFile.write(output.choices[0].message.content)\n",
    "\n",
    "    "
   ]
  },
  {
   "cell_type": "code",
   "execution_count": 14,
   "metadata": {},
   "outputs": [],
   "source": [
    "output = openai.ChatCompletion.create(\n",
    "    model=\"gpt-3.5-turbo\",\n",
    "    messages = messages,\n",
    ")"
   ]
  },
  {
   "cell_type": "code",
   "execution_count": 15,
   "metadata": {},
   "outputs": [
    {
     "data": {
      "text/plain": [
       "\"- Beethoven was steeped in Enlightenment ideals and was affected by the French Revolution and Napoleonic Wars.\\n- He was a promising piano virtuoso and composer, but deafness forced him to stop performing and focus almost exclusively on composing.\\n- Beethoven's career can be divided into three periods, each marked by different styles and themes.\\n- He received training from his father and local musicians in Bonn before being sent to Vienna\""
      ]
     },
     "execution_count": 15,
     "metadata": {},
     "output_type": "execute_result"
    }
   ],
   "source": [
    "output.choices[0].message.content"
   ]
  },
  {
   "cell_type": "code",
   "execution_count": 17,
   "metadata": {},
   "outputs": [
    {
     "data": {
      "text/plain": [
       "<OpenAIObject chat.completion id=chatcmpl-73um88EFAT8dH1vSjuP6tXwotQoLY at 0x108337560> JSON: {\n",
       "  \"choices\": [\n",
       "    {\n",
       "      \"finish_reason\": \"length\",\n",
       "      \"index\": 0,\n",
       "      \"message\": {\n",
       "        \"content\": \"- Beethoven was steeped in Enlightenment ideals and was affected by the French Revolution and Napoleonic Wars.\\n- He was a promising piano virtuoso and composer, but deafness forced him to stop performing and focus almost exclusively on composing.\\n- Beethoven's career can be divided into three periods, each marked by different styles and themes.\\n- He received training from his father and local musicians in Bonn before being sent to Vienna\",\n",
       "        \"role\": \"assistant\"\n",
       "      }\n",
       "    }\n",
       "  ],\n",
       "  \"created\": 1681167584,\n",
       "  \"id\": \"chatcmpl-73um88EFAT8dH1vSjuP6tXwotQoLY\",\n",
       "  \"model\": \"gpt-3.5-turbo-0301\",\n",
       "  \"object\": \"chat.completion\",\n",
       "  \"usage\": {\n",
       "    \"completion_tokens\": 87,\n",
       "    \"prompt_tokens\": 4010,\n",
       "    \"total_tokens\": 4097\n",
       "  }\n",
       "}"
      ]
     },
     "execution_count": 17,
     "metadata": {},
     "output_type": "execute_result"
    }
   ],
   "source": [
    "output"
   ]
  },
  {
   "cell_type": "code",
   "execution_count": null,
   "metadata": {},
   "outputs": [],
   "source": []
  }
 ],
 "metadata": {
  "kernelspec": {
   "display_name": "Python 3.11.3 64-bit",
   "language": "python",
   "name": "python3"
  },
  "language_info": {
   "codemirror_mode": {
    "name": "ipython",
    "version": 3
   },
   "file_extension": ".py",
   "mimetype": "text/x-python",
   "name": "python",
   "nbconvert_exporter": "python",
   "pygments_lexer": "ipython3",
   "version": "3.11.3"
  },
  "orig_nbformat": 4,
  "vscode": {
   "interpreter": {
    "hash": "b0fa6594d8f4cbf19f97940f81e996739fb7646882a419484c72d19e05852a7e"
   }
  }
 },
 "nbformat": 4,
 "nbformat_minor": 2
}
