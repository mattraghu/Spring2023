{
 "cells": [
  {
   "cell_type": "code",
   "execution_count": 2,
   "metadata": {},
   "outputs": [],
   "source": [
    "import cv2\n",
    "from PIL import Image\n",
    "import requests\n",
    "from bs4 import BeautifulSoup\n",
    "import base64\n",
    "import os"
   ]
  },
  {
   "cell_type": "code",
   "execution_count": 3,
   "metadata": {},
   "outputs": [],
   "source": [
    "emojiFolder = \"Emojis\"\n",
    "\n",
    "# Get the web page containing the list of emojis\n",
    "url = \"https://unicode.org/emoji/charts/full-emoji-list.html\"\n",
    "response = requests.get(url)\n",
    "\n",
    "# Parse the web page using BeautifulSoup\n",
    "soup = BeautifulSoup(response.text, \"html.parser\")\n"
   ]
  },
  {
   "cell_type": "code",
   "execution_count": 4,
   "metadata": {},
   "outputs": [],
   "source": [
    "rows = soup.find_all('tr')"
   ]
  },
  {
   "cell_type": "code",
   "execution_count": 5,
   "metadata": {},
   "outputs": [],
   "source": [
    "def getAverageColor(img):\n",
    "    img = img.convert('RGBA')\n",
    "    pixels = img.getdata()\n",
    "\n",
    "    total = 0 \n",
    "    r, g, b = 0, 0, 0\n",
    "    for pixel in pixels:\n",
    "        r += pixel[0]\n",
    "        g += pixel[1]\n",
    "        b += pixel[2]\n",
    "        total += 1\n",
    "\n",
    "    return (r/total, g/total, b/total)\n",
    "\n"
   ]
  },
  {
   "cell_type": "code",
   "execution_count": 22,
   "metadata": {},
   "outputs": [],
   "source": [
    "emojis = {}\n",
    "for row in rows:\n",
    "    emoji_ID = row.find('td', class_='rchars')\n",
    "    if emoji_ID is None:\n",
    "        continue\n",
    "    emoji_ID = emoji_ID.text\n",
    "\n",
    "    #Get The Emoji\n",
    "    emoji= row.find('td', class_='chars')\n",
    "    if emoji is None:\n",
    "        continue\n",
    "    emoji = emoji.text\n",
    "\n",
    "    #Filter out the emojis that are not supported by the font\n",
    "    if emoji == \"🏻\" or emoji == \"🏼\" or emoji == \"🏽\" or emoji == \"🏾\" or emoji == \"🏿\" or emoji == \"🫏\":\n",
    "        continue\n",
    "\n",
    "    img_url = row.find('img')['src']\n",
    "    img_data = img_url.split(',')[1]\n",
    "\n",
    "    img_data = base64.b64decode(img_data)\n",
    "\n",
    "    img_path = emojiFolder + \"/\" + emoji_ID + \".png\"\n",
    "    with open(img_path, \"wb\") as fh:\n",
    "        fh.write(img_data)\n",
    "\n",
    "    #Get The Average Color of the emoji\n",
    "    img = Image.open(img_path)\n",
    "    avgColor = getAverageColor(img)\n",
    "    #Convert to int\n",
    "    avgColor = (int(avgColor[0]), int(avgColor[1]), int(avgColor[2]))\n",
    "\n",
    "    \n",
    "\n",
    "\n",
    "\n",
    "    #Add the emoji to the dictionary\n",
    "    emojis[emoji_ID] = {\n",
    "        \"image\": cv2.imread(emojiFolder + \"/\" + emoji_ID + \".png\"),\n",
    "        \"color\": avgColor,\n",
    "        \"emoji\": emoji\n",
    "    }\n",
    "\n",
    "\n",
    "\n",
    "\n"
   ]
  },
  {
   "cell_type": "code",
   "execution_count": 23,
   "metadata": {},
   "outputs": [],
   "source": [
    "for emoji in emojis:\n",
    "    #Create an image with the average color of the emoji\n",
    "    img = Image.new('RGB', (10, 10), color = emojis[emoji][\"color\"])\n",
    "    img.save(emojiFolder + \"/\" + emoji + \"_color.png\")\n"
   ]
  },
  {
   "cell_type": "code",
   "execution_count": 24,
   "metadata": {},
   "outputs": [],
   "source": [
    "#Using a color (from image.getpixel) return the emoji color that is closest to it\n",
    "\n",
    "def getDistance(color1, color2):\n",
    "    # Get the distance between the two colors\n",
    "    distance = ((color1[0] - color2[0]) ** 2 + (color1[1] - color2[1]) ** 2 + (color1[2] - color2[2]) ** 2) ** 0.5\n",
    "    return distance\n",
    "\n",
    "def getClosestEmoji(color):\n",
    "    # Get the distance between the color and each emoji color\n",
    "    distances = {}\n",
    "    for emoji in emojis:\n",
    "        distances[emoji] = getDistance(color, emojis[emoji][\"color\"])\n",
    "    \n",
    "    # Get the emoji with the shortest distance\n",
    "    closestEmoji = min(distances, key=distances.get)\n",
    "    \n",
    "    return emojis[closestEmoji][\"emoji\"]\n"
   ]
  },
  {
   "cell_type": "code",
   "execution_count": 26,
   "metadata": {},
   "outputs": [],
   "source": [
    "image = Image.open('/Users/mattraghu/Downloads/ATENA.png')\n",
    "\n",
    "width = 77\n",
    "# Resize the image to match the width, maintain aspect ratio\n",
    "image = image.resize((width, int(image.height * width / image.width)))\n",
    "\n",
    "text = \"\"\n",
    "for y in range(image.height):\n",
    "    for x in range(image.width):\n",
    "        # Get the color of the pixel\n",
    "        color = image.getpixel((x, y))\n",
    "        \n",
    "        # Get the closest emoji\n",
    "        emoji = getClosestEmoji(color)\n",
    "\n",
    "        if emoji == \"🫏\":\n",
    "            print(\"Yes\")\n",
    "        \n",
    "        # Add the emoji to the text\n",
    "        text += emoji\n",
    "\n",
    "    # Add a new line\n",
    "    text += \"\\n\"\n",
    "\n",
    "#Write to file\n",
    "with open(\"output.txt\", \"w\") as f:\n",
    "    f.write(text)\n",
    "\n"
   ]
  },
  {
   "cell_type": "code",
   "execution_count": null,
   "metadata": {},
   "outputs": [],
   "source": []
  }
 ],
 "metadata": {
  "kernelspec": {
   "display_name": "Python 3.10.6 64-bit",
   "language": "python",
   "name": "python3"
  },
  "language_info": {
   "codemirror_mode": {
    "name": "ipython",
    "version": 3
   },
   "file_extension": ".py",
   "mimetype": "text/x-python",
   "name": "python",
   "nbconvert_exporter": "python",
   "pygments_lexer": "ipython3",
   "version": "3.10.6"
  },
  "orig_nbformat": 4,
  "vscode": {
   "interpreter": {
    "hash": "aee8b7b246df8f9039afb4144a1f6fd8d2ca17a180786b69acc140d282b71a49"
   }
  }
 },
 "nbformat": 4,
 "nbformat_minor": 2
}
