{
 "cells": [
  {
   "cell_type": "code",
   "execution_count": 1,
   "metadata": {},
   "outputs": [],
   "source": [
    "from bs4 import BeautifulSoup"
   ]
  },
  {
   "cell_type": "code",
   "execution_count": 2,
   "metadata": {},
   "outputs": [],
   "source": [
    "#I have an html file and I want to get all elements with this tag: <mark style=\"background-color: rgb(255, 249, 82);\">basso continuo, monody, and recitative; new styles, marked by unprepared dissonance, greater focus on the solo voice or instrument, and idiomatic playing; and new genres, including opera</mark>\n",
    "\n",
    "# filePath = './Notes_MozartandHayden.html'\n",
    "filePath = './Notes_WorldMusic.html'\n",
    "outputFile = './output.txt'\n",
    "\n",
    "output = open(outputFile, 'w')\n",
    "with open(filePath, 'r') as f:\n",
    "    html = f.read()\n",
    "    soup = BeautifulSoup(html, 'html.parser')\n",
    "    for mark in soup.find_all('mark'):\n",
    "        #Add A bullet point to the beginning of the text\n",
    "        text = '• '\n",
    "        text += mark.text\n",
    "        #Remove the new lines from the text\n",
    "        text = text.replace('\\n', ' ')\n",
    "\n",
    "        #Remove tabs and spaces greater than 1\n",
    "        text = text.replace('\\t', ' ')\n",
    "\n",
    "        spaces = 10\n",
    "        while spaces > 1:\n",
    "            text = text.replace(' ' * spaces, ' ')\n",
    "            spaces -= 1\n",
    "        text = text.replace('   ', ' ')\n",
    "\n",
    "        output.write(text + '\\n')\n",
    "output.close()\n"
   ]
  },
  {
   "cell_type": "code",
   "execution_count": null,
   "metadata": {},
   "outputs": [],
   "source": []
  },
  {
   "cell_type": "code",
   "execution_count": null,
   "metadata": {},
   "outputs": [],
   "source": []
  }
 ],
 "metadata": {
  "kernelspec": {
   "display_name": "Python 3.11.3 64-bit",
   "language": "python",
   "name": "python3"
  },
  "language_info": {
   "codemirror_mode": {
    "name": "ipython",
    "version": 3
   },
   "file_extension": ".py",
   "mimetype": "text/x-python",
   "name": "python",
   "nbconvert_exporter": "python",
   "pygments_lexer": "ipython3",
   "version": "3.11.3"
  },
  "orig_nbformat": 4,
  "vscode": {
   "interpreter": {
    "hash": "b0fa6594d8f4cbf19f97940f81e996739fb7646882a419484c72d19e05852a7e"
   }
  }
 },
 "nbformat": 4,
 "nbformat_minor": 2
}
