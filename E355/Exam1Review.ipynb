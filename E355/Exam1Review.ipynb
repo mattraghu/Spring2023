{
 "cells": [
  {
   "cell_type": "code",
   "execution_count": 1,
   "metadata": {},
   "outputs": [],
   "source": [
    "import numpy as np\n",
    "import numpy_financial as npf"
   ]
  },
  {
   "cell_type": "code",
   "execution_count": null,
   "metadata": {},
   "outputs": [],
   "source": [
    "#A small town wants to raise money and is considering buying an amusement rocket ride to attract visitors.  \n",
    "# The ride will cost $125,000 to purchase.  Each year, costs associated with the amusement ride are \n",
    "# estimated to be $6,500.  The income from the ride is expected to be $42,000 the first year and increase by \n",
    "# $1,500 each year for the 10 year life of the amusement ride.  Determine the B/C ratio if the interest rate is \n",
    "# 5%. [3 points]\n",
    "\n",
    "#Calculate the present worth of the costs\n"
   ]
  },
  {
   "cell_type": "code",
   "execution_count": 28,
   "metadata": {},
   "outputs": [
    {
     "name": "stdout",
     "output_type": "stream",
     "text": [
      "Future Value of Annuity:  9381062.820235617\n",
      "-1200000.0\n",
      "Present Value of Future Value:  -70181.96909173523\n",
      "Present Worth of Annuity:  -5100.346403574132\n"
     ]
    }
   ],
   "source": [
    "#Calculate The Future Value of\n",
    "A = 1.2E6\n",
    "i = .1052\n",
    "n = 6\n",
    "\n",
    "#A is an annuity\n",
    "FV = npf.fv(i, n, -A, 0)\n",
    "print(\"Future Value of Annuity: \", FV)\n",
    "\n",
    "A = npf.pmt(i,n, pv = 0, fv = FV)\n",
    "print(A)\n",
    "\n",
    "#Now Calculate The Present Value of the future value \n",
    "n = 8\n",
    "PV = npf.pv(.07, 70, 0, 8E6)\n",
    "print(\"Present Value of Future Value: \", PV)\n",
    "\n",
    "A = 50\n",
    "i = .04\n",
    "n = 0.01\n",
    "PW = npf.pmt(i, n, A,0)\n",
    "print(\"Present Worth of Annuity: \", PW)\n"
   ]
  },
  {
   "cell_type": "code",
   "execution_count": null,
   "metadata": {},
   "outputs": [],
   "source": []
  },
  {
   "cell_type": "code",
   "execution_count": 31,
   "metadata": {},
   "outputs": [
    {
     "name": "stdout",
     "output_type": "stream",
     "text": [
      "Present Value of Future Value:  -70181.96909173523\n",
      "70181.96909173523\n"
     ]
    }
   ],
   "source": [
    "#Calculate the prevent worth of 8mil in 70 years\n",
    "n = 70\n",
    "PV = npf.pv(.07, 70, 0, 8E6)\n",
    "print(\"Present Value of Future Value: \", PV)\n",
    "\n",
    "print(8E6/(1.07)**70)"
   ]
  },
  {
   "cell_type": "code",
   "execution_count": 29,
   "metadata": {},
   "outputs": [
    {
     "name": "stdout",
     "output_type": "stream",
     "text": [
      "-26379748.079474524\n",
      "Annual Value of FV:  -30198735.48344825\n",
      "Capital Cost:  -301987354.8344825\n"
     ]
    }
   ],
   "source": [
    "F = 5E6 \n",
    "i = .1\n",
    "n = 5\n",
    "AV = npf.pmt(i, n, pv=0, fv=F)\n",
    "\n",
    "P = 100E6\n",
    "AV += npf.pmt(i, n, pv=P, fv=0)\n",
    "\n",
    "AV+=-3E6\n",
    "\n",
    "print(\"Annual Value of FV: \", AV)\n",
    "print(\"Capital Cost: \", AV/i)\n"
   ]
  },
  {
   "cell_type": "code",
   "execution_count": 59,
   "metadata": {},
   "outputs": [
    {
     "name": "stdout",
     "output_type": "stream",
     "text": [
      "Future Value of Annuity:  70803.10677312873\n"
     ]
    }
   ],
   "source": [
    "P=8E6/((1.07)**70-1)\n",
    "i = .07\n",
    "n=70 \n",
    "FV = npf.fv(i, n, 0, -P)-8E6\n",
    "print(\"Future Value of Annuity: \", FV)"
   ]
  },
  {
   "cell_type": "code",
   "execution_count": 64,
   "metadata": {},
   "outputs": [
    {
     "name": "stdout",
     "output_type": "stream",
     "text": [
      "Equivalent Uniform Annual Cost:  -127.90200218189172\n"
     ]
    }
   ],
   "source": [
    "#Calculate EUAC\n",
    "P = 1000\n",
    "i = .07\n",
    "n = 10\n",
    "F = -200\n",
    "EUAC = npf.pmt(i, n, pv=P, fv=F)\n",
    "print(\"Equivalent Uniform Annual Cost: \", EUAC)"
   ]
  },
  {
   "cell_type": "code",
   "execution_count": 67,
   "metadata": {},
   "outputs": [
    {
     "name": "stdout",
     "output_type": "stream",
     "text": [
      "Present Value of FVs:  -531.0119221615388\n",
      "Equivalent Uniform Annual Cost:  129.5088664526265\n"
     ]
    }
   ],
   "source": [
    "FVs = [45,90,180,135,225]\n",
    "i = .07\n",
    "PV = 0\n",
    "\n",
    "year = 1\n",
    "for FV in FVs:\n",
    "    PV += npf.pv(i, year, 0, FV)\n",
    "    year += 1\n",
    "\n",
    "print(\"Present Value of FVs: \", PV)\n",
    "\n",
    "#EUAC\n",
    "EUAC = npf.pmt(i, 5, pv=PV, fv=0)\n",
    "print(\"Equivalent Uniform Annual Cost: \", EUAC)"
   ]
  },
  {
   "cell_type": "code",
   "execution_count": 72,
   "metadata": {},
   "outputs": [
    {
     "name": "stdout",
     "output_type": "stream",
     "text": [
      "Annual Value of Annuity:  -0.31722143186933094\n"
     ]
    }
   ],
   "source": [
    "P = 5\n",
    "n = 50\n",
    "i = .06\n",
    "\n",
    "A = npf.pmt(i, n, pv=P, fv=0)\n",
    "print(\"Annual Value of Annuity: \", A)"
   ]
  },
  {
   "cell_type": "code",
   "execution_count": 77,
   "metadata": {},
   "outputs": [
    {
     "name": "stdout",
     "output_type": "stream",
     "text": [
      "-0.22341742271151963\n"
     ]
    }
   ],
   "source": [
    "P = 15E3\n",
    "i = .1\n",
    "n = 20\n",
    "A = npf.pmt(i, n, pv=P, fv=0)\n",
    "A+=-1.5E3\n",
    "print(A/365/40)"
   ]
  },
  {
   "cell_type": "code",
   "execution_count": 75,
   "metadata": {},
   "outputs": [
    {
     "data": {
      "text/plain": [
       "0.01541095890410959"
      ]
     },
     "execution_count": 75,
     "metadata": {},
     "output_type": "execute_result"
    }
   ],
   "source": [
    ".1*(1.5E3*20+15E3)/20/365/40"
   ]
  },
  {
   "cell_type": "code",
   "execution_count": 78,
   "metadata": {},
   "outputs": [],
   "source": [
    "from scipy.stats import *"
   ]
  },
  {
   "cell_type": "code",
   "execution_count": 125,
   "metadata": {},
   "outputs": [
    {
     "name": "stdout",
     "output_type": "stream",
     "text": [
      "Probability of  0  failures:  0.9888937080351811\n",
      "Probability of  1  failures:  2.5425610446356762e-17\n",
      "Probability of  2  failures:  2.9090774995644917e-32\n",
      "Probability of  3  failures:  2.9542491540831304e-93\n",
      "Probability of 3 or less failures:  0.9888937080351811\n"
     ]
    }
   ],
   "source": [
    "# P = .01\n",
    "n = 10 \n",
    "P = 0.00111621929487129\n",
    "P_f = 0 \n",
    "for k in range(0,4):\n",
    "    P = binom.pmf(k, n, P)\n",
    "    P_f += P\n",
    "    print(\"Probability of \", k, \" failures: \", P)\n",
    "\n",
    "print(\"Probability of 3 or less failures: \", P_f)\n",
    "\n"
   ]
  },
  {
   "cell_type": "code",
   "execution_count": 97,
   "metadata": {},
   "outputs": [],
   "source": [
    "from sympy import *\n",
    "from sympy.functions.combinatorial.numbers import nC\n"
   ]
  },
  {
   "cell_type": "code",
   "execution_count": 123,
   "metadata": {},
   "outputs": [
    {
     "data": {
      "text/latex": [
       "$\\displaystyle P = p^{k} \\left(1 - p\\right)^{- k + n}$"
      ],
      "text/plain": [
       "Eq(P, p**k*(1 - p)**(-k + n))"
      ]
     },
     "execution_count": 123,
     "metadata": {},
     "output_type": "execute_result"
    }
   ],
   "source": [
    "P, n, k = symbols('P n k')\n",
    "p = symbols(\"p\")\n",
    "binomFormula = Eq(P,p**k*(1-p)**(n-k))\n",
    "binomFormula\n"
   ]
  },
  {
   "cell_type": "code",
   "execution_count": 124,
   "metadata": {},
   "outputs": [
    {
     "data": {
      "text/latex": [
       "$\\displaystyle P_{0} = \\left(p - 1\\right)^{10}$"
      ],
      "text/plain": [
       "Eq(P_0, (p - 1)**10)"
      ]
     },
     "metadata": {},
     "output_type": "display_data"
    },
    {
     "data": {
      "text/latex": [
       "$\\displaystyle P_{1} = - p \\left(p - 1\\right)^{9}$"
      ],
      "text/plain": [
       "Eq(P_1, -p*(p - 1)**9)"
      ]
     },
     "metadata": {},
     "output_type": "display_data"
    },
    {
     "data": {
      "text/latex": [
       "$\\displaystyle P_{2} = p^{2} \\left(p - 1\\right)^{8}$"
      ],
      "text/plain": [
       "Eq(P_2, p**2*(p - 1)**8)"
      ]
     },
     "metadata": {},
     "output_type": "display_data"
    },
    {
     "data": {
      "text/latex": [
       "$\\displaystyle P_{3} = - p^{3} \\left(p - 1\\right)^{7}$"
      ],
      "text/plain": [
       "Eq(P_3, -p**3*(p - 1)**7)"
      ]
     },
     "metadata": {},
     "output_type": "display_data"
    },
    {
     "data": {
      "text/latex": [
       "$\\displaystyle 0.99 = - p^{3} \\left(p - 1\\right)^{7} + p^{2} \\left(p - 1\\right)^{8} - p \\left(p - 1\\right)^{9} + \\left(p - 1\\right)^{10}$"
      ],
      "text/plain": [
       "Eq(0.99, -p**3*(p - 1)**7 + p**2*(p - 1)**8 - p*(p - 1)**9 + (p - 1)**10)"
      ]
     },
     "metadata": {},
     "output_type": "display_data"
    },
    {
     "data": {
      "text/latex": [
       "$\\displaystyle p = 0.00111621929487129$"
      ],
      "text/plain": [
       "Eq(p, 0.00111621929487129)"
      ]
     },
     "metadata": {},
     "output_type": "display_data"
    }
   ],
   "source": [
    "n = 10\n",
    "P_k = []\n",
    "nCx = [1,10,45,120]\n",
    "i = 0\n",
    "for k in range(0,4):\n",
    "    P = solve(binomFormula.subs({\n",
    "        \"n\" : n, \n",
    "        \"k\" : k,\n",
    "    }),\"P\")[0]*nCx[i]\n",
    "    display(Eq(symbols(\"P_\"+str(k)), P))\n",
    "    P_k.append(P)\n",
    "\n",
    "P_k = sum(P_k)\n",
    "eq = Eq(.99, P_k)\n",
    "display(eq)\n",
    "display(Eq(symbols(\"p\"), solve(eq, \"p\")[0]))\n",
    "    "
   ]
  },
  {
   "cell_type": "code",
   "execution_count": null,
   "metadata": {},
   "outputs": [],
   "source": []
  },
  {
   "cell_type": "code",
   "execution_count": null,
   "metadata": {},
   "outputs": [],
   "source": []
  },
  {
   "cell_type": "code",
   "execution_count": null,
   "metadata": {},
   "outputs": [],
   "source": []
  },
  {
   "cell_type": "code",
   "execution_count": null,
   "metadata": {},
   "outputs": [],
   "source": []
  },
  {
   "cell_type": "code",
   "execution_count": null,
   "metadata": {},
   "outputs": [],
   "source": []
  },
  {
   "cell_type": "code",
   "execution_count": null,
   "metadata": {},
   "outputs": [],
   "source": []
  },
  {
   "cell_type": "code",
   "execution_count": null,
   "metadata": {},
   "outputs": [],
   "source": []
  },
  {
   "cell_type": "code",
   "execution_count": null,
   "metadata": {},
   "outputs": [],
   "source": []
  },
  {
   "cell_type": "code",
   "execution_count": null,
   "metadata": {},
   "outputs": [],
   "source": []
  },
  {
   "cell_type": "code",
   "execution_count": null,
   "metadata": {},
   "outputs": [],
   "source": []
  },
  {
   "cell_type": "code",
   "execution_count": null,
   "metadata": {},
   "outputs": [],
   "source": []
  },
  {
   "cell_type": "code",
   "execution_count": null,
   "metadata": {},
   "outputs": [],
   "source": []
  },
  {
   "cell_type": "code",
   "execution_count": null,
   "metadata": {},
   "outputs": [],
   "source": []
  },
  {
   "cell_type": "code",
   "execution_count": null,
   "metadata": {},
   "outputs": [],
   "source": []
  }
 ],
 "metadata": {
  "kernelspec": {
   "display_name": "Python 3.10.6 64-bit",
   "language": "python",
   "name": "python3"
  },
  "language_info": {
   "codemirror_mode": {
    "name": "ipython",
    "version": 3
   },
   "file_extension": ".py",
   "mimetype": "text/x-python",
   "name": "python",
   "nbconvert_exporter": "python",
   "pygments_lexer": "ipython3",
   "version": "3.10.6"
  },
  "orig_nbformat": 4,
  "vscode": {
   "interpreter": {
    "hash": "aee8b7b246df8f9039afb4144a1f6fd8d2ca17a180786b69acc140d282b71a49"
   }
  }
 },
 "nbformat": 4,
 "nbformat_minor": 2
}
