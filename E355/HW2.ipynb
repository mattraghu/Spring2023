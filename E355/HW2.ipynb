{
 "cells": [
  {
   "cell_type": "code",
   "execution_count": 1,
   "metadata": {},
   "outputs": [],
   "source": [
    "import numpy as np\n",
    "import numpy_financial as npf"
   ]
  },
  {
   "cell_type": "code",
   "execution_count": 24,
   "metadata": {},
   "outputs": [
    {
     "name": "stdout",
     "output_type": "stream",
     "text": [
      "Present Worth of Automaker A is:  7834451.462603223\n",
      "Present Worth of Automaker B is:  7277122.270045783\n",
      "--------------------\n",
      "Annual Worth of Automaker A is:  1264793.2\n",
      "Annual Worth of Automaker B is:  1174816.0\n",
      "--------------------\n",
      "Future Worth of Automaker A is:  30522834.81307674\n",
      "Future Worth of Automaker B is:  28351493.65892736\n"
     ]
    }
   ],
   "source": [
    "#Calculate Present Worth\n",
    "\n",
    "#2.1 Port Authority is considering replacing part of their engine fleet. They have narrowed their choices down to two alternatives.\n",
    "\n",
    "#Description\tFirst Cost\tSalvage Value\tAnnual Benefit\tAnnual Cost\tLife\tMARR\n",
    "#Automaker A\t690,000\t28,000\t1,400,000\t25,000\t12\t12%\n",
    "#Automaker B\t600,000\t40,000\t1,300,000\t30,000\t12\t12%\n",
    "\n",
    "#a) Calculate the PW for both the alternatives. (Do not use AW or FW) [6 point]\n",
    "pw = npf.pv(rate=0.12, nper=12, pmt=0, fv=-28000) #Present Worth of Salvage Value\n",
    "pw += npf.pv(rate=0.12, nper=12, pmt=25000, fv=0) #Present Worth of Annual Cost\n",
    "pw += npf.pv(rate=0.12, nper=12, pmt=-1400000, fv=0) #Present Worth of Annual Benefit\n",
    "pw += -690000 #Present Worth of First Cost\n",
    "print(\"Present Worth of Automaker A is: \", pw)\n",
    "\n",
    "pw = npf.pv(rate=0.12, nper=12, pmt=0, fv=-40000) #Present Worth of Salvage Value\n",
    "pw += npf.pv(rate=0.12, nper=12, pmt=30000, fv=0) #Present Worth of Annual Cost\n",
    "pw += npf.pv(rate=0.12, nper=12, pmt=-1300000, fv=0) #Present Worth of Annual Benefit\n",
    "pw += -600000 #Present Worth of First Cost\n",
    "print(\"Present Worth of Automaker B is: \", pw)\n",
    "\n",
    "\n",
    "#b) Calculate the AW for both thealternatives. (Do not use PW or FW) [6 points]\n",
    "print(\"--------------------\")\n",
    "aw = .0414 * 28000 #Annual Worth of Salvage Value\n",
    "aw += .1614 * -690000 #Annual Worth of First Cost\n",
    "aw += 1400000 #Annual Worth of Annual Benefit\n",
    "aw += -25000 #Annual Worth of Annual Cost\n",
    "print(\"Annual Worth of Automaker A is: \", aw)\n",
    "\n",
    "aw = .0414 * 40000 #Annual Worth of Salvage Value\n",
    "aw += .1614 * -600000 #Annual Worth of First Cost\n",
    "aw += 1300000 #Annual Worth of Annual Benefit\n",
    "aw += -30000 #Annual Worth of Annual Cost\n",
    "print(\"Annual Worth of Automaker B is: \", aw)\n",
    "\n",
    "\n",
    "#c) Calculate the FW for both the alternatives. (Do not use PW or AW) [6 points]\n",
    "print(\"--------------------\")\n",
    "fw = npf.fv(rate=0.12, nper=12, pmt=0, pv=690000) #Future Worth of First Cost\n",
    "fw += npf.fv(rate=0.12, nper=12, pmt=25000, pv=0) #Future Worth of Annual Cost\n",
    "fw += npf.fv(rate=0.12, nper=12, pmt=-1400000, pv=0) #Future Worth of Annual Benefit\n",
    "fw += 28000 #Future Worth of Salvage Value\n",
    "print(\"Future Worth of Automaker A is: \", fw)\n",
    "\n",
    "fw = npf.fv(rate=0.12, nper=12, pmt=0, pv=600000) #Future Worth of First Cost\n",
    "fw += npf.fv(rate=0.12, nper=12, pmt=30000, pv=0) #Future Worth of Annual Cost\n",
    "fw += npf.fv(rate=0.12, nper=12, pmt=-1300000, pv=0) #Future Worth of Annual Benefit\n",
    "fw += 40000 #Future Worth of Salvage Value\n",
    "print(\"Future Worth of Automaker B is: \", fw)\n"
   ]
  },
  {
   "cell_type": "code",
   "execution_count": null,
   "metadata": {},
   "outputs": [],
   "source": [
    "#2.2 Stevens Manufacturing Company is trying to decide between three manufacturing facility systems.\n",
    "\n",
    "#System\tSalvage Value\tInstalled Cost\tAnnual O&M\n",
    "#System A\t10,000\t65,000\t34,000\n",
    "#System B\t8,000\t69,000\t32,000\n",
    "#System C\t9,000\t73,000\t30,000\n"
   ]
  }
 ],
 "metadata": {
  "kernelspec": {
   "display_name": "Python 3",
   "language": "python",
   "name": "python3"
  },
  "language_info": {
   "codemirror_mode": {
    "name": "ipython",
    "version": 3
   },
   "file_extension": ".py",
   "mimetype": "text/x-python",
   "name": "python",
   "nbconvert_exporter": "python",
   "pygments_lexer": "ipython3",
   "version": "3.11.0"
  },
  "orig_nbformat": 4,
  "vscode": {
   "interpreter": {
    "hash": "c261aea317cc0286b3b3261fbba9abdec21eaa57589985bb7a274bf54d6cc0a7"
   }
  }
 },
 "nbformat": 4,
 "nbformat_minor": 2
}
